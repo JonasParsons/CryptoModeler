{
 "cells": [
  {
   "cell_type": "code",
   "execution_count": null,
   "metadata": {},
   "outputs": [
    {
     "name": "stderr",
     "output_type": "stream",
     "text": [
      "2025-01-09 07:46:59.630162: E external/local_xla/xla/stream_executor/cuda/cuda_fft.cc:477] Unable to register cuFFT factory: Attempting to register factory for plugin cuFFT when one has already been registered\n",
      "WARNING: All log messages before absl::InitializeLog() is called are written to STDERR\n",
      "E0000 00:00:1736434019.736247    8252 cuda_dnn.cc:8310] Unable to register cuDNN factory: Attempting to register factory for plugin cuDNN when one has already been registered\n",
      "E0000 00:00:1736434019.764113    8252 cuda_blas.cc:1418] Unable to register cuBLAS factory: Attempting to register factory for plugin cuBLAS when one has already been registered\n",
      "2025-01-09 07:46:59.890288: I tensorflow/core/platform/cpu_feature_guard.cc:210] This TensorFlow binary is optimized to use available CPU instructions in performance-critical operations.\n",
      "To enable the following instructions: AVX2 FMA, in other operations, rebuild TensorFlow with the appropriate compiler flags.\n",
      "/home/jonas/Projects/CryptoModeler/.venv/lib/python3.10/site-packages/tqdm/auto.py:21: TqdmWarning: IProgress not found. Please update jupyter and ipywidgets. See https://ipywidgets.readthedocs.io/en/stable/user_install.html\n",
      "  from .autonotebook import tqdm as notebook_tqdm\n"
     ]
    },
    {
     "ename": "",
     "evalue": "",
     "output_type": "error",
     "traceback": [
      "\u001b[1;31mThe Kernel crashed while executing code in the current cell or a previous cell. \n",
      "\u001b[1;31mPlease review the code in the cell(s) to identify a possible cause of the failure. \n",
      "\u001b[1;31mClick <a href='https://aka.ms/vscodeJupyterKernelCrash'>here</a> for more info. \n",
      "\u001b[1;31mView Jupyter <a href='command:jupyter.viewOutput'>log</a> for further details."
     ]
    }
   ],
   "source": [
    "import sys\n",
    "import os\n",
    "import json\n",
    "from importlib import reload  # Import the reload function\n",
    "\n",
    "sys.path.append(os.path.abspath(os.path.join(os.getcwd(), '..')))\n",
    "import utils.tuning as tn\n",
    "\n",
    "reload(tn)\n",
    "%load_ext autoreload\n",
    "%autoreload 1"
   ]
  },
  {
   "cell_type": "code",
   "execution_count": null,
   "metadata": {},
   "outputs": [
    {
     "name": "stdout",
     "output_type": "stream",
     "text": [
      "Deleted existing study 'study_hyped' at ../optuna/study_hyped/study.db\n",
      "Deleted existing configuration for 'study_hyped' at ../optuna/study_hyped/config.json\n"
     ]
    },
    {
     "name": "stderr",
     "output_type": "stream",
     "text": [
      "[I 2025-01-09 07:47:03,366] A new study created in RDB with name: study_hyped\n"
     ]
    },
    {
     "name": "stdout",
     "output_type": "stream",
     "text": [
      "Created new study 'study_hyped' at ../optuna/study_hyped/study.db\n",
      "Saved new configuration for study 'study_hyped':\n",
      "{\n",
      "    \"epochs\": 50,\n",
      "    \"trials\": 200,\n",
      "    \"look_ahead_size\": 20,\n",
      "    \"crypto\": \"ETHUSDT\",\n",
      "    \"timeframe\": \"3m\",\n",
      "    \"timeframe_filenames\": {\n",
      "        \"1m\": \"../data/ETHUSDT_1m_v600k.csv\",\n",
      "        \"3m\": \"../data/ETHUSDT_3m_v600k.csv\",\n",
      "        \"5m\": \"../data/DOGEUSDT_5m_v0.csv\",\n",
      "        \"15m\": \"../data/DOGEUSDT_15m_v0.csv\",\n",
      "        \"30m\": \"../data/DOGEUSDT_30m_v0.csv\"\n",
      "    },\n",
      "    \"val_size\": 500\n",
      "}\n",
      "Dataset loaded from ../data/ETHUSDT_3m_v600k.csv.\n",
      "Trial Hyperparams: {'lstm_units_1': 256, 'lstm_units_2': 64, 'dropout': 0.5, 'learning_rate': 0.002341924954901732, 'batch_size': 64, 'dense_units': 32, 'sequence_length': 10, 'gradient_clipping': 0.5, 'optimizer': 'rmsprop', 'activation': 'tanh', 'num_indicators': 10, 'scaler_type': 'MinMaxScaler', 'window_size': 40, 'look_ahead_size': 20, 'window_shift': 5, 'crypto': 'ETHUSDT', 'timeframe': '3m', 'timeframe_filenames': {'1m': '../data/ETHUSDT_1m_v600k.csv', '3m': '../data/ETHUSDT_3m_v600k.csv', '5m': '../data/DOGEUSDT_5m_v0.csv', '15m': '../data/DOGEUSDT_15m_v0.csv', '30m': '../data/DOGEUSDT_30m_v0.csv'}, 'epochs': 50, 'train_size': 10000, 'val_size': 500, 'step_size': 1000, 'shuffle': True}\n"
     ]
    },
    {
     "name": "stderr",
     "output_type": "stream",
     "text": [
      "I0000 00:00:1736434033.194700    8252 gpu_device.cc:2022] Created device /job:localhost/replica:0/task:0/device:GPU:0 with 5007 MB memory:  -> device: 0, name: NVIDIA GeForce GTX 1060, pci bus id: 0000:02:00.0, compute capability: 6.1\n",
      "I0000 00:00:1736434036.089410    8879 cuda_dnn.cc:529] Loaded cuDNN version 90300\n"
     ]
    },
    {
     "name": "stdout",
     "output_type": "stream",
     "text": [
      "\u001b[1m165/165\u001b[0m \u001b[32m━━━━━━━━━━━━━━━━━━━━\u001b[0m\u001b[37m\u001b[0m \u001b[1m6s\u001b[0m 14ms/step - loss: 0.1105 - mae: 0.2000 - val_loss: 0.0131 - val_mae: 0.0567\n",
      "\u001b[1m165/165\u001b[0m \u001b[32m━━━━━━━━━━━━━━━━━━━━\u001b[0m\u001b[37m\u001b[0m \u001b[1m2s\u001b[0m 12ms/step - loss: 0.0078 - mae: 0.0609 - val_loss: 0.0055 - val_mae: 0.0421\n",
      "\u001b[1m165/165\u001b[0m \u001b[32m━━━━━━━━━━━━━━━━━━━━\u001b[0m\u001b[37m\u001b[0m \u001b[1m2s\u001b[0m 12ms/step - loss: 0.0065 - mae: 0.0518 - val_loss: 0.0078 - val_mae: 0.0737\n",
      "\u001b[1m165/165\u001b[0m \u001b[32m━━━━━━━━━━━━━━━━━━━━\u001b[0m\u001b[37m\u001b[0m \u001b[1m2s\u001b[0m 12ms/step - loss: 0.0059 - mae: 0.0485 - val_loss: 0.0078 - val_mae: 0.0594\n",
      "\u001b[1m165/165\u001b[0m \u001b[32m━━━━━━━━━━━━━━━━━━━━\u001b[0m\u001b[37m\u001b[0m \u001b[1m2s\u001b[0m 12ms/step - loss: 0.0055 - mae: 0.0471 - val_loss: 0.0044 - val_mae: 0.0449\n",
      "\u001b[1m165/165\u001b[0m \u001b[32m━━━━━━━━━━━━━━━━━━━━\u001b[0m\u001b[37m\u001b[0m \u001b[1m2s\u001b[0m 12ms/step - loss: 0.0057 - mae: 0.0460 - val_loss: 0.0065 - val_mae: 0.0447\n",
      "\u001b[1m165/165\u001b[0m \u001b[32m━━━━━━━━━━━━━━━━━━━━\u001b[0m\u001b[37m\u001b[0m \u001b[1m2s\u001b[0m 12ms/step - loss: 0.0053 - mae: 0.0459 - val_loss: 0.0067 - val_mae: 0.0479\n",
      "\u001b[1m165/165\u001b[0m \u001b[32m━━━━━━━━━━━━━━━━━━━━\u001b[0m\u001b[37m\u001b[0m \u001b[1m2s\u001b[0m 12ms/step - loss: 0.0056 - mae: 0.0468 - val_loss: 0.0055 - val_mae: 0.0401\n",
      "\u001b[1m165/165\u001b[0m \u001b[32m━━━━━━━━━━━━━━━━━━━━\u001b[0m\u001b[37m\u001b[0m \u001b[1m2s\u001b[0m 12ms/step - loss: 0.0059 - mae: 0.0466 - val_loss: 0.0074 - val_mae: 0.0498\n",
      "\u001b[1m165/165\u001b[0m \u001b[32m━━━━━━━━━━━━━━━━━━━━\u001b[0m\u001b[37m\u001b[0m \u001b[1m2s\u001b[0m 12ms/step - loss: 0.0057 - mae: 0.0465 - val_loss: 0.0052 - val_mae: 0.0425\n",
      "\u001b[1m165/165\u001b[0m \u001b[32m━━━━━━━━━━━━━━━━━━━━\u001b[0m\u001b[37m\u001b[0m \u001b[1m2s\u001b[0m 12ms/step - loss: 0.0053 - mae: 0.0456 - val_loss: 0.0047 - val_mae: 0.0538\n",
      "\u001b[1m165/165\u001b[0m \u001b[32m━━━━━━━━━━━━━━━━━━━━\u001b[0m\u001b[37m\u001b[0m \u001b[1m2s\u001b[0m 12ms/step - loss: 0.0055 - mae: 0.0458 - val_loss: 0.0066 - val_mae: 0.0471\n",
      "\u001b[1m165/165\u001b[0m \u001b[32m━━━━━━━━━━━━━━━━━━━━\u001b[0m\u001b[37m\u001b[0m \u001b[1m2s\u001b[0m 12ms/step - loss: 0.0052 - mae: 0.0455 - val_loss: 0.0069 - val_mae: 0.0461\n",
      "\u001b[1m165/165\u001b[0m \u001b[32m━━━━━━━━━━━━━━━━━━━━\u001b[0m\u001b[37m\u001b[0m \u001b[1m2s\u001b[0m 12ms/step - loss: 0.0055 - mae: 0.0460 - val_loss: 0.0058 - val_mae: 0.0484\n",
      "Reached end of data, stopping training.\n",
      "\u001b[1m758/758\u001b[0m \u001b[32m━━━━━━━━━━━━━━━━━━━━\u001b[0m\u001b[37m\u001b[0m \u001b[1m3s\u001b[0m 4ms/step\n"
     ]
    },
    {
     "name": "stderr",
     "output_type": "stream",
     "text": [
      "[I 2025-01-09 07:47:58,717] Trial 0 finished with value: 0.0049207896539101865 and parameters: {'lstm_units_1': 256, 'lstm_units_2': 64, 'dropout': 0.5, 'learning_rate': 0.002341924954901732, 'batch_size': 64, 'dense_units': 32, 'sequence_length': 10, 'gradient_clipping': 0.5, 'optimizer': 'rmsprop', 'activation': 'tanh', 'num_indicators': 10, 'scaler_type': 'MinMaxScaler', 'window_size': 40, 'window_shift': 5, 'train_size': 10000, 'step_size': 1000}. Best is trial 0 with value: 0.0049207896539101865.\n"
     ]
    },
    {
     "name": "stdout",
     "output_type": "stream",
     "text": [
      "Dataset loaded from ../data/ETHUSDT_3m_v600k.csv.\n",
      "Trial Hyperparams: {'lstm_units_1': 64, 'lstm_units_2': 32, 'dropout': 0.2, 'learning_rate': 0.006642058601133434, 'batch_size': 128, 'dense_units': 128, 'sequence_length': 100, 'gradient_clipping': 0.5, 'optimizer': 'adam', 'activation': 'tanh', 'num_indicators': 38, 'scaler_type': 'RobustScaler', 'window_size': 100, 'look_ahead_size': 20, 'window_shift': 5, 'crypto': 'ETHUSDT', 'timeframe': '3m', 'timeframe_filenames': {'1m': '../data/ETHUSDT_1m_v600k.csv', '3m': '../data/ETHUSDT_3m_v600k.csv', '5m': '../data/DOGEUSDT_5m_v0.csv', '15m': '../data/DOGEUSDT_15m_v0.csv', '30m': '../data/DOGEUSDT_30m_v0.csv'}, 'epochs': 50, 'train_size': 3000, 'val_size': 500, 'step_size': 3000, 'shuffle': True}\n",
      "\u001b[1m28/28\u001b[0m \u001b[32m━━━━━━━━━━━━━━━━━━━━\u001b[0m\u001b[37m\u001b[0m \u001b[1m3s\u001b[0m 27ms/step - loss: 0.1220 - mae: 0.2461 - val_loss: 0.0124 - val_mae: 0.0662\n",
      "\u001b[1m28/28\u001b[0m \u001b[32m━━━━━━━━━━━━━━━━━━━━\u001b[0m\u001b[37m\u001b[0m \u001b[1m1s\u001b[0m 18ms/step - loss: 0.0107 - mae: 0.0705 - val_loss: 0.0066 - val_mae: 0.0517\n",
      "\u001b[1m28/28\u001b[0m \u001b[32m━━━━━━━━━━━━━━━━━━━━\u001b[0m\u001b[37m\u001b[0m \u001b[1m1s\u001b[0m 18ms/step - loss: 0.0080 - mae: 0.0550 - val_loss: 0.0070 - val_mae: 0.0526\n",
      "\u001b[1m28/28\u001b[0m \u001b[32m━━━━━━━━━━━━━━━━━━━━\u001b[0m\u001b[37m\u001b[0m \u001b[1m1s\u001b[0m 18ms/step - loss: 0.0068 - mae: 0.0530 - val_loss: 0.0067 - val_mae: 0.0490\n",
      "\u001b[1m28/28\u001b[0m \u001b[32m━━━━━━━━━━━━━━━━━━━━\u001b[0m\u001b[37m\u001b[0m \u001b[1m1s\u001b[0m 18ms/step - loss: 0.0067 - mae: 0.0517 - val_loss: 0.0054 - val_mae: 0.0463\n",
      "\u001b[1m28/28\u001b[0m \u001b[32m━━━━━━━━━━━━━━━━━━━━\u001b[0m\u001b[37m\u001b[0m \u001b[1m1s\u001b[0m 18ms/step - loss: 0.0066 - mae: 0.0514 - val_loss: 0.0057 - val_mae: 0.0463\n",
      "\u001b[1m28/28\u001b[0m \u001b[32m━━━━━━━━━━━━━━━━━━━━\u001b[0m\u001b[37m\u001b[0m \u001b[1m1s\u001b[0m 18ms/step - loss: 0.0062 - mae: 0.0487 - val_loss: 0.0078 - val_mae: 0.0504\n",
      "Reached end of data, stopping training.\n",
      "\u001b[1m757/757\u001b[0m \u001b[32m━━━━━━━━━━━━━━━━━━━━\u001b[0m\u001b[37m\u001b[0m \u001b[1m3s\u001b[0m 4ms/step\n"
     ]
    },
    {
     "name": "stderr",
     "output_type": "stream",
     "text": [
      "[I 2025-01-09 07:48:31,454] Trial 1 finished with value: 0.004891744877325998 and parameters: {'lstm_units_1': 64, 'lstm_units_2': 32, 'dropout': 0.2, 'learning_rate': 0.006642058601133434, 'batch_size': 128, 'dense_units': 128, 'sequence_length': 100, 'gradient_clipping': 0.5, 'optimizer': 'adam', 'activation': 'tanh', 'num_indicators': 38, 'scaler_type': 'RobustScaler', 'window_size': 100, 'window_shift': 5, 'train_size': 3000, 'step_size': 3000}. Best is trial 1 with value: 0.004891744877325998.\n"
     ]
    },
    {
     "name": "stdout",
     "output_type": "stream",
     "text": [
      "Dataset loaded from ../data/ETHUSDT_3m_v600k.csv.\n",
      "Trial Hyperparams: {'lstm_units_1': 256, 'lstm_units_2': 64, 'dropout': 0.3, 'learning_rate': 0.005993014871643536, 'batch_size': 128, 'dense_units': 16, 'sequence_length': 20, 'gradient_clipping': 0.5, 'optimizer': 'adam', 'activation': 'relu', 'num_indicators': 35, 'scaler_type': 'RobustScaler', 'window_size': 100, 'look_ahead_size': 20, 'window_shift': 1, 'crypto': 'ETHUSDT', 'timeframe': '3m', 'timeframe_filenames': {'1m': '../data/ETHUSDT_1m_v600k.csv', '3m': '../data/ETHUSDT_3m_v600k.csv', '5m': '../data/DOGEUSDT_5m_v0.csv', '15m': '../data/DOGEUSDT_15m_v0.csv', '30m': '../data/DOGEUSDT_30m_v0.csv'}, 'epochs': 50, 'train_size': 20000, 'val_size': 500, 'step_size': 200, 'shuffle': True}\n"
     ]
    },
    {
     "name": "stderr",
     "output_type": "stream",
     "text": [
      "WARNING: All log messages before absl::InitializeLog() is called are written to STDERR\n",
      "I0000 00:00:1736434126.491660    8876 service.cc:148] XLA service 0x733f5c00d470 initialized for platform CUDA (this does not guarantee that XLA will be used). Devices:\n",
      "I0000 00:00:1736434126.499163    8876 service.cc:156]   StreamExecutor device (0): NVIDIA GeForce GTX 1060, Compute Capability 6.1\n",
      "2025-01-09 07:48:46.590789: I tensorflow/compiler/mlir/tensorflow/utils/dump_mlir_util.cc:268] disabling MLIR crash reproducer, set env var `MLIR_CRASH_REPRODUCER_DIRECTORY` to enable.\n"
     ]
    },
    {
     "name": "stdout",
     "output_type": "stream",
     "text": [
      "\u001b[1m  3/161\u001b[0m \u001b[37m━━━━━━━━━━━━━━━━━━━━\u001b[0m \u001b[1m7s\u001b[0m 47ms/step - loss: 214434127812755456.0000 - mae: 58319600.0000"
     ]
    },
    {
     "name": "stderr",
     "output_type": "stream",
     "text": [
      "I0000 00:00:1736434129.933788    8876 device_compiler.h:188] Compiled cluster using XLA!  This line is logged at most once for the lifetime of the process.\n"
     ]
    },
    {
     "name": "stdout",
     "output_type": "stream",
     "text": [
      "\u001b[1m161/161\u001b[0m \u001b[32m━━━━━━━━━━━━━━━━━━━━\u001b[0m\u001b[37m\u001b[0m \u001b[1m19s\u001b[0m 80ms/step - loss: 488685859672619110278077874176.0000 - mae: 50937997557760.0000 - val_loss: 0.2675 - val_mae: 0.4962\n",
      "\u001b[1m161/161\u001b[0m \u001b[32m━━━━━━━━━━━━━━━━━━━━\u001b[0m\u001b[37m\u001b[0m \u001b[1m8s\u001b[0m 51ms/step - loss: 176586394964066304.0000 - mae: 1613351.0000 - val_loss: 0.0157 - val_mae: 0.1096\n",
      "\u001b[1m161/161\u001b[0m \u001b[32m━━━━━━━━━━━━━━━━━━━━\u001b[0m\u001b[37m\u001b[0m \u001b[1m8s\u001b[0m 52ms/step - loss: 1974390180063224004608.0000 - mae: 418673920.0000 - val_loss: 0.0063 - val_mae: 0.0500\n",
      "\u001b[1m161/161\u001b[0m \u001b[32m━━━━━━━━━━━━━━━━━━━━\u001b[0m\u001b[37m\u001b[0m \u001b[1m8s\u001b[0m 51ms/step - loss: 432.4411 - mae: 0.1424 - val_loss: 0.0062 - val_mae: 0.0501\n",
      "\u001b[1m161/161\u001b[0m \u001b[32m━━━━━━━━━━━━━━━━━━━━\u001b[0m\u001b[37m\u001b[0m \u001b[1m8s\u001b[0m 51ms/step - loss: 0.0070 - mae: 0.0515 - val_loss: 0.0073 - val_mae: 0.0511\n",
      "\u001b[1m161/161\u001b[0m \u001b[32m━━━━━━━━━━━━━━━━━━━━\u001b[0m\u001b[37m\u001b[0m \u001b[1m8s\u001b[0m 51ms/step - loss: 0.0070 - mae: 0.0516 - val_loss: 0.0085 - val_mae: 0.0546\n",
      "\u001b[1m161/161\u001b[0m \u001b[32m━━━━━━━━━━━━━━━━━━━━\u001b[0m\u001b[37m\u001b[0m \u001b[1m8s\u001b[0m 51ms/step - loss: 0.0067 - mae: 0.0508 - val_loss: 0.0078 - val_mae: 0.0523\n",
      "\u001b[1m161/161\u001b[0m \u001b[32m━━━━━━━━━━━━━━━━━━━━\u001b[0m\u001b[37m\u001b[0m \u001b[1m8s\u001b[0m 51ms/step - loss: 0.0071 - mae: 0.0517 - val_loss: 0.0071 - val_mae: 0.0511\n",
      "\u001b[1m161/161\u001b[0m \u001b[32m━━━━━━━━━━━━━━━━━━━━\u001b[0m\u001b[37m\u001b[0m \u001b[1m8s\u001b[0m 50ms/step - loss: 0.0074 - mae: 0.0519 - val_loss: 0.0069 - val_mae: 0.0517\n",
      "\u001b[1m161/161\u001b[0m \u001b[32m━━━━━━━━━━━━━━━━━━━━\u001b[0m\u001b[37m\u001b[0m \u001b[1m8s\u001b[0m 50ms/step - loss: 0.0069 - mae: 0.0514 - val_loss: 0.0066 - val_mae: 0.0526\n",
      "\u001b[1m161/161\u001b[0m \u001b[32m━━━━━━━━━━━━━━━━━━━━\u001b[0m\u001b[37m\u001b[0m \u001b[1m8s\u001b[0m 50ms/step - loss: 0.0070 - mae: 0.0521 - val_loss: 0.0066 - val_mae: 0.0530\n",
      "\u001b[1m161/161\u001b[0m \u001b[32m━━━━━━━━━━━━━━━━━━━━\u001b[0m\u001b[37m\u001b[0m \u001b[1m8s\u001b[0m 51ms/step - loss: 0.0073 - mae: 0.0524 - val_loss: 0.0068 - val_mae: 0.0540\n",
      "\u001b[1m161/161\u001b[0m \u001b[32m━━━━━━━━━━━━━━━━━━━━\u001b[0m\u001b[37m\u001b[0m \u001b[1m8s\u001b[0m 51ms/step - loss: 0.0069 - mae: 0.0518 - val_loss: 0.0067 - val_mae: 0.0536\n",
      "\u001b[1m161/161\u001b[0m \u001b[32m━━━━━━━━━━━━━━━━━━━━\u001b[0m\u001b[37m\u001b[0m \u001b[1m8s\u001b[0m 50ms/step - loss: 0.0071 - mae: 0.0519 - val_loss: 0.0067 - val_mae: 0.0530\n",
      "\u001b[1m161/161\u001b[0m \u001b[32m━━━━━━━━━━━━━━━━━━━━\u001b[0m\u001b[37m\u001b[0m \u001b[1m8s\u001b[0m 51ms/step - loss: 0.0072 - mae: 0.0521 - val_loss: 0.0069 - val_mae: 0.0534\n",
      "\u001b[1m161/161\u001b[0m \u001b[32m━━━━━━━━━━━━━━━━━━━━\u001b[0m\u001b[37m\u001b[0m \u001b[1m8s\u001b[0m 50ms/step - loss: 0.0069 - mae: 0.0515 - val_loss: 0.0067 - val_mae: 0.0535\n",
      "\u001b[1m161/161\u001b[0m \u001b[32m━━━━━━━━━━━━━━━━━━━━\u001b[0m\u001b[37m\u001b[0m \u001b[1m8s\u001b[0m 50ms/step - loss: 0.0069 - mae: 0.0516 - val_loss: 0.0058 - val_mae: 0.0510\n",
      "\u001b[1m161/161\u001b[0m \u001b[32m━━━━━━━━━━━━━━━━━━━━\u001b[0m\u001b[37m\u001b[0m \u001b[1m8s\u001b[0m 50ms/step - loss: 0.0069 - mae: 0.0517 - val_loss: 0.0062 - val_mae: 0.0518\n",
      "\u001b[1m161/161\u001b[0m \u001b[32m━━━━━━━━━━━━━━━━━━━━\u001b[0m\u001b[37m\u001b[0m \u001b[1m8s\u001b[0m 50ms/step - loss: 0.0072 - mae: 0.0522 - val_loss: 0.0064 - val_mae: 0.0531\n",
      "Reached end of data, stopping training.\n"
     ]
    },
    {
     "name": "stderr",
     "output_type": "stream",
     "text": [
      "2025-01-09 07:52:27.715373: W external/local_xla/xla/tsl/framework/cpu_allocator_impl.cc:83] Allocation of 1695120000 exceeds 10% of free system memory.\n",
      "2025-01-09 07:52:30.121970: W external/local_xla/xla/tsl/framework/cpu_allocator_impl.cc:83] Allocation of 1695120000 exceeds 10% of free system memory.\n"
     ]
    },
    {
     "name": "stdout",
     "output_type": "stream",
     "text": [
      "\u001b[1m3784/3784\u001b[0m \u001b[32m━━━━━━━━━━━━━━━━━━━━\u001b[0m\u001b[37m\u001b[0m \u001b[1m25s\u001b[0m 6ms/step\n"
     ]
    },
    {
     "name": "stderr",
     "output_type": "stream",
     "text": [
      "[I 2025-01-09 07:52:58,316] Trial 2 finished with value: 0.004932211166989829 and parameters: {'lstm_units_1': 256, 'lstm_units_2': 64, 'dropout': 0.3, 'learning_rate': 0.005993014871643536, 'batch_size': 128, 'dense_units': 16, 'sequence_length': 20, 'gradient_clipping': 0.5, 'optimizer': 'adam', 'activation': 'relu', 'num_indicators': 35, 'scaler_type': 'RobustScaler', 'window_size': 100, 'window_shift': 1, 'train_size': 20000, 'step_size': 200}. Best is trial 1 with value: 0.004891744877325998.\n"
     ]
    },
    {
     "name": "stdout",
     "output_type": "stream",
     "text": [
      "Dataset loaded from ../data/ETHUSDT_3m_v600k.csv.\n",
      "Trial Hyperparams: {'lstm_units_1': 64, 'lstm_units_2': 64, 'dropout': 0.1, 'learning_rate': 3.678416018738089e-05, 'batch_size': 16, 'dense_units': 64, 'sequence_length': 20, 'gradient_clipping': 0.5, 'optimizer': 'adam', 'activation': 'relu', 'num_indicators': 24, 'scaler_type': 'StandardScaler', 'window_size': 20, 'look_ahead_size': 20, 'window_shift': 5, 'crypto': 'ETHUSDT', 'timeframe': '3m', 'timeframe_filenames': {'1m': '../data/ETHUSDT_1m_v600k.csv', '3m': '../data/ETHUSDT_3m_v600k.csv', '5m': '../data/DOGEUSDT_5m_v0.csv', '15m': '../data/DOGEUSDT_15m_v0.csv', '30m': '../data/DOGEUSDT_30m_v0.csv'}, 'epochs': 50, 'train_size': 1000, 'val_size': 500, 'step_size': 500, 'shuffle': True}\n",
      "\u001b[1m94/94\u001b[0m \u001b[32m━━━━━━━━━━━━━━━━━━━━\u001b[0m\u001b[37m\u001b[0m \u001b[1m10s\u001b[0m 49ms/step - loss: 20.0342 - mae: 2.3969 - val_loss: 7.8172 - val_mae: 1.4628\n",
      "\u001b[1m94/94\u001b[0m \u001b[32m━━━━━━━━━━━━━━━━━━━━\u001b[0m\u001b[37m\u001b[0m \u001b[1m1s\u001b[0m 7ms/step - loss: 12.5045 - mae: 1.5248 - val_loss: 4.5426 - val_mae: 1.0493\n",
      "\u001b[1m94/94\u001b[0m \u001b[32m━━━━━━━━━━━━━━━━━━━━\u001b[0m\u001b[37m\u001b[0m \u001b[1m1s\u001b[0m 7ms/step - loss: 4.2921 - mae: 1.1216 - val_loss: 1.9241 - val_mae: 0.8514\n",
      "\u001b[1m94/94\u001b[0m \u001b[32m━━━━━━━━━━━━━━━━━━━━\u001b[0m\u001b[37m\u001b[0m \u001b[1m1s\u001b[0m 7ms/step - loss: 2.9841 - mae: 0.9517 - val_loss: 1.8397 - val_mae: 0.7990\n",
      "\u001b[1m94/94\u001b[0m \u001b[32m━━━━━━━━━━━━━━━━━━━━\u001b[0m\u001b[37m\u001b[0m \u001b[1m1s\u001b[0m 7ms/step - loss: 2.7861 - mae: 0.8916 - val_loss: 2.8852 - val_mae: 0.7644\n",
      "\u001b[1m94/94\u001b[0m \u001b[32m━━━━━━━━━━━━━━━━━━━━\u001b[0m\u001b[37m\u001b[0m \u001b[1m1s\u001b[0m 8ms/step - loss: 2.0738 - mae: 0.7758 - val_loss: 2.2430 - val_mae: 0.7394\n",
      "\u001b[1m94/94\u001b[0m \u001b[32m━━━━━━━━━━━━━━━━━━━━\u001b[0m\u001b[37m\u001b[0m \u001b[1m1s\u001b[0m 8ms/step - loss: 2.0610 - mae: 0.7262 - val_loss: 1.0471 - val_mae: 0.6138\n",
      "\u001b[1m94/94\u001b[0m \u001b[32m━━━━━━━━━━━━━━━━━━━━\u001b[0m\u001b[37m\u001b[0m \u001b[1m1s\u001b[0m 7ms/step - loss: 1.6382 - mae: 0.6514 - val_loss: 1.5599 - val_mae: 0.5947\n",
      "\u001b[1m94/94\u001b[0m \u001b[32m━━━━━━━━━━━━━━━━━━━━\u001b[0m\u001b[37m\u001b[0m \u001b[1m1s\u001b[0m 7ms/step - loss: 1.1349 - mae: 0.5964 - val_loss: 1.6283 - val_mae: 0.5617\n",
      "\u001b[1m94/94\u001b[0m \u001b[32m━━━━━━━━━━━━━━━━━━━━\u001b[0m\u001b[37m\u001b[0m \u001b[1m1s\u001b[0m 7ms/step - loss: 2.9176 - mae: 0.6376 - val_loss: 0.4291 - val_mae: 0.4743\n",
      "\u001b[1m94/94\u001b[0m \u001b[32m━━━━━━━━━━━━━━━━━━━━\u001b[0m\u001b[37m\u001b[0m \u001b[1m1s\u001b[0m 7ms/step - loss: 1.3868 - mae: 0.5248 - val_loss: 0.5988 - val_mae: 0.4564\n",
      "\u001b[1m94/94\u001b[0m \u001b[32m━━━━━━━━━━━━━━━━━━━━\u001b[0m\u001b[37m\u001b[0m \u001b[1m1s\u001b[0m 7ms/step - loss: 0.7874 - mae: 0.5229 - val_loss: 0.8846 - val_mae: 0.4915\n",
      "\u001b[1m94/94\u001b[0m \u001b[32m━━━━━━━━━━━━━━━━━━━━\u001b[0m\u001b[37m\u001b[0m \u001b[1m1s\u001b[0m 7ms/step - loss: 0.5784 - mae: 0.4706 - val_loss: 0.3276 - val_mae: 0.4056\n",
      "\u001b[1m94/94\u001b[0m \u001b[32m━━━━━━━━━━━━━━━━━━━━\u001b[0m\u001b[37m\u001b[0m \u001b[1m1s\u001b[0m 7ms/step - loss: 0.3855 - mae: 0.4441 - val_loss: 0.3154 - val_mae: 0.4007\n",
      "\u001b[1m94/94\u001b[0m \u001b[32m━━━━━━━━━━━━━━━━━━━━\u001b[0m\u001b[37m\u001b[0m \u001b[1m1s\u001b[0m 8ms/step - loss: 0.4227 - mae: 0.4465 - val_loss: 0.3576 - val_mae: 0.4033\n",
      "\u001b[1m94/94\u001b[0m \u001b[32m━━━━━━━━━━━━━━━━━━━━\u001b[0m\u001b[37m\u001b[0m \u001b[1m1s\u001b[0m 7ms/step - loss: 0.3761 - mae: 0.4214 - val_loss: 0.2010 - val_mae: 0.3454\n",
      "\u001b[1m94/94\u001b[0m \u001b[32m━━━━━━━━━━━━━━━━━━━━\u001b[0m\u001b[37m\u001b[0m \u001b[1m1s\u001b[0m 7ms/step - loss: 0.3497 - mae: 0.3961 - val_loss: 0.5293 - val_mae: 0.3782\n",
      "\u001b[1m94/94\u001b[0m \u001b[32m━━━━━━━━━━━━━━━━━━━━\u001b[0m\u001b[37m\u001b[0m \u001b[1m1s\u001b[0m 7ms/step - loss: 0.3931 - mae: 0.3921 - val_loss: 0.3338 - val_mae: 0.3636\n",
      "\u001b[1m94/94\u001b[0m \u001b[32m━━━━━━━━━━━━━━━━━━━━\u001b[0m\u001b[37m\u001b[0m \u001b[1m1s\u001b[0m 7ms/step - loss: 0.3142 - mae: 0.3653 - val_loss: 0.2199 - val_mae: 0.3258\n",
      "\u001b[1m94/94\u001b[0m \u001b[32m━━━━━━━━━━━━━━━━━━━━\u001b[0m\u001b[37m\u001b[0m \u001b[1m1s\u001b[0m 7ms/step - loss: 0.4434 - mae: 0.3678 - val_loss: 0.6714 - val_mae: 0.3804\n",
      "\u001b[1m94/94\u001b[0m \u001b[32m━━━━━━━━━━━━━━━━━━━━\u001b[0m\u001b[37m\u001b[0m \u001b[1m1s\u001b[0m 7ms/step - loss: 0.4855 - mae: 0.3832 - val_loss: 0.2150 - val_mae: 0.3282\n",
      "\u001b[1m94/94\u001b[0m \u001b[32m━━━━━━━━━━━━━━━━━━━━\u001b[0m\u001b[37m\u001b[0m \u001b[1m1s\u001b[0m 7ms/step - loss: 0.3407 - mae: 0.3552 - val_loss: 0.1888 - val_mae: 0.3027\n",
      "\u001b[1m94/94\u001b[0m \u001b[32m━━━━━━━━━━━━━━━━━━━━\u001b[0m\u001b[37m\u001b[0m \u001b[1m1s\u001b[0m 7ms/step - loss: 0.1965 - mae: 0.3164 - val_loss: 0.1764 - val_mae: 0.2756\n",
      "\u001b[1m94/94\u001b[0m \u001b[32m━━━━━━━━━━━━━━━━━━━━\u001b[0m\u001b[37m\u001b[0m \u001b[1m1s\u001b[0m 7ms/step - loss: 0.1898 - mae: 0.3079 - val_loss: 0.1653 - val_mae: 0.2762\n",
      "\u001b[1m94/94\u001b[0m \u001b[32m━━━━━━━━━━━━━━━━━━━━\u001b[0m\u001b[37m\u001b[0m \u001b[1m1s\u001b[0m 7ms/step - loss: 0.2158 - mae: 0.3045 - val_loss: 0.2994 - val_mae: 0.3003\n",
      "\u001b[1m94/94\u001b[0m \u001b[32m━━━━━━━━━━━━━━━━━━━━\u001b[0m\u001b[37m\u001b[0m \u001b[1m1s\u001b[0m 7ms/step - loss: 0.1908 - mae: 0.3018 - val_loss: 0.1182 - val_mae: 0.2621\n",
      "\u001b[1m94/94\u001b[0m \u001b[32m━━━━━━━━━━━━━━━━━━━━\u001b[0m\u001b[37m\u001b[0m \u001b[1m1s\u001b[0m 7ms/step - loss: 0.2280 - mae: 0.3026 - val_loss: 0.1552 - val_mae: 0.2588\n",
      "\u001b[1m94/94\u001b[0m \u001b[32m━━━━━━━━━━━━━━━━━━━━\u001b[0m\u001b[37m\u001b[0m \u001b[1m1s\u001b[0m 7ms/step - loss: 0.1498 - mae: 0.2772 - val_loss: 0.1346 - val_mae: 0.2588\n",
      "\u001b[1m94/94\u001b[0m \u001b[32m━━━━━━━━━━━━━━━━━━━━\u001b[0m\u001b[37m\u001b[0m \u001b[1m1s\u001b[0m 7ms/step - loss: 0.2146 - mae: 0.2893 - val_loss: 0.1446 - val_mae: 0.2520\n",
      "\u001b[1m94/94\u001b[0m \u001b[32m━━━━━━━━━━━━━━━━━━━━\u001b[0m\u001b[37m\u001b[0m \u001b[1m1s\u001b[0m 7ms/step - loss: 0.2175 - mae: 0.2853 - val_loss: 0.1213 - val_mae: 0.2469\n",
      "\u001b[1m94/94\u001b[0m \u001b[32m━━━━━━━━━━━━━━━━━━━━\u001b[0m\u001b[37m\u001b[0m \u001b[1m1s\u001b[0m 7ms/step - loss: 0.1953 - mae: 0.2737 - val_loss: 0.1654 - val_mae: 0.2527\n",
      "\u001b[1m94/94\u001b[0m \u001b[32m━━━━━━━━━━━━━━━━━━━━\u001b[0m\u001b[37m\u001b[0m \u001b[1m1s\u001b[0m 8ms/step - loss: 0.1330 - mae: 0.2585 - val_loss: 0.0912 - val_mae: 0.2285\n",
      "\u001b[1m94/94\u001b[0m \u001b[32m━━━━━━━━━━━━━━━━━━━━\u001b[0m\u001b[37m\u001b[0m \u001b[1m1s\u001b[0m 7ms/step - loss: 0.1906 - mae: 0.2643 - val_loss: 0.1626 - val_mae: 0.2485\n",
      "\u001b[1m94/94\u001b[0m \u001b[32m━━━━━━━━━━━━━━━━━━━━\u001b[0m\u001b[37m\u001b[0m \u001b[1m1s\u001b[0m 7ms/step - loss: 0.1377 - mae: 0.2480 - val_loss: 0.1352 - val_mae: 0.2464\n",
      "\u001b[1m94/94\u001b[0m \u001b[32m━━━━━━━━━━━━━━━━━━━━\u001b[0m\u001b[37m\u001b[0m \u001b[1m1s\u001b[0m 8ms/step - loss: 0.1324 - mae: 0.2584 - val_loss: 0.0966 - val_mae: 0.2180\n",
      "\u001b[1m94/94\u001b[0m \u001b[32m━━━━━━━━━━━━━━━━━━━━\u001b[0m\u001b[37m\u001b[0m \u001b[1m1s\u001b[0m 7ms/step - loss: 0.1207 - mae: 0.2441 - val_loss: 0.1058 - val_mae: 0.2217\n",
      "\u001b[1m94/94\u001b[0m \u001b[32m━━━━━━━━━━━━━━━━━━━━\u001b[0m\u001b[37m\u001b[0m \u001b[1m1s\u001b[0m 7ms/step - loss: 0.1420 - mae: 0.2419 - val_loss: 0.1146 - val_mae: 0.2102\n",
      "\u001b[1m94/94\u001b[0m \u001b[32m━━━━━━━━━━━━━━━━━━━━\u001b[0m\u001b[37m\u001b[0m \u001b[1m1s\u001b[0m 7ms/step - loss: 0.1196 - mae: 0.2269 - val_loss: 0.2549 - val_mae: 0.2213\n",
      "\u001b[1m94/94\u001b[0m \u001b[32m━━━━━━━━━━━━━━━━━━━━\u001b[0m\u001b[37m\u001b[0m \u001b[1m1s\u001b[0m 7ms/step - loss: 0.2742 - mae: 0.2335 - val_loss: 0.1070 - val_mae: 0.2145\n",
      "\u001b[1m94/94\u001b[0m \u001b[32m━━━━━━━━━━━━━━━━━━━━\u001b[0m\u001b[37m\u001b[0m \u001b[1m1s\u001b[0m 7ms/step - loss: 0.1552 - mae: 0.2319 - val_loss: 0.0928 - val_mae: 0.2068\n",
      "\u001b[1m94/94\u001b[0m \u001b[32m━━━━━━━━━━━━━━━━━━━━\u001b[0m\u001b[37m\u001b[0m \u001b[1m1s\u001b[0m 7ms/step - loss: 0.1269 - mae: 0.2285 - val_loss: 0.0761 - val_mae: 0.1966\n",
      "\u001b[1m94/94\u001b[0m \u001b[32m━━━━━━━━━━━━━━━━━━━━\u001b[0m\u001b[37m\u001b[0m \u001b[1m1s\u001b[0m 7ms/step - loss: 0.1373 - mae: 0.2289 - val_loss: 0.0716 - val_mae: 0.1886\n",
      "\u001b[1m94/94\u001b[0m \u001b[32m━━━━━━━━━━━━━━━━━━━━\u001b[0m\u001b[37m\u001b[0m \u001b[1m1s\u001b[0m 8ms/step - loss: 0.1178 - mae: 0.2208 - val_loss: 0.0648 - val_mae: 0.1862\n",
      "\u001b[1m94/94\u001b[0m \u001b[32m━━━━━━━━━━━━━━━━━━━━\u001b[0m\u001b[37m\u001b[0m \u001b[1m1s\u001b[0m 7ms/step - loss: 0.0829 - mae: 0.2087 - val_loss: 0.0605 - val_mae: 0.1768\n",
      "\u001b[1m94/94\u001b[0m \u001b[32m━━━━━━━━━━━━━━━━━━━━\u001b[0m\u001b[37m\u001b[0m \u001b[1m1s\u001b[0m 7ms/step - loss: 0.1903 - mae: 0.2035 - val_loss: 0.1917 - val_mae: 0.1924\n",
      "\u001b[1m94/94\u001b[0m \u001b[32m━━━━━━━━━━━━━━━━━━━━\u001b[0m\u001b[37m\u001b[0m \u001b[1m1s\u001b[0m 8ms/step - loss: 0.1151 - mae: 0.2015 - val_loss: 0.0539 - val_mae: 0.1734\n",
      "Reached end of data, stopping training.\n",
      "\u001b[1m758/758\u001b[0m \u001b[32m━━━━━━━━━━━━━━━━━━━━\u001b[0m\u001b[37m\u001b[0m \u001b[1m3s\u001b[0m 4ms/step\n"
     ]
    },
    {
     "name": "stderr",
     "output_type": "stream",
     "text": [
      "[I 2025-01-09 07:54:05,817] Trial 3 finished with value: 0.02824977426921712 and parameters: {'lstm_units_1': 64, 'lstm_units_2': 64, 'dropout': 0.1, 'learning_rate': 3.678416018738089e-05, 'batch_size': 16, 'dense_units': 64, 'sequence_length': 20, 'gradient_clipping': 0.5, 'optimizer': 'adam', 'activation': 'relu', 'num_indicators': 24, 'scaler_type': 'StandardScaler', 'window_size': 20, 'window_shift': 5, 'train_size': 1000, 'step_size': 500}. Best is trial 1 with value: 0.004891744877325998.\n"
     ]
    },
    {
     "name": "stdout",
     "output_type": "stream",
     "text": [
      "Dataset loaded from ../data/ETHUSDT_3m_v600k.csv.\n",
      "Trial Hyperparams: {'lstm_units_1': 256, 'lstm_units_2': 32, 'dropout': 0.2, 'learning_rate': 0.0003998021491654756, 'batch_size': 64, 'dense_units': 64, 'sequence_length': 100, 'gradient_clipping': 1.0, 'optimizer': 'rmsprop', 'activation': 'relu', 'num_indicators': 29, 'scaler_type': 'StandardScaler', 'window_size': 80, 'look_ahead_size': 20, 'window_shift': 20, 'crypto': 'ETHUSDT', 'timeframe': '3m', 'timeframe_filenames': {'1m': '../data/ETHUSDT_1m_v600k.csv', '3m': '../data/ETHUSDT_3m_v600k.csv', '5m': '../data/DOGEUSDT_5m_v0.csv', '15m': '../data/DOGEUSDT_15m_v0.csv', '30m': '../data/DOGEUSDT_30m_v0.csv'}, 'epochs': 50, 'train_size': 3000, 'val_size': 500, 'step_size': 100, 'shuffle': True}\n",
      "\u001b[1m55/55\u001b[0m \u001b[32m━━━━━━━━━━━━━━━━━━━━\u001b[0m\u001b[37m\u001b[0m \u001b[1m11s\u001b[0m 111ms/step - loss: 43522560000.0000 - mae: 12319.9424 - val_loss: 63969202176.0000 - val_mae: 69789.2109\n",
      "\u001b[1m55/55\u001b[0m \u001b[32m━━━━━━━━━━━━━━━━━━━━\u001b[0m\u001b[37m\u001b[0m \u001b[1m2s\u001b[0m 30ms/step - loss: 488661876736.0000 - mae: 169779.2656 - val_loss: 45433468485632.0000 - val_mae: 2194198.0000\n",
      "\u001b[1m55/55\u001b[0m \u001b[32m━━━━━━━━━━━━━━━━━━━━\u001b[0m\u001b[37m\u001b[0m \u001b[1m2s\u001b[0m 29ms/step - loss: 282100968194048.0000 - mae: 4318769.5000 - val_loss: 1486065631232.0000 - val_mae: 321452.1250\n",
      "\u001b[1m55/55\u001b[0m \u001b[32m━━━━━━━━━━━━━━━━━━━━\u001b[0m\u001b[37m\u001b[0m \u001b[1m2s\u001b[0m 29ms/step - loss: 427846623297536.0000 - mae: 4619701.0000 - val_loss: 10036729759137792.0000 - val_mae: 53360880.0000\n",
      "\u001b[1m55/55\u001b[0m \u001b[32m━━━━━━━━━━━━━━━━━━━━\u001b[0m\u001b[37m\u001b[0m \u001b[1m2s\u001b[0m 28ms/step - loss: 6432706736947200.0000 - mae: 20222432.0000 - val_loss: 1408582528.0000 - val_mae: 12256.5771\n",
      "\u001b[1m55/55\u001b[0m \u001b[32m━━━━━━━━━━━━━━━━━━━━\u001b[0m\u001b[37m\u001b[0m \u001b[1m2s\u001b[0m 29ms/step - loss: 16321166336.0000 - mae: 18104.5234 - val_loss: 6172350976.0000 - val_mae: 6166.1216\n",
      "\u001b[1m55/55\u001b[0m \u001b[32m━━━━━━━━━━━━━━━━━━━━\u001b[0m\u001b[37m\u001b[0m \u001b[1m2s\u001b[0m 29ms/step - loss: 88855674880.0000 - mae: 38141.1172 - val_loss: 7838691.5000 - val_mae: 572.8952\n",
      "\u001b[1m55/55\u001b[0m \u001b[32m━━━━━━━━━━━━━━━━━━━━\u001b[0m\u001b[37m\u001b[0m \u001b[1m2s\u001b[0m 29ms/step - loss: 3467195392.0000 - mae: 7504.4023 - val_loss: 97824136.0000 - val_mae: 3648.1868\n",
      "\u001b[1m55/55\u001b[0m \u001b[32m━━━━━━━━━━━━━━━━━━━━\u001b[0m\u001b[37m\u001b[0m \u001b[1m2s\u001b[0m 29ms/step - loss: 3590582272.0000 - mae: 11072.7725 - val_loss: 193531728.0000 - val_mae: 3136.4146\n",
      "\u001b[1m55/55\u001b[0m \u001b[32m━━━━━━━━━━━━━━━━━━━━\u001b[0m\u001b[37m\u001b[0m \u001b[1m2s\u001b[0m 29ms/step - loss: 1952706304.0000 - mae: 7274.4844 - val_loss: 24502.4219 - val_mae: 14.6927\n",
      "\u001b[1m55/55\u001b[0m \u001b[32m━━━━━━━━━━━━━━━━━━━━\u001b[0m\u001b[37m\u001b[0m \u001b[1m2s\u001b[0m 29ms/step - loss: 847507328.0000 - mae: 2734.0906 - val_loss: 1334.7137 - val_mae: 7.9713\n",
      "\u001b[1m55/55\u001b[0m \u001b[32m━━━━━━━━━━━━━━━━━━━━\u001b[0m\u001b[37m\u001b[0m \u001b[1m2s\u001b[0m 29ms/step - loss: 47978340.0000 - mae: 493.9926 - val_loss: 108401.0938 - val_mae: 72.8180\n",
      "\u001b[1m55/55\u001b[0m \u001b[32m━━━━━━━━━━━━━━━━━━━━\u001b[0m\u001b[37m\u001b[0m \u001b[1m2s\u001b[0m 29ms/step - loss: 412809.4688 - mae: 103.2748 - val_loss: 265.2362 - val_mae: 3.2330\n",
      "\u001b[1m55/55\u001b[0m \u001b[32m━━━━━━━━━━━━━━━━━━━━\u001b[0m\u001b[37m\u001b[0m \u001b[1m2s\u001b[0m 29ms/step - loss: 4372.6489 - mae: 7.8680 - val_loss: 107.8684 - val_mae: 2.5760\n",
      "\u001b[1m55/55\u001b[0m \u001b[32m━━━━━━━━━━━━━━━━━━━━\u001b[0m\u001b[37m\u001b[0m \u001b[1m2s\u001b[0m 29ms/step - loss: 122.1377 - mae: 2.2390 - val_loss: 2.6314 - val_mae: 0.8469\n",
      "\u001b[1m55/55\u001b[0m \u001b[32m━━━━━━━━━━━━━━━━━━━━\u001b[0m\u001b[37m\u001b[0m \u001b[1m2s\u001b[0m 29ms/step - loss: 724.3867 - mae: 2.1733 - val_loss: 6.1862 - val_mae: 0.8355\n",
      "\u001b[1m55/55\u001b[0m \u001b[32m━━━━━━━━━━━━━━━━━━━━\u001b[0m\u001b[37m\u001b[0m \u001b[1m2s\u001b[0m 29ms/step - loss: 225.5191 - mae: 1.7198 - val_loss: 2539.6113 - val_mae: 4.6737\n",
      "\u001b[1m55/55\u001b[0m \u001b[32m━━━━━━━━━━━━━━━━━━━━\u001b[0m\u001b[37m\u001b[0m \u001b[1m2s\u001b[0m 29ms/step - loss: 17732.1582 - mae: 14.0173 - val_loss: 74355.2578 - val_mae: 21.6619\n",
      "\u001b[1m55/55\u001b[0m \u001b[32m━━━━━━━━━━━━━━━━━━━━\u001b[0m\u001b[37m\u001b[0m \u001b[1m2s\u001b[0m 28ms/step - loss: 149570.9062 - mae: 54.4947 - val_loss: 0.3042 - val_mae: 0.5407\n",
      "\u001b[1m55/55\u001b[0m \u001b[32m━━━━━━━━━━━━━━━━━━━━\u001b[0m\u001b[37m\u001b[0m \u001b[1m2s\u001b[0m 28ms/step - loss: 67776.2266 - mae: 13.3164 - val_loss: 3525.3069 - val_mae: 9.7079\n",
      "\u001b[1m55/55\u001b[0m \u001b[32m━━━━━━━━━━━━━━━━━━━━\u001b[0m\u001b[37m\u001b[0m \u001b[1m2s\u001b[0m 28ms/step - loss: 4181.7705 - mae: 7.6094 - val_loss: 42.3970 - val_mae: 1.5057\n",
      "\u001b[1m55/55\u001b[0m \u001b[32m━━━━━━━━━━━━━━━━━━━━\u001b[0m\u001b[37m\u001b[0m \u001b[1m2s\u001b[0m 28ms/step - loss: 225.1326 - mae: 2.5780 - val_loss: 8889.5537 - val_mae: 11.4869\n",
      "\u001b[1m55/55\u001b[0m \u001b[32m━━━━━━━━━━━━━━━━━━━━\u001b[0m\u001b[37m\u001b[0m \u001b[1m2s\u001b[0m 28ms/step - loss: 46028.6719 - mae: 18.4523 - val_loss: 199.4826 - val_mae: 1.6727\n",
      "\u001b[1m55/55\u001b[0m \u001b[32m━━━━━━━━━━━━━━━━━━━━\u001b[0m\u001b[37m\u001b[0m \u001b[1m2s\u001b[0m 29ms/step - loss: 9062.0840 - mae: 7.6776 - val_loss: 25.6662 - val_mae: 1.1509\n",
      "\u001b[1m55/55\u001b[0m \u001b[32m━━━━━━━━━━━━━━━━━━━━\u001b[0m\u001b[37m\u001b[0m \u001b[1m2s\u001b[0m 28ms/step - loss: 757.0635 - mae: 2.8913 - val_loss: 37.0004 - val_mae: 1.0749\n",
      "\u001b[1m55/55\u001b[0m \u001b[32m━━━━━━━━━━━━━━━━━━━━\u001b[0m\u001b[37m\u001b[0m \u001b[1m2s\u001b[0m 29ms/step - loss: 14746.3887 - mae: 8.4093 - val_loss: 10.0887 - val_mae: 0.8365\n",
      "\u001b[1m55/55\u001b[0m \u001b[32m━━━━━━━━━━━━━━━━━━━━\u001b[0m\u001b[37m\u001b[0m \u001b[1m2s\u001b[0m 28ms/step - loss: 392.3607 - mae: 1.2563 - val_loss: 0.2076 - val_mae: 0.4242\n",
      "\u001b[1m55/55\u001b[0m \u001b[32m━━━━━━━━━━━━━━━━━━━━\u001b[0m\u001b[37m\u001b[0m \u001b[1m2s\u001b[0m 28ms/step - loss: 1024.3518 - mae: 3.3974 - val_loss: 1.9955 - val_mae: 0.5274\n",
      "\u001b[1m55/55\u001b[0m \u001b[32m━━━━━━━━━━━━━━━━━━━━\u001b[0m\u001b[37m\u001b[0m \u001b[1m2s\u001b[0m 28ms/step - loss: 18.3025 - mae: 0.8043 - val_loss: 0.3932 - val_mae: 0.4275\n",
      "\u001b[1m55/55\u001b[0m \u001b[32m━━━━━━━━━━━━━━━━━━━━\u001b[0m\u001b[37m\u001b[0m \u001b[1m2s\u001b[0m 28ms/step - loss: 5.2444 - mae: 0.6215 - val_loss: 0.3733 - val_mae: 0.3815\n",
      "\u001b[1m55/55\u001b[0m \u001b[32m━━━━━━━━━━━━━━━━━━━━\u001b[0m\u001b[37m\u001b[0m \u001b[1m2s\u001b[0m 29ms/step - loss: 448.0810 - mae: 1.8102 - val_loss: 0.3288 - val_mae: 0.3271\n",
      "\u001b[1m55/55\u001b[0m \u001b[32m━━━━━━━━━━━━━━━━━━━━\u001b[0m\u001b[37m\u001b[0m \u001b[1m2s\u001b[0m 28ms/step - loss: 13.2314 - mae: 0.5943 - val_loss: 0.4035 - val_mae: 0.3273\n",
      "\u001b[1m55/55\u001b[0m \u001b[32m━━━━━━━━━━━━━━━━━━━━\u001b[0m\u001b[37m\u001b[0m \u001b[1m2s\u001b[0m 28ms/step - loss: 5.2789 - mae: 0.5052 - val_loss: 0.1005 - val_mae: 0.2406\n",
      "\u001b[1m55/55\u001b[0m \u001b[32m━━━━━━━━━━━━━━━━━━━━\u001b[0m\u001b[37m\u001b[0m \u001b[1m2s\u001b[0m 28ms/step - loss: 1.5650 - mae: 0.3084 - val_loss: 1.7180 - val_mae: 0.3522\n",
      "\u001b[1m55/55\u001b[0m \u001b[32m━━━━━━━━━━━━━━━━━━━━\u001b[0m\u001b[37m\u001b[0m \u001b[1m2s\u001b[0m 28ms/step - loss: 15.3267 - mae: 0.5433 - val_loss: 0.9878 - val_mae: 0.1957\n",
      "\u001b[1m55/55\u001b[0m \u001b[32m━━━━━━━━━━━━━━━━━━━━\u001b[0m\u001b[37m\u001b[0m \u001b[1m2s\u001b[0m 28ms/step - loss: 272.5966 - mae: 1.5325 - val_loss: 0.1113 - val_mae: 0.1497\n",
      "\u001b[1m55/55\u001b[0m \u001b[32m━━━━━━━━━━━━━━━━━━━━\u001b[0m\u001b[37m\u001b[0m \u001b[1m2s\u001b[0m 28ms/step - loss: 66.9916 - mae: 0.8035 - val_loss: 1.4129 - val_mae: 0.2419\n",
      "\u001b[1m55/55\u001b[0m \u001b[32m━━━━━━━━━━━━━━━━━━━━\u001b[0m\u001b[37m\u001b[0m \u001b[1m2s\u001b[0m 28ms/step - loss: 121.9651 - mae: 0.9390 - val_loss: 0.0838 - val_mae: 0.1258\n",
      "\u001b[1m55/55\u001b[0m \u001b[32m━━━━━━━━━━━━━━━━━━━━\u001b[0m\u001b[37m\u001b[0m \u001b[1m2s\u001b[0m 28ms/step - loss: 43.0628 - mae: 0.7807 - val_loss: 0.0130 - val_mae: 0.1031\n",
      "\u001b[1m55/55\u001b[0m \u001b[32m━━━━━━━━━━━━━━━━━━━━\u001b[0m\u001b[37m\u001b[0m \u001b[1m2s\u001b[0m 28ms/step - loss: 82.6176 - mae: 0.6668 - val_loss: 5.3618 - val_mae: 0.3990\n",
      "\u001b[1m55/55\u001b[0m \u001b[32m━━━━━━━━━━━━━━━━━━━━\u001b[0m\u001b[37m\u001b[0m \u001b[1m2s\u001b[0m 28ms/step - loss: 13881.2969 - mae: 2.6130 - val_loss: 0.0110 - val_mae: 0.0907\n",
      "\u001b[1m55/55\u001b[0m \u001b[32m━━━━━━━━━━━━━━━━━━━━\u001b[0m\u001b[37m\u001b[0m \u001b[1m2s\u001b[0m 28ms/step - loss: 17.9410 - mae: 0.4053 - val_loss: 0.2574 - val_mae: 0.0950\n",
      "\u001b[1m55/55\u001b[0m \u001b[32m━━━━━━━━━━━━━━━━━━━━\u001b[0m\u001b[37m\u001b[0m \u001b[1m2s\u001b[0m 28ms/step - loss: 1.7252 - mae: 0.1635 - val_loss: 0.0076 - val_mae: 0.0650\n",
      "\u001b[1m55/55\u001b[0m \u001b[32m━━━━━━━━━━━━━━━━━━━━\u001b[0m\u001b[37m\u001b[0m \u001b[1m2s\u001b[0m 29ms/step - loss: 0.6128 - mae: 0.1285 - val_loss: 0.0070 - val_mae: 0.0573\n",
      "\u001b[1m55/55\u001b[0m \u001b[32m━━━━━━━━━━━━━━━━━━━━\u001b[0m\u001b[37m\u001b[0m \u001b[1m2s\u001b[0m 29ms/step - loss: 1.1021 - mae: 0.1356 - val_loss: 0.1212 - val_mae: 0.0710\n",
      "\u001b[1m55/55\u001b[0m \u001b[32m━━━━━━━━━━━━━━━━━━━━\u001b[0m\u001b[37m\u001b[0m \u001b[1m2s\u001b[0m 29ms/step - loss: 20.8816 - mae: 0.1940 - val_loss: 0.0072 - val_mae: 0.0543\n",
      "\u001b[1m55/55\u001b[0m \u001b[32m━━━━━━━━━━━━━━━━━━━━\u001b[0m\u001b[37m\u001b[0m \u001b[1m2s\u001b[0m 28ms/step - loss: 3.1549 - mae: 0.1952 - val_loss: 0.0079 - val_mae: 0.0571\n",
      "\u001b[1m55/55\u001b[0m \u001b[32m━━━━━━━━━━━━━━━━━━━━\u001b[0m\u001b[37m\u001b[0m \u001b[1m2s\u001b[0m 28ms/step - loss: 4.6056 - mae: 0.2778 - val_loss: 0.0153 - val_mae: 0.0883\n",
      "\u001b[1m55/55\u001b[0m \u001b[32m━━━━━━━━━━━━━━━━━━━━\u001b[0m\u001b[37m\u001b[0m \u001b[1m2s\u001b[0m 28ms/step - loss: 18.1138 - mae: 0.2958 - val_loss: 0.0075 - val_mae: 0.0545\n",
      "\u001b[1m55/55\u001b[0m \u001b[32m━━━━━━━━━━━━━━━━━━━━\u001b[0m\u001b[37m\u001b[0m \u001b[1m2s\u001b[0m 29ms/step - loss: 5.3959 - mae: 0.2112 - val_loss: 0.1164 - val_mae: 0.1003\n",
      "\u001b[1m190/190\u001b[0m \u001b[32m━━━━━━━━━━━━━━━━━━━━\u001b[0m\u001b[37m\u001b[0m \u001b[1m3s\u001b[0m 9ms/step\n"
     ]
    },
    {
     "name": "stderr",
     "output_type": "stream",
     "text": [
      "[I 2025-01-09 07:55:56,664] Trial 4 finished with value: 0.04649810931925959 and parameters: {'lstm_units_1': 256, 'lstm_units_2': 32, 'dropout': 0.2, 'learning_rate': 0.0003998021491654756, 'batch_size': 64, 'dense_units': 64, 'sequence_length': 100, 'gradient_clipping': 1.0, 'optimizer': 'rmsprop', 'activation': 'relu', 'num_indicators': 29, 'scaler_type': 'StandardScaler', 'window_size': 80, 'window_shift': 20, 'train_size': 3000, 'step_size': 100}. Best is trial 1 with value: 0.004891744877325998.\n"
     ]
    },
    {
     "name": "stdout",
     "output_type": "stream",
     "text": [
      "Dataset loaded from ../data/ETHUSDT_3m_v600k.csv.\n",
      "Trial Hyperparams: {'lstm_units_1': 128, 'lstm_units_2': 32, 'dropout': 0.2, 'learning_rate': 0.0005936722668258584, 'batch_size': 128, 'dense_units': 128, 'sequence_length': 10, 'gradient_clipping': 2.0, 'optimizer': 'adam', 'activation': 'tanh', 'num_indicators': 43, 'scaler_type': 'StandardScaler', 'window_size': 20, 'look_ahead_size': 20, 'window_shift': 15, 'crypto': 'ETHUSDT', 'timeframe': '3m', 'timeframe_filenames': {'1m': '../data/ETHUSDT_1m_v600k.csv', '3m': '../data/ETHUSDT_3m_v600k.csv', '5m': '../data/DOGEUSDT_5m_v0.csv', '15m': '../data/DOGEUSDT_15m_v0.csv', '30m': '../data/DOGEUSDT_30m_v0.csv'}, 'epochs': 50, 'train_size': 10000, 'val_size': 500, 'step_size': 20000, 'shuffle': True}\n",
      "\u001b[1m83/83\u001b[0m \u001b[32m━━━━━━━━━━━━━━━━━━━━\u001b[0m\u001b[37m\u001b[0m \u001b[1m3s\u001b[0m 13ms/step - loss: 0.1325 - mae: 0.2690 - val_loss: 0.0143 - val_mae: 0.0683\n",
      "Reached end of data, stopping training.\n",
      "\u001b[1m253/253\u001b[0m \u001b[32m━━━━━━━━━━━━━━━━━━━━\u001b[0m\u001b[37m\u001b[0m \u001b[1m1s\u001b[0m 3ms/step\n"
     ]
    },
    {
     "name": "stderr",
     "output_type": "stream",
     "text": [
      "[I 2025-01-09 07:56:15,534] Trial 5 finished with value: 0.0062794624172433575 and parameters: {'lstm_units_1': 128, 'lstm_units_2': 32, 'dropout': 0.2, 'learning_rate': 0.0005936722668258584, 'batch_size': 128, 'dense_units': 128, 'sequence_length': 10, 'gradient_clipping': 2.0, 'optimizer': 'adam', 'activation': 'tanh', 'num_indicators': 43, 'scaler_type': 'StandardScaler', 'window_size': 20, 'window_shift': 15, 'train_size': 10000, 'step_size': 20000}. Best is trial 1 with value: 0.004891744877325998.\n"
     ]
    },
    {
     "name": "stdout",
     "output_type": "stream",
     "text": [
      "Dataset loaded from ../data/ETHUSDT_3m_v600k.csv.\n",
      "Trial Hyperparams: {'lstm_units_1': 64, 'lstm_units_2': 64, 'dropout': 0.5, 'learning_rate': 5.537335087604855e-05, 'batch_size': 128, 'dense_units': 16, 'sequence_length': 20, 'gradient_clipping': 2.0, 'optimizer': 'rmsprop', 'activation': 'tanh', 'num_indicators': 17, 'scaler_type': 'RobustScaler', 'window_size': 100, 'look_ahead_size': 20, 'window_shift': 5, 'crypto': 'ETHUSDT', 'timeframe': '3m', 'timeframe_filenames': {'1m': '../data/ETHUSDT_1m_v600k.csv', '3m': '../data/ETHUSDT_3m_v600k.csv', '5m': '../data/DOGEUSDT_5m_v0.csv', '15m': '../data/DOGEUSDT_15m_v0.csv', '30m': '../data/DOGEUSDT_30m_v0.csv'}, 'epochs': 50, 'train_size': 1000, 'val_size': 500, 'step_size': 300, 'shuffle': True}\n",
      "\u001b[1m12/12\u001b[0m \u001b[32m━━━━━━━━━━━━━━━━━━━━\u001b[0m\u001b[37m\u001b[0m \u001b[1m2s\u001b[0m 49ms/step - loss: 0.9728 - mae: 0.8402 - val_loss: 0.8035 - val_mae: 0.7942\n",
      "\u001b[1m12/12\u001b[0m \u001b[32m━━━━━━━━━━━━━━━━━━━━\u001b[0m\u001b[37m\u001b[0m \u001b[1m0s\u001b[0m 26ms/step - loss: 0.8754 - mae: 0.7904 - val_loss: 0.6885 - val_mae: 0.7196\n",
      "\u001b[1m12/12\u001b[0m \u001b[32m━━━━━━━━━━━━━━━━━━━━\u001b[0m\u001b[37m\u001b[0m \u001b[1m0s\u001b[0m 26ms/step - loss: 0.7717 - mae: 0.7503 - val_loss: 0.5886 - val_mae: 0.6675\n",
      "\u001b[1m12/12\u001b[0m \u001b[32m━━━━━━━━━━━━━━━━━━━━\u001b[0m\u001b[37m\u001b[0m \u001b[1m0s\u001b[0m 26ms/step - loss: 0.7094 - mae: 0.7103 - val_loss: 0.5251 - val_mae: 0.6287\n",
      "\u001b[1m12/12\u001b[0m \u001b[32m━━━━━━━━━━━━━━━━━━━━\u001b[0m\u001b[37m\u001b[0m \u001b[1m0s\u001b[0m 26ms/step - loss: 0.6541 - mae: 0.6848 - val_loss: 0.4493 - val_mae: 0.5782\n",
      "\u001b[1m12/12\u001b[0m \u001b[32m━━━━━━━━━━━━━━━━━━━━\u001b[0m\u001b[37m\u001b[0m \u001b[1m0s\u001b[0m 26ms/step - loss: 0.6115 - mae: 0.6507 - val_loss: 0.3910 - val_mae: 0.5402\n",
      "\u001b[1m12/12\u001b[0m \u001b[32m━━━━━━━━━━━━━━━━━━━━\u001b[0m\u001b[37m\u001b[0m \u001b[1m0s\u001b[0m 27ms/step - loss: 0.5319 - mae: 0.6126 - val_loss: 0.3635 - val_mae: 0.5169\n",
      "\u001b[1m12/12\u001b[0m \u001b[32m━━━━━━━━━━━━━━━━━━━━\u001b[0m\u001b[37m\u001b[0m \u001b[1m0s\u001b[0m 26ms/step - loss: 0.5015 - mae: 0.5893 - val_loss: 0.3106 - val_mae: 0.4739\n",
      "\u001b[1m12/12\u001b[0m \u001b[32m━━━━━━━━━━━━━━━━━━━━\u001b[0m\u001b[37m\u001b[0m \u001b[1m0s\u001b[0m 26ms/step - loss: 0.4808 - mae: 0.5782 - val_loss: 0.2713 - val_mae: 0.4353\n",
      "\u001b[1m12/12\u001b[0m \u001b[32m━━━━━━━━━━━━━━━━━━━━\u001b[0m\u001b[37m\u001b[0m \u001b[1m0s\u001b[0m 25ms/step - loss: 0.4514 - mae: 0.5558 - val_loss: 0.2239 - val_mae: 0.3895\n",
      "\u001b[1m12/12\u001b[0m \u001b[32m━━━━━━━━━━━━━━━━━━━━\u001b[0m\u001b[37m\u001b[0m \u001b[1m0s\u001b[0m 26ms/step - loss: 0.4006 - mae: 0.5210 - val_loss: 0.1812 - val_mae: 0.3454\n",
      "\u001b[1m12/12\u001b[0m \u001b[32m━━━━━━━━━━━━━━━━━━━━\u001b[0m\u001b[37m\u001b[0m \u001b[1m0s\u001b[0m 26ms/step - loss: 0.3628 - mae: 0.4895 - val_loss: 0.1592 - val_mae: 0.3240\n",
      "\u001b[1m12/12\u001b[0m \u001b[32m━━━━━━━━━━━━━━━━━━━━\u001b[0m\u001b[37m\u001b[0m \u001b[1m0s\u001b[0m 25ms/step - loss: 0.3394 - mae: 0.4700 - val_loss: 0.1362 - val_mae: 0.3004\n",
      "\u001b[1m12/12\u001b[0m \u001b[32m━━━━━━━━━━━━━━━━━━━━\u001b[0m\u001b[37m\u001b[0m \u001b[1m0s\u001b[0m 26ms/step - loss: 0.3005 - mae: 0.4393 - val_loss: 0.1193 - val_mae: 0.2766\n",
      "\u001b[1m12/12\u001b[0m \u001b[32m━━━━━━━━━━━━━━━━━━━━\u001b[0m\u001b[37m\u001b[0m \u001b[1m0s\u001b[0m 28ms/step - loss: 0.3024 - mae: 0.4434 - val_loss: 0.1087 - val_mae: 0.2585\n",
      "\u001b[1m12/12\u001b[0m \u001b[32m━━━━━━━━━━━━━━━━━━━━\u001b[0m\u001b[37m\u001b[0m \u001b[1m0s\u001b[0m 26ms/step - loss: 0.2774 - mae: 0.4262 - val_loss: 0.0998 - val_mae: 0.2504\n",
      "\u001b[1m12/12\u001b[0m \u001b[32m━━━━━━━━━━━━━━━━━━━━\u001b[0m\u001b[37m\u001b[0m \u001b[1m0s\u001b[0m 26ms/step - loss: 0.2575 - mae: 0.4072 - val_loss: 0.0980 - val_mae: 0.2465\n",
      "\u001b[1m12/12\u001b[0m \u001b[32m━━━━━━━━━━━━━━━━━━━━\u001b[0m\u001b[37m\u001b[0m \u001b[1m0s\u001b[0m 26ms/step - loss: 0.2430 - mae: 0.3940 - val_loss: 0.0921 - val_mae: 0.2391\n",
      "\u001b[1m12/12\u001b[0m \u001b[32m━━━━━━━━━━━━━━━━━━━━\u001b[0m\u001b[37m\u001b[0m \u001b[1m0s\u001b[0m 26ms/step - loss: 0.2290 - mae: 0.3838 - val_loss: 0.0851 - val_mae: 0.2290\n",
      "\u001b[1m12/12\u001b[0m \u001b[32m━━━━━━━━━━━━━━━━━━━━\u001b[0m\u001b[37m\u001b[0m \u001b[1m0s\u001b[0m 26ms/step - loss: 0.2307 - mae: 0.3822 - val_loss: 0.0795 - val_mae: 0.2242\n",
      "\u001b[1m12/12\u001b[0m \u001b[32m━━━━━━━━━━━━━━━━━━━━\u001b[0m\u001b[37m\u001b[0m \u001b[1m0s\u001b[0m 26ms/step - loss: 0.1966 - mae: 0.3571 - val_loss: 0.0854 - val_mae: 0.2341\n",
      "\u001b[1m12/12\u001b[0m \u001b[32m━━━━━━━━━━━━━━━━━━━━\u001b[0m\u001b[37m\u001b[0m \u001b[1m0s\u001b[0m 25ms/step - loss: 0.1934 - mae: 0.3494 - val_loss: 0.0819 - val_mae: 0.2283\n",
      "\u001b[1m12/12\u001b[0m \u001b[32m━━━━━━━━━━━━━━━━━━━━\u001b[0m\u001b[37m\u001b[0m \u001b[1m0s\u001b[0m 26ms/step - loss: 0.2002 - mae: 0.3554 - val_loss: 0.0800 - val_mae: 0.2297\n",
      "\u001b[1m12/12\u001b[0m \u001b[32m━━━━━━━━━━━━━━━━━━━━\u001b[0m\u001b[37m\u001b[0m \u001b[1m0s\u001b[0m 27ms/step - loss: 0.2015 - mae: 0.3587 - val_loss: 0.0772 - val_mae: 0.2246\n",
      "\u001b[1m12/12\u001b[0m \u001b[32m━━━━━━━━━━━━━━━━━━━━\u001b[0m\u001b[37m\u001b[0m \u001b[1m0s\u001b[0m 25ms/step - loss: 0.1785 - mae: 0.3375 - val_loss: 0.0796 - val_mae: 0.2242\n",
      "\u001b[1m12/12\u001b[0m \u001b[32m━━━━━━━━━━━━━━━━━━━━\u001b[0m\u001b[37m\u001b[0m \u001b[1m0s\u001b[0m 26ms/step - loss: 0.1708 - mae: 0.3292 - val_loss: 0.0778 - val_mae: 0.2235\n",
      "\u001b[1m12/12\u001b[0m \u001b[32m━━━━━━━━━━━━━━━━━━━━\u001b[0m\u001b[37m\u001b[0m \u001b[1m0s\u001b[0m 26ms/step - loss: 0.1702 - mae: 0.3266 - val_loss: 0.0736 - val_mae: 0.2197\n",
      "\u001b[1m12/12\u001b[0m \u001b[32m━━━━━━━━━━━━━━━━━━━━\u001b[0m\u001b[37m\u001b[0m \u001b[1m0s\u001b[0m 26ms/step - loss: 0.1688 - mae: 0.3231 - val_loss: 0.0704 - val_mae: 0.2176\n",
      "\u001b[1m12/12\u001b[0m \u001b[32m━━━━━━━━━━━━━━━━━━━━\u001b[0m\u001b[37m\u001b[0m \u001b[1m0s\u001b[0m 26ms/step - loss: 0.1610 - mae: 0.3177 - val_loss: 0.0724 - val_mae: 0.2198\n",
      "\u001b[1m12/12\u001b[0m \u001b[32m━━━━━━━━━━━━━━━━━━━━\u001b[0m\u001b[37m\u001b[0m \u001b[1m0s\u001b[0m 25ms/step - loss: 0.1680 - mae: 0.3230 - val_loss: 0.0663 - val_mae: 0.2078\n",
      "\u001b[1m12/12\u001b[0m \u001b[32m━━━━━━━━━━━━━━━━━━━━\u001b[0m\u001b[37m\u001b[0m \u001b[1m0s\u001b[0m 26ms/step - loss: 0.1594 - mae: 0.3144 - val_loss: 0.0598 - val_mae: 0.1984\n",
      "\u001b[1m12/12\u001b[0m \u001b[32m━━━━━━━━━━━━━━━━━━━━\u001b[0m\u001b[37m\u001b[0m \u001b[1m0s\u001b[0m 25ms/step - loss: 0.1558 - mae: 0.3137 - val_loss: 0.0660 - val_mae: 0.2064\n",
      "\u001b[1m12/12\u001b[0m \u001b[32m━━━━━━━━━━━━━━━━━━━━\u001b[0m\u001b[37m\u001b[0m \u001b[1m0s\u001b[0m 26ms/step - loss: 0.1559 - mae: 0.3138 - val_loss: 0.0611 - val_mae: 0.2045\n",
      "\u001b[1m12/12\u001b[0m \u001b[32m━━━━━━━━━━━━━━━━━━━━\u001b[0m\u001b[37m\u001b[0m \u001b[1m0s\u001b[0m 25ms/step - loss: 0.1468 - mae: 0.3028 - val_loss: 0.0561 - val_mae: 0.1955\n",
      "\u001b[1m12/12\u001b[0m \u001b[32m━━━━━━━━━━━━━━━━━━━━\u001b[0m\u001b[37m\u001b[0m \u001b[1m0s\u001b[0m 26ms/step - loss: 0.1398 - mae: 0.2957 - val_loss: 0.0576 - val_mae: 0.1969\n",
      "\u001b[1m12/12\u001b[0m \u001b[32m━━━━━━━━━━━━━━━━━━━━\u001b[0m\u001b[37m\u001b[0m \u001b[1m0s\u001b[0m 26ms/step - loss: 0.1340 - mae: 0.2913 - val_loss: 0.0582 - val_mae: 0.1975\n",
      "\u001b[1m12/12\u001b[0m \u001b[32m━━━━━━━━━━━━━━━━━━━━\u001b[0m\u001b[37m\u001b[0m \u001b[1m0s\u001b[0m 26ms/step - loss: 0.1352 - mae: 0.2887 - val_loss: 0.0556 - val_mae: 0.1925\n",
      "\u001b[1m12/12\u001b[0m \u001b[32m━━━━━━━━━━━━━━━━━━━━\u001b[0m\u001b[37m\u001b[0m \u001b[1m0s\u001b[0m 27ms/step - loss: 0.1240 - mae: 0.2779 - val_loss: 0.0539 - val_mae: 0.1917\n",
      "\u001b[1m12/12\u001b[0m \u001b[32m━━━━━━━━━━━━━━━━━━━━\u001b[0m\u001b[37m\u001b[0m \u001b[1m0s\u001b[0m 26ms/step - loss: 0.1111 - mae: 0.2661 - val_loss: 0.0485 - val_mae: 0.1818\n",
      "\u001b[1m12/12\u001b[0m \u001b[32m━━━━━━━━━━━━━━━━━━━━\u001b[0m\u001b[37m\u001b[0m \u001b[1m0s\u001b[0m 26ms/step - loss: 0.1204 - mae: 0.2769 - val_loss: 0.0448 - val_mae: 0.1727\n",
      "\u001b[1m12/12\u001b[0m \u001b[32m━━━━━━━━━━━━━━━━━━━━\u001b[0m\u001b[37m\u001b[0m \u001b[1m0s\u001b[0m 26ms/step - loss: 0.1106 - mae: 0.2627 - val_loss: 0.0477 - val_mae: 0.1771\n",
      "\u001b[1m12/12\u001b[0m \u001b[32m━━━━━━━━━━━━━━━━━━━━\u001b[0m\u001b[37m\u001b[0m \u001b[1m0s\u001b[0m 32ms/step - loss: 0.1128 - mae: 0.2670 - val_loss: 0.0509 - val_mae: 0.1849\n",
      "\u001b[1m12/12\u001b[0m \u001b[32m━━━━━━━━━━━━━━━━━━━━\u001b[0m\u001b[37m\u001b[0m \u001b[1m0s\u001b[0m 26ms/step - loss: 0.1060 - mae: 0.2583 - val_loss: 0.0449 - val_mae: 0.1742\n",
      "\u001b[1m12/12\u001b[0m \u001b[32m━━━━━━━━━━━━━━━━━━━━\u001b[0m\u001b[37m\u001b[0m \u001b[1m0s\u001b[0m 25ms/step - loss: 0.1098 - mae: 0.2615 - val_loss: 0.0407 - val_mae: 0.1654\n",
      "\u001b[1m12/12\u001b[0m \u001b[32m━━━━━━━━━━━━━━━━━━━━\u001b[0m\u001b[37m\u001b[0m \u001b[1m0s\u001b[0m 25ms/step - loss: 0.1023 - mae: 0.2498 - val_loss: 0.0440 - val_mae: 0.1714\n",
      "\u001b[1m12/12\u001b[0m \u001b[32m━━━━━━━━━━━━━━━━━━━━\u001b[0m\u001b[37m\u001b[0m \u001b[1m0s\u001b[0m 25ms/step - loss: 0.1052 - mae: 0.2590 - val_loss: 0.0436 - val_mae: 0.1716\n",
      "\u001b[1m12/12\u001b[0m \u001b[32m━━━━━━━━━━━━━━━━━━━━\u001b[0m\u001b[37m\u001b[0m \u001b[1m0s\u001b[0m 27ms/step - loss: 0.0988 - mae: 0.2495 - val_loss: 0.0386 - val_mae: 0.1620\n",
      "\u001b[1m12/12\u001b[0m \u001b[32m━━━━━━━━━━━━━━━━━━━━\u001b[0m\u001b[37m\u001b[0m \u001b[1m0s\u001b[0m 27ms/step - loss: 0.0960 - mae: 0.2454 - val_loss: 0.0406 - val_mae: 0.1642\n",
      "\u001b[1m12/12\u001b[0m \u001b[32m━━━━━━━━━━━━━━━━━━━━\u001b[0m\u001b[37m\u001b[0m \u001b[1m0s\u001b[0m 26ms/step - loss: 0.0958 - mae: 0.2435 - val_loss: 0.0395 - val_mae: 0.1611\n",
      "\u001b[1m12/12\u001b[0m \u001b[32m━━━━━━━━━━━━━━━━━━━━\u001b[0m\u001b[37m\u001b[0m \u001b[1m0s\u001b[0m 25ms/step - loss: 0.0908 - mae: 0.2382 - val_loss: 0.0386 - val_mae: 0.1636\n",
      "\u001b[1m757/757\u001b[0m \u001b[32m━━━━━━━━━━━━━━━━━━━━\u001b[0m\u001b[37m\u001b[0m \u001b[1m3s\u001b[0m 4ms/step\n"
     ]
    },
    {
     "name": "stderr",
     "output_type": "stream",
     "text": [
      "[I 2025-01-09 07:57:00,842] Trial 6 finished with value: 0.01634326861871102 and parameters: {'lstm_units_1': 64, 'lstm_units_2': 64, 'dropout': 0.5, 'learning_rate': 5.537335087604855e-05, 'batch_size': 128, 'dense_units': 16, 'sequence_length': 20, 'gradient_clipping': 2.0, 'optimizer': 'rmsprop', 'activation': 'tanh', 'num_indicators': 17, 'scaler_type': 'RobustScaler', 'window_size': 100, 'window_shift': 5, 'train_size': 1000, 'step_size': 300}. Best is trial 1 with value: 0.004891744877325998.\n"
     ]
    },
    {
     "name": "stdout",
     "output_type": "stream",
     "text": [
      "Dataset loaded from ../data/ETHUSDT_3m_v600k.csv.\n",
      "Trial Hyperparams: {'lstm_units_1': 64, 'lstm_units_2': 128, 'dropout': 0.5, 'learning_rate': 0.0010345745098883107, 'batch_size': 16, 'dense_units': 32, 'sequence_length': 20, 'gradient_clipping': 0.5, 'optimizer': 'rmsprop', 'activation': 'relu', 'num_indicators': 38, 'scaler_type': 'StandardScaler', 'window_size': 60, 'look_ahead_size': 20, 'window_shift': 1, 'crypto': 'ETHUSDT', 'timeframe': '3m', 'timeframe_filenames': {'1m': '../data/ETHUSDT_1m_v600k.csv', '3m': '../data/ETHUSDT_3m_v600k.csv', '5m': '../data/DOGEUSDT_5m_v0.csv', '15m': '../data/DOGEUSDT_15m_v0.csv', '30m': '../data/DOGEUSDT_30m_v0.csv'}, 'epochs': 50, 'train_size': 20000, 'val_size': 500, 'step_size': 3000, 'shuffle': True}\n",
      "\u001b[1m1282/1282\u001b[0m \u001b[32m━━━━━━━━━━━━━━━━━━━━\u001b[0m\u001b[37m\u001b[0m \u001b[1m24s\u001b[0m 15ms/step - loss: 4354284544.0000 - mae: 12481.1094 - val_loss: 0.0173 - val_mae: 0.1186\n",
      "\u001b[1m1282/1282\u001b[0m \u001b[32m━━━━━━━━━━━━━━━━━━━━\u001b[0m\u001b[37m\u001b[0m \u001b[1m16s\u001b[0m 12ms/step - loss: 0.0086 - mae: 0.0615 - val_loss: 0.0099 - val_mae: 0.0885\n",
      "Reached end of data, stopping training.\n"
     ]
    },
    {
     "name": "stderr",
     "output_type": "stream",
     "text": [
      "2025-01-09 07:58:35.435412: W external/local_xla/xla/tsl/framework/cpu_allocator_impl.cc:83] Allocation of 1104614400 exceeds 10% of free system memory.\n",
      "2025-01-09 07:58:36.567394: W external/local_xla/xla/tsl/framework/cpu_allocator_impl.cc:83] Allocation of 1104614400 exceeds 10% of free system memory.\n"
     ]
    },
    {
     "name": "stdout",
     "output_type": "stream",
     "text": [
      "\u001b[1m3785/3785\u001b[0m \u001b[32m━━━━━━━━━━━━━━━━━━━━\u001b[0m\u001b[37m\u001b[0m \u001b[1m17s\u001b[0m 4ms/step\n"
     ]
    },
    {
     "name": "stderr",
     "output_type": "stream",
     "text": [
      "[I 2025-01-09 07:58:56,535] Trial 7 finished with value: 0.007521517095256295 and parameters: {'lstm_units_1': 64, 'lstm_units_2': 128, 'dropout': 0.5, 'learning_rate': 0.0010345745098883107, 'batch_size': 16, 'dense_units': 32, 'sequence_length': 20, 'gradient_clipping': 0.5, 'optimizer': 'rmsprop', 'activation': 'relu', 'num_indicators': 38, 'scaler_type': 'StandardScaler', 'window_size': 60, 'window_shift': 1, 'train_size': 20000, 'step_size': 3000}. Best is trial 1 with value: 0.004891744877325998.\n"
     ]
    },
    {
     "name": "stdout",
     "output_type": "stream",
     "text": [
      "Dataset loaded from ../data/ETHUSDT_3m_v600k.csv.\n",
      "Trial Hyperparams: {'lstm_units_1': 256, 'lstm_units_2': 32, 'dropout': 0.2, 'learning_rate': 0.00010226898507947199, 'batch_size': 32, 'dense_units': 128, 'sequence_length': 100, 'gradient_clipping': 1.0, 'optimizer': 'adam', 'activation': 'tanh', 'num_indicators': 29, 'scaler_type': 'RobustScaler', 'window_size': 80, 'look_ahead_size': 20, 'window_shift': 15, 'crypto': 'ETHUSDT', 'timeframe': '3m', 'timeframe_filenames': {'1m': '../data/ETHUSDT_1m_v600k.csv', '3m': '../data/ETHUSDT_3m_v600k.csv', '5m': '../data/DOGEUSDT_5m_v0.csv', '15m': '../data/DOGEUSDT_15m_v0.csv', '30m': '../data/DOGEUSDT_30m_v0.csv'}, 'epochs': 50, 'train_size': 1000, 'val_size': 500, 'step_size': 10000, 'shuffle': True}\n",
      "\u001b[1m47/47\u001b[0m \u001b[32m━━━━━━━━━━━━━━━━━━━━\u001b[0m\u001b[37m\u001b[0m \u001b[1m3s\u001b[0m 24ms/step - loss: 0.4405 - mae: 0.5871 - val_loss: 0.0947 - val_mae: 0.2538\n",
      "\u001b[1m47/47\u001b[0m \u001b[32m━━━━━━━━━━━━━━━━━━━━\u001b[0m\u001b[37m\u001b[0m \u001b[1m1s\u001b[0m 19ms/step - loss: 0.0956 - mae: 0.2474 - val_loss: 0.0308 - val_mae: 0.1355\n",
      "\u001b[1m47/47\u001b[0m \u001b[32m━━━━━━━━━━━━━━━━━━━━\u001b[0m\u001b[37m\u001b[0m \u001b[1m1s\u001b[0m 19ms/step - loss: 0.0504 - mae: 0.1780 - val_loss: 0.0267 - val_mae: 0.1205\n",
      "Reached end of data, stopping training.\n",
      "\u001b[1m253/253\u001b[0m \u001b[32m━━━━━━━━━━━━━━━━━━━━\u001b[0m\u001b[37m\u001b[0m \u001b[1m2s\u001b[0m 6ms/step\n"
     ]
    },
    {
     "name": "stderr",
     "output_type": "stream",
     "text": [
      "[I 2025-01-09 07:59:18,274] Trial 8 finished with value: 0.011579297042763673 and parameters: {'lstm_units_1': 256, 'lstm_units_2': 32, 'dropout': 0.2, 'learning_rate': 0.00010226898507947199, 'batch_size': 32, 'dense_units': 128, 'sequence_length': 100, 'gradient_clipping': 1.0, 'optimizer': 'adam', 'activation': 'tanh', 'num_indicators': 29, 'scaler_type': 'RobustScaler', 'window_size': 80, 'window_shift': 15, 'train_size': 1000, 'step_size': 10000}. Best is trial 1 with value: 0.004891744877325998.\n"
     ]
    },
    {
     "name": "stdout",
     "output_type": "stream",
     "text": [
      "Dataset loaded from ../data/ETHUSDT_3m_v600k.csv.\n",
      "Trial Hyperparams: {'lstm_units_1': 256, 'lstm_units_2': 128, 'dropout': 0.1, 'learning_rate': 0.010902836556392778, 'batch_size': 64, 'dense_units': 32, 'sequence_length': 50, 'gradient_clipping': 0.5, 'optimizer': 'adam', 'activation': 'relu', 'num_indicators': 9, 'scaler_type': 'RobustScaler', 'window_size': 20, 'look_ahead_size': 20, 'window_shift': 5, 'crypto': 'ETHUSDT', 'timeframe': '3m', 'timeframe_filenames': {'1m': '../data/ETHUSDT_1m_v600k.csv', '3m': '../data/ETHUSDT_3m_v600k.csv', '5m': '../data/DOGEUSDT_5m_v0.csv', '15m': '../data/DOGEUSDT_15m_v0.csv', '30m': '../data/DOGEUSDT_30m_v0.csv'}, 'epochs': 50, 'train_size': 10000, 'val_size': 500, 'step_size': 500, 'shuffle': True}\n",
      "\u001b[1m165/165\u001b[0m \u001b[32m━━━━━━━━━━━━━━━━━━━━\u001b[0m\u001b[37m\u001b[0m \u001b[1m12s\u001b[0m 37ms/step - loss: 17515728.0000 - mae: 299.5625 - val_loss: 4.5969 - val_mae: 0.6051\n",
      "\u001b[1m165/165\u001b[0m \u001b[32m━━━━━━━━━━━━━━━━━━━━\u001b[0m\u001b[37m\u001b[0m \u001b[1m2s\u001b[0m 11ms/step - loss: 0.2271 - mae: 0.1146 - val_loss: 0.0073 - val_mae: 0.0502\n",
      "\u001b[1m165/165\u001b[0m \u001b[32m━━━━━━━━━━━━━━━━━━━━\u001b[0m\u001b[37m\u001b[0m \u001b[1m2s\u001b[0m 11ms/step - loss: 0.0085 - mae: 0.0500 - val_loss: 0.0079 - val_mae: 0.0500\n",
      "\u001b[1m165/165\u001b[0m \u001b[32m━━━━━━━━━━━━━━━━━━━━\u001b[0m\u001b[37m\u001b[0m \u001b[1m2s\u001b[0m 11ms/step - loss: 0.0061 - mae: 0.0464 - val_loss: 0.0064 - val_mae: 0.0441\n",
      "\u001b[1m165/165\u001b[0m \u001b[32m━━━━━━━━━━━━━━━━━━━━\u001b[0m\u001b[37m\u001b[0m \u001b[1m2s\u001b[0m 11ms/step - loss: 0.0072 - mae: 0.0459 - val_loss: 0.0051 - val_mae: 0.0461\n",
      "\u001b[1m165/165\u001b[0m \u001b[32m━━━━━━━━━━━━━━━━━━━━\u001b[0m\u001b[37m\u001b[0m \u001b[1m2s\u001b[0m 11ms/step - loss: 0.0053 - mae: 0.0449 - val_loss: 0.0046 - val_mae: 0.0422\n",
      "\u001b[1m165/165\u001b[0m \u001b[32m━━━━━━━━━━━━━━━━━━━━\u001b[0m\u001b[37m\u001b[0m \u001b[1m2s\u001b[0m 11ms/step - loss: 0.0055 - mae: 0.0447 - val_loss: 0.0044 - val_mae: 0.0419\n",
      "\u001b[1m165/165\u001b[0m \u001b[32m━━━━━━━━━━━━━━━━━━━━\u001b[0m\u001b[37m\u001b[0m \u001b[1m2s\u001b[0m 11ms/step - loss: 0.0059 - mae: 0.0457 - val_loss: 0.0057 - val_mae: 0.0443\n",
      "\u001b[1m165/165\u001b[0m \u001b[32m━━━━━━━━━━━━━━━━━━━━\u001b[0m\u001b[37m\u001b[0m \u001b[1m2s\u001b[0m 11ms/step - loss: 0.0053 - mae: 0.0443 - val_loss: 0.0044 - val_mae: 0.0429\n",
      "\u001b[1m165/165\u001b[0m \u001b[32m━━━━━━━━━━━━━━━━━━━━\u001b[0m\u001b[37m\u001b[0m \u001b[1m2s\u001b[0m 11ms/step - loss: 0.0051 - mae: 0.0432 - val_loss: 0.0031 - val_mae: 0.0375\n",
      "\u001b[1m165/165\u001b[0m \u001b[32m━━━━━━━━━━━━━━━━━━━━\u001b[0m\u001b[37m\u001b[0m \u001b[1m2s\u001b[0m 11ms/step - loss: 0.0050 - mae: 0.0437 - val_loss: 0.0075 - val_mae: 0.0449\n",
      "\u001b[1m165/165\u001b[0m \u001b[32m━━━━━━━━━━━━━━━━━━━━\u001b[0m\u001b[37m\u001b[0m \u001b[1m2s\u001b[0m 11ms/step - loss: 0.0049 - mae: 0.0431 - val_loss: 0.0052 - val_mae: 0.0424\n",
      "\u001b[1m165/165\u001b[0m \u001b[32m━━━━━━━━━━━━━━━━━━━━\u001b[0m\u001b[37m\u001b[0m \u001b[1m2s\u001b[0m 11ms/step - loss: 0.0049 - mae: 0.0429 - val_loss: 0.0061 - val_mae: 0.0448\n",
      "\u001b[1m165/165\u001b[0m \u001b[32m━━━━━━━━━━━━━━━━━━━━\u001b[0m\u001b[37m\u001b[0m \u001b[1m2s\u001b[0m 11ms/step - loss: 0.0051 - mae: 0.0440 - val_loss: 0.0052 - val_mae: 0.0413\n",
      "\u001b[1m165/165\u001b[0m \u001b[32m━━━━━━━━━━━━━━━━━━━━\u001b[0m\u001b[37m\u001b[0m \u001b[1m2s\u001b[0m 11ms/step - loss: 0.0048 - mae: 0.0430 - val_loss: 0.0043 - val_mae: 0.0419\n",
      "\u001b[1m165/165\u001b[0m \u001b[32m━━━━━━━━━━━━━━━━━━━━\u001b[0m\u001b[37m\u001b[0m \u001b[1m2s\u001b[0m 11ms/step - loss: 0.0053 - mae: 0.0431 - val_loss: 0.0078 - val_mae: 0.0446\n",
      "\u001b[1m165/165\u001b[0m \u001b[32m━━━━━━━━━━━━━━━━━━━━\u001b[0m\u001b[37m\u001b[0m \u001b[1m2s\u001b[0m 11ms/step - loss: 0.0055 - mae: 0.0436 - val_loss: 0.0066 - val_mae: 0.0470\n",
      "\u001b[1m165/165\u001b[0m \u001b[32m━━━━━━━━━━━━━━━━━━━━\u001b[0m\u001b[37m\u001b[0m \u001b[1m2s\u001b[0m 11ms/step - loss: 0.0062 - mae: 0.0451 - val_loss: 0.0053 - val_mae: 0.0437\n",
      "\u001b[1m165/165\u001b[0m \u001b[32m━━━━━━━━━━━━━━━━━━━━\u001b[0m\u001b[37m\u001b[0m \u001b[1m2s\u001b[0m 11ms/step - loss: 0.0050 - mae: 0.0431 - val_loss: 0.0041 - val_mae: 0.0406\n",
      "\u001b[1m165/165\u001b[0m \u001b[32m━━━━━━━━━━━━━━━━━━━━\u001b[0m\u001b[37m\u001b[0m \u001b[1m2s\u001b[0m 11ms/step - loss: 0.0053 - mae: 0.0431 - val_loss: 0.0047 - val_mae: 0.0393\n",
      "\u001b[1m165/165\u001b[0m \u001b[32m━━━━━━━━━━━━━━━━━━━━\u001b[0m\u001b[37m\u001b[0m \u001b[1m2s\u001b[0m 11ms/step - loss: 0.0056 - mae: 0.0442 - val_loss: 0.0040 - val_mae: 0.0392\n",
      "\u001b[1m165/165\u001b[0m \u001b[32m━━━━━━━━━━━━━━━━━━━━\u001b[0m\u001b[37m\u001b[0m \u001b[1m2s\u001b[0m 11ms/step - loss: 0.0050 - mae: 0.0426 - val_loss: 0.0052 - val_mae: 0.0435\n",
      "\u001b[1m165/165\u001b[0m \u001b[32m━━━━━━━━━━━━━━━━━━━━\u001b[0m\u001b[37m\u001b[0m \u001b[1m2s\u001b[0m 11ms/step - loss: 0.0052 - mae: 0.0432 - val_loss: 0.0055 - val_mae: 0.0453\n",
      "\u001b[1m165/165\u001b[0m \u001b[32m━━━━━━━━━━━━━━━━━━━━\u001b[0m\u001b[37m\u001b[0m \u001b[1m2s\u001b[0m 11ms/step - loss: 0.0052 - mae: 0.0431 - val_loss: 0.0046 - val_mae: 0.0413\n",
      "\u001b[1m165/165\u001b[0m \u001b[32m━━━━━━━━━━━━━━━━━━━━\u001b[0m\u001b[37m\u001b[0m \u001b[1m2s\u001b[0m 11ms/step - loss: 0.0048 - mae: 0.0423 - val_loss: 0.0055 - val_mae: 0.0454\n",
      "\u001b[1m165/165\u001b[0m \u001b[32m━━━━━━━━━━━━━━━━━━━━\u001b[0m\u001b[37m\u001b[0m \u001b[1m2s\u001b[0m 11ms/step - loss: 0.0052 - mae: 0.0428 - val_loss: 0.0041 - val_mae: 0.0413\n",
      "\u001b[1m165/165\u001b[0m \u001b[32m━━━━━━━━━━━━━━━━━━━━\u001b[0m\u001b[37m\u001b[0m \u001b[1m2s\u001b[0m 11ms/step - loss: 0.0053 - mae: 0.0435 - val_loss: 0.0044 - val_mae: 0.0412\n",
      "\u001b[1m165/165\u001b[0m \u001b[32m━━━━━━━━━━━━━━━━━━━━\u001b[0m\u001b[37m\u001b[0m \u001b[1m2s\u001b[0m 11ms/step - loss: 0.0049 - mae: 0.0422 - val_loss: 0.0039 - val_mae: 0.0438\n",
      "Reached end of data, stopping training.\n",
      "\u001b[1m758/758\u001b[0m \u001b[32m━━━━━━━━━━━━━━━━━━━━\u001b[0m\u001b[37m\u001b[0m \u001b[1m3s\u001b[0m 4ms/step\n"
     ]
    },
    {
     "name": "stderr",
     "output_type": "stream",
     "text": [
      "[I 2025-01-09 08:00:43,624] Trial 9 finished with value: 0.005093961046631018 and parameters: {'lstm_units_1': 256, 'lstm_units_2': 128, 'dropout': 0.1, 'learning_rate': 0.010902836556392778, 'batch_size': 64, 'dense_units': 32, 'sequence_length': 50, 'gradient_clipping': 0.5, 'optimizer': 'adam', 'activation': 'relu', 'num_indicators': 9, 'scaler_type': 'RobustScaler', 'window_size': 20, 'window_shift': 5, 'train_size': 10000, 'step_size': 500}. Best is trial 1 with value: 0.004891744877325998.\n"
     ]
    },
    {
     "name": "stdout",
     "output_type": "stream",
     "text": [
      "Dataset loaded from ../data/ETHUSDT_3m_v600k.csv.\n",
      "Trial Hyperparams: {'lstm_units_1': 128, 'lstm_units_2': 32, 'dropout': 0.3, 'learning_rate': 0.06676744469587931, 'batch_size': 32, 'dense_units': 128, 'sequence_length': 100, 'gradient_clipping': 1.0, 'optimizer': 'adam', 'activation': 'tanh', 'num_indicators': 46, 'scaler_type': 'MinMaxScaler', 'window_size': 100, 'look_ahead_size': 20, 'window_shift': 10, 'crypto': 'ETHUSDT', 'timeframe': '3m', 'timeframe_filenames': {'1m': '../data/ETHUSDT_1m_v600k.csv', '3m': '../data/ETHUSDT_3m_v600k.csv', '5m': '../data/DOGEUSDT_5m_v0.csv', '15m': '../data/DOGEUSDT_15m_v0.csv', '30m': '../data/DOGEUSDT_30m_v0.csv'}, 'epochs': 50, 'train_size': 3000, 'val_size': 500, 'step_size': 2000, 'shuffle': True}\n",
      "\u001b[1m110/110\u001b[0m \u001b[32m━━━━━━━━━━━━━━━━━━━━\u001b[0m\u001b[37m\u001b[0m \u001b[1m4s\u001b[0m 17ms/step - loss: 1.3138 - mae: 0.5914 - val_loss: 0.0108 - val_mae: 0.0597\n",
      "\u001b[1m110/110\u001b[0m \u001b[32m━━━━━━━━━━━━━━━━━━━━\u001b[0m\u001b[37m\u001b[0m \u001b[1m2s\u001b[0m 14ms/step - loss: 0.0083 - mae: 0.0591 - val_loss: 0.0073 - val_mae: 0.0608\n",
      "\u001b[1m110/110\u001b[0m \u001b[32m━━━━━━━━━━━━━━━━━━━━\u001b[0m\u001b[37m\u001b[0m \u001b[1m2s\u001b[0m 14ms/step - loss: 0.0084 - mae: 0.0579 - val_loss: 0.0128 - val_mae: 0.0875\n",
      "\u001b[1m110/110\u001b[0m \u001b[32m━━━━━━━━━━━━━━━━━━━━\u001b[0m\u001b[37m\u001b[0m \u001b[1m2s\u001b[0m 14ms/step - loss: 0.0102 - mae: 0.0652 - val_loss: 0.0079 - val_mae: 0.0522\n",
      "\u001b[1m110/110\u001b[0m \u001b[32m━━━━━━━━━━━━━━━━━━━━\u001b[0m\u001b[37m\u001b[0m \u001b[1m2s\u001b[0m 14ms/step - loss: 0.0128 - mae: 0.0833 - val_loss: 0.0211 - val_mae: 0.1312\n",
      "\u001b[1m110/110\u001b[0m \u001b[32m━━━━━━━━━━━━━━━━━━━━\u001b[0m\u001b[37m\u001b[0m \u001b[1m2s\u001b[0m 15ms/step - loss: 0.0106 - mae: 0.0716 - val_loss: 0.0072 - val_mae: 0.0559\n",
      "\u001b[1m110/110\u001b[0m \u001b[32m━━━━━━━━━━━━━━━━━━━━\u001b[0m\u001b[37m\u001b[0m \u001b[1m2s\u001b[0m 14ms/step - loss: 0.0087 - mae: 0.0608 - val_loss: 0.0101 - val_mae: 0.0679\n",
      "\u001b[1m110/110\u001b[0m \u001b[32m━━━━━━━━━━━━━━━━━━━━\u001b[0m\u001b[37m\u001b[0m \u001b[1m2s\u001b[0m 14ms/step - loss: 0.0085 - mae: 0.0647 - val_loss: 0.0086 - val_mae: 0.0560\n",
      "\u001b[1m110/110\u001b[0m \u001b[32m━━━━━━━━━━━━━━━━━━━━\u001b[0m\u001b[37m\u001b[0m \u001b[1m2s\u001b[0m 14ms/step - loss: 0.0087 - mae: 0.0643 - val_loss: 0.0252 - val_mae: 0.1493\n",
      "\u001b[1m110/110\u001b[0m \u001b[32m━━━━━━━━━━━━━━━━━━━━\u001b[0m\u001b[37m\u001b[0m \u001b[1m2s\u001b[0m 15ms/step - loss: 0.0100 - mae: 0.0713 - val_loss: 0.0103 - val_mae: 0.0790\n",
      "\u001b[1m110/110\u001b[0m \u001b[32m━━━━━━━━━━━━━━━━━━━━\u001b[0m\u001b[37m\u001b[0m \u001b[1m2s\u001b[0m 15ms/step - loss: 0.0086 - mae: 0.0637 - val_loss: 0.0086 - val_mae: 0.0742\n",
      "Reached end of data, stopping training.\n",
      "\u001b[1m379/379\u001b[0m \u001b[32m━━━━━━━━━━━━━━━━━━━━\u001b[0m\u001b[37m\u001b[0m \u001b[1m2s\u001b[0m 5ms/step\n"
     ]
    },
    {
     "name": "stderr",
     "output_type": "stream",
     "text": [
      "[I 2025-01-09 08:01:25,906] Trial 10 finished with value: 0.006372369333966189 and parameters: {'lstm_units_1': 128, 'lstm_units_2': 32, 'dropout': 0.3, 'learning_rate': 0.06676744469587931, 'batch_size': 32, 'dense_units': 128, 'sequence_length': 100, 'gradient_clipping': 1.0, 'optimizer': 'adam', 'activation': 'tanh', 'num_indicators': 46, 'scaler_type': 'MinMaxScaler', 'window_size': 100, 'window_shift': 10, 'train_size': 3000, 'step_size': 2000}. Best is trial 1 with value: 0.004891744877325998.\n"
     ]
    },
    {
     "name": "stdout",
     "output_type": "stream",
     "text": [
      "Dataset loaded from ../data/ETHUSDT_3m_v600k.csv.\n",
      "Trial Hyperparams: {'lstm_units_1': 64, 'lstm_units_2': 64, 'dropout': 0.5, 'learning_rate': 0.005438066626388836, 'batch_size': 64, 'dense_units': 32, 'sequence_length': 10, 'gradient_clipping': 0.5, 'optimizer': 'rmsprop', 'activation': 'tanh', 'num_indicators': 8, 'scaler_type': 'MinMaxScaler', 'window_size': 40, 'look_ahead_size': 20, 'window_shift': 5, 'crypto': 'ETHUSDT', 'timeframe': '3m', 'timeframe_filenames': {'1m': '../data/ETHUSDT_1m_v600k.csv', '3m': '../data/ETHUSDT_3m_v600k.csv', '5m': '../data/DOGEUSDT_5m_v0.csv', '15m': '../data/DOGEUSDT_15m_v0.csv', '30m': '../data/DOGEUSDT_30m_v0.csv'}, 'epochs': 50, 'train_size': 5000, 'val_size': 500, 'step_size': 1000, 'shuffle': True}\n",
      "\u001b[1m86/86\u001b[0m \u001b[32m━━━━━━━━━━━━━━━━━━━━\u001b[0m\u001b[37m\u001b[0m \u001b[1m3s\u001b[0m 14ms/step - loss: 0.2281 - mae: 0.2862 - val_loss: 0.0087 - val_mae: 0.0480\n",
      "\u001b[1m86/86\u001b[0m \u001b[32m━━━━━━━━━━━━━━━━━━━━\u001b[0m\u001b[37m\u001b[0m \u001b[1m1s\u001b[0m 10ms/step - loss: 0.0122 - mae: 0.0847 - val_loss: 0.0073 - val_mae: 0.0686\n",
      "\u001b[1m86/86\u001b[0m \u001b[32m━━━━━━━━━━━━━━━━━━━━\u001b[0m\u001b[37m\u001b[0m \u001b[1m1s\u001b[0m 10ms/step - loss: 0.0074 - mae: 0.0583 - val_loss: 0.0064 - val_mae: 0.0515\n",
      "\u001b[1m86/86\u001b[0m \u001b[32m━━━━━━━━━━━━━━━━━━━━\u001b[0m\u001b[37m\u001b[0m \u001b[1m1s\u001b[0m 10ms/step - loss: 0.0061 - mae: 0.0518 - val_loss: 0.0058 - val_mae: 0.0594\n",
      "\u001b[1m86/86\u001b[0m \u001b[32m━━━━━━━━━━━━━━━━━━━━\u001b[0m\u001b[37m\u001b[0m \u001b[1m1s\u001b[0m 10ms/step - loss: 0.0066 - mae: 0.0528 - val_loss: 0.0053 - val_mae: 0.0414\n",
      "\u001b[1m86/86\u001b[0m \u001b[32m━━━━━━━━━━━━━━━━━━━━\u001b[0m\u001b[37m\u001b[0m \u001b[1m1s\u001b[0m 10ms/step - loss: 0.0067 - mae: 0.0507 - val_loss: 0.0108 - val_mae: 0.0493\n",
      "\u001b[1m86/86\u001b[0m \u001b[32m━━━━━━━━━━━━━━━━━━━━\u001b[0m\u001b[37m\u001b[0m \u001b[1m1s\u001b[0m 10ms/step - loss: 0.0065 - mae: 0.0497 - val_loss: 0.0053 - val_mae: 0.0495\n",
      "\u001b[1m86/86\u001b[0m \u001b[32m━━━━━━━━━━━━━━━━━━━━\u001b[0m\u001b[37m\u001b[0m \u001b[1m1s\u001b[0m 10ms/step - loss: 0.0062 - mae: 0.0497 - val_loss: 0.0060 - val_mae: 0.0575\n",
      "\u001b[1m86/86\u001b[0m \u001b[32m━━━━━━━━━━━━━━━━━━━━\u001b[0m\u001b[37m\u001b[0m \u001b[1m1s\u001b[0m 10ms/step - loss: 0.0060 - mae: 0.0494 - val_loss: 0.0068 - val_mae: 0.0474\n",
      "\u001b[1m86/86\u001b[0m \u001b[32m━━━━━━━━━━━━━━━━━━━━\u001b[0m\u001b[37m\u001b[0m \u001b[1m1s\u001b[0m 10ms/step - loss: 0.0065 - mae: 0.0495 - val_loss: 0.0043 - val_mae: 0.0427\n",
      "\u001b[1m86/86\u001b[0m \u001b[32m━━━━━━━━━━━━━━━━━━━━\u001b[0m\u001b[37m\u001b[0m \u001b[1m1s\u001b[0m 10ms/step - loss: 0.0062 - mae: 0.0488 - val_loss: 0.0055 - val_mae: 0.0430\n",
      "\u001b[1m86/86\u001b[0m \u001b[32m━━━━━━━━━━━━━━━━━━━━\u001b[0m\u001b[37m\u001b[0m \u001b[1m1s\u001b[0m 10ms/step - loss: 0.0063 - mae: 0.0483 - val_loss: 0.0063 - val_mae: 0.0502\n",
      "\u001b[1m86/86\u001b[0m \u001b[32m━━━━━━━━━━━━━━━━━━━━\u001b[0m\u001b[37m\u001b[0m \u001b[1m1s\u001b[0m 10ms/step - loss: 0.0054 - mae: 0.0466 - val_loss: 0.0054 - val_mae: 0.0489\n",
      "\u001b[1m86/86\u001b[0m \u001b[32m━━━━━━━━━━━━━━━━━━━━\u001b[0m\u001b[37m\u001b[0m \u001b[1m1s\u001b[0m 10ms/step - loss: 0.0060 - mae: 0.0478 - val_loss: 0.0073 - val_mae: 0.0481\n",
      "\u001b[1m86/86\u001b[0m \u001b[32m━━━━━━━━━━━━━━━━━━━━\u001b[0m\u001b[37m\u001b[0m \u001b[1m1s\u001b[0m 10ms/step - loss: 0.0055 - mae: 0.0471 - val_loss: 0.0054 - val_mae: 0.0507\n",
      "\u001b[1m86/86\u001b[0m \u001b[32m━━━━━━━━━━━━━━━━━━━━\u001b[0m\u001b[37m\u001b[0m \u001b[1m1s\u001b[0m 10ms/step - loss: 0.0054 - mae: 0.0470 - val_loss: 0.0041 - val_mae: 0.0487\n",
      "\u001b[1m86/86\u001b[0m \u001b[32m━━━━━━━━━━━━━━━━━━━━\u001b[0m\u001b[37m\u001b[0m \u001b[1m1s\u001b[0m 10ms/step - loss: 0.0060 - mae: 0.0486 - val_loss: 0.0066 - val_mae: 0.0497\n",
      "\u001b[1m86/86\u001b[0m \u001b[32m━━━━━━━━━━━━━━━━━━━━\u001b[0m\u001b[37m\u001b[0m \u001b[1m1s\u001b[0m 9ms/step - loss: 0.0060 - mae: 0.0481 - val_loss: 0.0064 - val_mae: 0.0551\n",
      "\u001b[1m86/86\u001b[0m \u001b[32m━━━━━━━━━━━━━━━━━━━━\u001b[0m\u001b[37m\u001b[0m \u001b[1m1s\u001b[0m 10ms/step - loss: 0.0058 - mae: 0.0489 - val_loss: 0.0067 - val_mae: 0.0618\n",
      "Reached end of data, stopping training.\n",
      "\u001b[1m758/758\u001b[0m \u001b[32m━━━━━━━━━━━━━━━━━━━━\u001b[0m\u001b[37m\u001b[0m \u001b[1m2s\u001b[0m 3ms/step\n"
     ]
    },
    {
     "name": "stderr",
     "output_type": "stream",
     "text": [
      "[I 2025-01-09 08:02:06,501] Trial 11 finished with value: 0.005699807768509629 and parameters: {'lstm_units_1': 64, 'lstm_units_2': 64, 'dropout': 0.5, 'learning_rate': 0.005438066626388836, 'batch_size': 64, 'dense_units': 32, 'sequence_length': 10, 'gradient_clipping': 0.5, 'optimizer': 'rmsprop', 'activation': 'tanh', 'num_indicators': 8, 'scaler_type': 'MinMaxScaler', 'window_size': 40, 'window_shift': 5, 'train_size': 5000, 'step_size': 1000}. Best is trial 1 with value: 0.004891744877325998.\n"
     ]
    },
    {
     "name": "stdout",
     "output_type": "stream",
     "text": [
      "Dataset loaded from ../data/ETHUSDT_3m_v600k.csv.\n",
      "Trial Hyperparams: {'lstm_units_1': 256, 'lstm_units_2': 32, 'dropout': 0.5, 'learning_rate': 0.028744643547466323, 'batch_size': 64, 'dense_units': 32, 'sequence_length': 10, 'gradient_clipping': 0.5, 'optimizer': 'rmsprop', 'activation': 'tanh', 'num_indicators': 18, 'scaler_type': 'MinMaxScaler', 'window_size': 40, 'look_ahead_size': 20, 'window_shift': 5, 'crypto': 'ETHUSDT', 'timeframe': '3m', 'timeframe_filenames': {'1m': '../data/ETHUSDT_1m_v600k.csv', '3m': '../data/ETHUSDT_3m_v600k.csv', '5m': '../data/DOGEUSDT_5m_v0.csv', '15m': '../data/DOGEUSDT_15m_v0.csv', '30m': '../data/DOGEUSDT_30m_v0.csv'}, 'epochs': 50, 'train_size': 2000, 'val_size': 500, 'step_size': 3000, 'shuffle': True}\n",
      "\u001b[1m40/40\u001b[0m \u001b[32m━━━━━━━━━━━━━━━━━━━━\u001b[0m\u001b[37m\u001b[0m \u001b[1m2s\u001b[0m 21ms/step - loss: 1.3007 - mae: 0.6139 - val_loss: 0.0163 - val_mae: 0.1015\n",
      "\u001b[1m40/40\u001b[0m \u001b[32m━━━━━━━━━━━━━━━━━━━━\u001b[0m\u001b[37m\u001b[0m \u001b[1m1s\u001b[0m 15ms/step - loss: 0.0524 - mae: 0.1717 - val_loss: 0.0092 - val_mae: 0.0478\n",
      "\u001b[1m40/40\u001b[0m \u001b[32m━━━━━━━━━━━━━━━━━━━━\u001b[0m\u001b[37m\u001b[0m \u001b[1m1s\u001b[0m 15ms/step - loss: 0.0390 - mae: 0.1283 - val_loss: 0.0170 - val_mae: 0.1047\n",
      "\u001b[1m40/40\u001b[0m \u001b[32m━━━━━━━━━━━━━━━━━━━━\u001b[0m\u001b[37m\u001b[0m \u001b[1m1s\u001b[0m 15ms/step - loss: 0.0346 - mae: 0.1283 - val_loss: 0.0071 - val_mae: 0.0498\n",
      "\u001b[1m40/40\u001b[0m \u001b[32m━━━━━━━━━━━━━━━━━━━━\u001b[0m\u001b[37m\u001b[0m \u001b[1m1s\u001b[0m 15ms/step - loss: 0.0299 - mae: 0.1066 - val_loss: 0.0148 - val_mae: 0.0916\n",
      "\u001b[1m40/40\u001b[0m \u001b[32m━━━━━━━━━━━━━━━━━━━━\u001b[0m\u001b[37m\u001b[0m \u001b[1m1s\u001b[0m 15ms/step - loss: 0.0286 - mae: 0.1088 - val_loss: 0.0170 - val_mae: 0.1101\n",
      "\u001b[1m40/40\u001b[0m \u001b[32m━━━━━━━━━━━━━━━━━━━━\u001b[0m\u001b[37m\u001b[0m \u001b[1m1s\u001b[0m 15ms/step - loss: 0.0333 - mae: 0.1299 - val_loss: 0.0049 - val_mae: 0.0565\n",
      "\u001b[1m40/40\u001b[0m \u001b[32m━━━━━━━━━━━━━━━━━━━━\u001b[0m\u001b[37m\u001b[0m \u001b[1m1s\u001b[0m 15ms/step - loss: 0.0348 - mae: 0.1216 - val_loss: 0.0086 - val_mae: 0.0675\n",
      "Reached end of data, stopping training.\n",
      "\u001b[1m758/758\u001b[0m \u001b[32m━━━━━━━━━━━━━━━━━━━━\u001b[0m\u001b[37m\u001b[0m \u001b[1m3s\u001b[0m 4ms/step\n"
     ]
    },
    {
     "name": "stderr",
     "output_type": "stream",
     "text": [
      "[I 2025-01-09 08:02:35,674] Trial 12 finished with value: 0.006489859116666038 and parameters: {'lstm_units_1': 256, 'lstm_units_2': 32, 'dropout': 0.5, 'learning_rate': 0.028744643547466323, 'batch_size': 64, 'dense_units': 32, 'sequence_length': 10, 'gradient_clipping': 0.5, 'optimizer': 'rmsprop', 'activation': 'tanh', 'num_indicators': 18, 'scaler_type': 'MinMaxScaler', 'window_size': 40, 'window_shift': 5, 'train_size': 2000, 'step_size': 3000}. Best is trial 1 with value: 0.004891744877325998.\n"
     ]
    },
    {
     "name": "stdout",
     "output_type": "stream",
     "text": [
      "Dataset loaded from ../data/ETHUSDT_3m_v600k.csv.\n",
      "Trial Hyperparams: {'lstm_units_1': 64, 'lstm_units_2': 64, 'dropout': 0.2, 'learning_rate': 0.00211337934536746, 'batch_size': 128, 'dense_units': 128, 'sequence_length': 50, 'gradient_clipping': 0.5, 'optimizer': 'rmsprop', 'activation': 'tanh', 'num_indicators': 14, 'scaler_type': 'MinMaxScaler', 'window_size': 40, 'look_ahead_size': 20, 'window_shift': 20, 'crypto': 'ETHUSDT', 'timeframe': '3m', 'timeframe_filenames': {'1m': '../data/ETHUSDT_1m_v600k.csv', '3m': '../data/ETHUSDT_3m_v600k.csv', '5m': '../data/DOGEUSDT_5m_v0.csv', '15m': '../data/DOGEUSDT_15m_v0.csv', '30m': '../data/DOGEUSDT_30m_v0.csv'}, 'epochs': 50, 'train_size': 10000, 'val_size': 500, 'step_size': 1000, 'shuffle': True}\n",
      "\u001b[1m83/83\u001b[0m \u001b[32m━━━━━━━━━━━━━━━━━━━━\u001b[0m\u001b[37m\u001b[0m \u001b[1m3s\u001b[0m 13ms/step - loss: 0.1724 - mae: 0.2576 - val_loss: 0.0212 - val_mae: 0.1059\n",
      "\u001b[1m83/83\u001b[0m \u001b[32m━━━━━━━━━━━━━━━━━━━━\u001b[0m\u001b[37m\u001b[0m \u001b[1m1s\u001b[0m 10ms/step - loss: 0.0162 - mae: 0.0974 - val_loss: 0.0148 - val_mae: 0.0973\n",
      "\u001b[1m83/83\u001b[0m \u001b[32m━━━━━━━━━━━━━━━━━━━━\u001b[0m\u001b[37m\u001b[0m \u001b[1m1s\u001b[0m 10ms/step - loss: 0.0115 - mae: 0.0800 - val_loss: 0.0058 - val_mae: 0.0506\n",
      "\u001b[1m83/83\u001b[0m \u001b[32m━━━━━━━━━━━━━━━━━━━━\u001b[0m\u001b[37m\u001b[0m \u001b[1m1s\u001b[0m 10ms/step - loss: 0.0078 - mae: 0.0603 - val_loss: 0.0106 - val_mae: 0.0760\n",
      "\u001b[1m83/83\u001b[0m \u001b[32m━━━━━━━━━━━━━━━━━━━━\u001b[0m\u001b[37m\u001b[0m \u001b[1m1s\u001b[0m 11ms/step - loss: 0.0068 - mae: 0.0534 - val_loss: 0.0067 - val_mae: 0.0613\n",
      "\u001b[1m83/83\u001b[0m \u001b[32m━━━━━━━━━━━━━━━━━━━━\u001b[0m\u001b[37m\u001b[0m \u001b[1m1s\u001b[0m 11ms/step - loss: 0.0060 - mae: 0.0502 - val_loss: 0.0050 - val_mae: 0.0437\n",
      "\u001b[1m83/83\u001b[0m \u001b[32m━━━━━━━━━━━━━━━━━━━━\u001b[0m\u001b[37m\u001b[0m \u001b[1m1s\u001b[0m 10ms/step - loss: 0.0057 - mae: 0.0480 - val_loss: 0.0088 - val_mae: 0.0559\n",
      "\u001b[1m83/83\u001b[0m \u001b[32m━━━━━━━━━━━━━━━━━━━━\u001b[0m\u001b[37m\u001b[0m \u001b[1m1s\u001b[0m 10ms/step - loss: 0.0058 - mae: 0.0479 - val_loss: 0.0051 - val_mae: 0.0461\n",
      "\u001b[1m83/83\u001b[0m \u001b[32m━━━━━━━━━━━━━━━━━━━━\u001b[0m\u001b[37m\u001b[0m \u001b[1m1s\u001b[0m 10ms/step - loss: 0.0061 - mae: 0.0479 - val_loss: 0.0083 - val_mae: 0.0693\n",
      "\u001b[1m83/83\u001b[0m \u001b[32m━━━━━━━━━━━━━━━━━━━━\u001b[0m\u001b[37m\u001b[0m \u001b[1m1s\u001b[0m 10ms/step - loss: 0.0057 - mae: 0.0482 - val_loss: 0.0053 - val_mae: 0.0463\n",
      "\u001b[1m83/83\u001b[0m \u001b[32m━━━━━━━━━━━━━━━━━━━━\u001b[0m\u001b[37m\u001b[0m \u001b[1m1s\u001b[0m 10ms/step - loss: 0.0056 - mae: 0.0471 - val_loss: 0.0042 - val_mae: 0.0446\n",
      "\u001b[1m83/83\u001b[0m \u001b[32m━━━━━━━━━━━━━━━━━━━━\u001b[0m\u001b[37m\u001b[0m \u001b[1m1s\u001b[0m 11ms/step - loss: 0.0058 - mae: 0.0464 - val_loss: 0.0085 - val_mae: 0.0639\n",
      "\u001b[1m83/83\u001b[0m \u001b[32m━━━━━━━━━━━━━━━━━━━━\u001b[0m\u001b[37m\u001b[0m \u001b[1m1s\u001b[0m 11ms/step - loss: 0.0055 - mae: 0.0477 - val_loss: 0.0091 - val_mae: 0.0675\n",
      "\u001b[1m83/83\u001b[0m \u001b[32m━━━━━━━━━━━━━━━━━━━━\u001b[0m\u001b[37m\u001b[0m \u001b[1m1s\u001b[0m 10ms/step - loss: 0.0063 - mae: 0.0499 - val_loss: 0.0079 - val_mae: 0.0596\n",
      "Reached end of data, stopping training.\n",
      "\u001b[1m190/190\u001b[0m \u001b[32m━━━━━━━━━━━━━━━━━━━━\u001b[0m\u001b[37m\u001b[0m \u001b[1m1s\u001b[0m 4ms/step\n"
     ]
    },
    {
     "name": "stderr",
     "output_type": "stream",
     "text": [
      "[I 2025-01-09 08:03:04,853] Trial 13 finished with value: 0.005653088124500771 and parameters: {'lstm_units_1': 64, 'lstm_units_2': 64, 'dropout': 0.2, 'learning_rate': 0.00211337934536746, 'batch_size': 128, 'dense_units': 128, 'sequence_length': 50, 'gradient_clipping': 0.5, 'optimizer': 'rmsprop', 'activation': 'tanh', 'num_indicators': 14, 'scaler_type': 'MinMaxScaler', 'window_size': 40, 'window_shift': 20, 'train_size': 10000, 'step_size': 1000}. Best is trial 1 with value: 0.004891744877325998.\n"
     ]
    },
    {
     "name": "stdout",
     "output_type": "stream",
     "text": [
      "Dataset loaded from ../data/ETHUSDT_3m_v600k.csv.\n",
      "Trial Hyperparams: {'lstm_units_1': 128, 'lstm_units_2': 128, 'dropout': 0.2, 'learning_rate': 1.186628305384235e-05, 'batch_size': 64, 'dense_units': 128, 'sequence_length': 10, 'gradient_clipping': 0.5, 'optimizer': 'adam', 'activation': 'tanh', 'num_indicators': 22, 'scaler_type': 'RobustScaler', 'window_size': 60, 'look_ahead_size': 20, 'window_shift': 5, 'crypto': 'ETHUSDT', 'timeframe': '3m', 'timeframe_filenames': {'1m': '../data/ETHUSDT_1m_v600k.csv', '3m': '../data/ETHUSDT_3m_v600k.csv', '5m': '../data/DOGEUSDT_5m_v0.csv', '15m': '../data/DOGEUSDT_15m_v0.csv', '30m': '../data/DOGEUSDT_30m_v0.csv'}, 'epochs': 50, 'train_size': 3000, 'val_size': 500, 'step_size': 5000, 'shuffle': True}\n",
      "\u001b[1m55/55\u001b[0m \u001b[32m━━━━━━━━━━━━━━━━━━━━\u001b[0m\u001b[37m\u001b[0m \u001b[1m3s\u001b[0m 20ms/step - loss: 0.5722 - mae: 0.6509 - val_loss: 0.3798 - val_mae: 0.5292\n",
      "\u001b[1m55/55\u001b[0m \u001b[32m━━━━━━━━━━━━━━━━━━━━\u001b[0m\u001b[37m\u001b[0m \u001b[1m1s\u001b[0m 16ms/step - loss: 0.4263 - mae: 0.5484 - val_loss: 0.2778 - val_mae: 0.4389\n",
      "\u001b[1m55/55\u001b[0m \u001b[32m━━━━━━━━━━━━━━━━━━━━\u001b[0m\u001b[37m\u001b[0m \u001b[1m1s\u001b[0m 15ms/step - loss: 0.3210 - mae: 0.4681 - val_loss: 0.2111 - val_mae: 0.3745\n",
      "\u001b[1m55/55\u001b[0m \u001b[32m━━━━━━━━━━━━━━━━━━━━\u001b[0m\u001b[37m\u001b[0m \u001b[1m1s\u001b[0m 16ms/step - loss: 0.2462 - mae: 0.4029 - val_loss: 0.1457 - val_mae: 0.3070\n",
      "\u001b[1m55/55\u001b[0m \u001b[32m━━━━━━━━━━━━━━━━━━━━\u001b[0m\u001b[37m\u001b[0m \u001b[1m1s\u001b[0m 15ms/step - loss: 0.1908 - mae: 0.3494 - val_loss: 0.1159 - val_mae: 0.2650\n",
      "Reached end of data, stopping training.\n",
      "\u001b[1m758/758\u001b[0m \u001b[32m━━━━━━━━━━━━━━━━━━━━\u001b[0m\u001b[37m\u001b[0m \u001b[1m3s\u001b[0m 4ms/step\n"
     ]
    },
    {
     "name": "stderr",
     "output_type": "stream",
     "text": [
      "[I 2025-01-09 08:03:35,093] Trial 14 finished with value: 0.024950172462241745 and parameters: {'lstm_units_1': 128, 'lstm_units_2': 128, 'dropout': 0.2, 'learning_rate': 1.186628305384235e-05, 'batch_size': 64, 'dense_units': 128, 'sequence_length': 10, 'gradient_clipping': 0.5, 'optimizer': 'adam', 'activation': 'tanh', 'num_indicators': 22, 'scaler_type': 'RobustScaler', 'window_size': 60, 'window_shift': 5, 'train_size': 3000, 'step_size': 5000}. Best is trial 1 with value: 0.004891744877325998.\n"
     ]
    },
    {
     "name": "stdout",
     "output_type": "stream",
     "text": [
      "Dataset loaded from ../data/ETHUSDT_3m_v600k.csv.\n",
      "Trial Hyperparams: {'lstm_units_1': 256, 'lstm_units_2': 32, 'dropout': 0.5, 'learning_rate': 0.002519676536206074, 'batch_size': 128, 'dense_units': 32, 'sequence_length': 100, 'gradient_clipping': 2.0, 'optimizer': 'rmsprop', 'activation': 'tanh', 'num_indicators': 35, 'scaler_type': 'MinMaxScaler', 'window_size': 100, 'look_ahead_size': 20, 'window_shift': 10, 'crypto': 'ETHUSDT', 'timeframe': '3m', 'timeframe_filenames': {'1m': '../data/ETHUSDT_1m_v600k.csv', '3m': '../data/ETHUSDT_3m_v600k.csv', '5m': '../data/DOGEUSDT_5m_v0.csv', '15m': '../data/DOGEUSDT_15m_v0.csv', '30m': '../data/DOGEUSDT_30m_v0.csv'}, 'epochs': 50, 'train_size': 2000, 'val_size': 500, 'step_size': 3000, 'shuffle': True}\n",
      "\u001b[1m20/20\u001b[0m \u001b[32m━━━━━━━━━━━━━━━━━━━━\u001b[0m\u001b[37m\u001b[0m \u001b[1m3s\u001b[0m 54ms/step - loss: 0.2893 - mae: 0.3861 - val_loss: 0.0166 - val_mae: 0.1033\n",
      "\u001b[1m20/20\u001b[0m \u001b[32m━━━━━━━━━━━━━━━━━━━━\u001b[0m\u001b[37m\u001b[0m \u001b[1m1s\u001b[0m 41ms/step - loss: 0.0334 - mae: 0.1424 - val_loss: 0.0146 - val_mae: 0.0944\n",
      "\u001b[1m20/20\u001b[0m \u001b[32m━━━━━━━━━━━━━━━━━━━━\u001b[0m\u001b[37m\u001b[0m \u001b[1m1s\u001b[0m 41ms/step - loss: 0.0306 - mae: 0.1344 - val_loss: 0.0226 - val_mae: 0.1195\n",
      "\u001b[1m20/20\u001b[0m \u001b[32m━━━━━━━━━━━━━━━━━━━━\u001b[0m\u001b[37m\u001b[0m \u001b[1m1s\u001b[0m 41ms/step - loss: 0.0219 - mae: 0.1150 - val_loss: 0.0080 - val_mae: 0.0553\n",
      "\u001b[1m20/20\u001b[0m \u001b[32m━━━━━━━━━━━━━━━━━━━━\u001b[0m\u001b[37m\u001b[0m \u001b[1m1s\u001b[0m 43ms/step - loss: 0.0164 - mae: 0.0964 - val_loss: 0.0076 - val_mae: 0.0644\n",
      "\u001b[1m20/20\u001b[0m \u001b[32m━━━━━━━━━━━━━━━━━━━━\u001b[0m\u001b[37m\u001b[0m \u001b[1m1s\u001b[0m 41ms/step - loss: 0.0137 - mae: 0.0919 - val_loss: 0.0098 - val_mae: 0.0650\n",
      "\u001b[1m20/20\u001b[0m \u001b[32m━━━━━━━━━━━━━━━━━━━━\u001b[0m\u001b[37m\u001b[0m \u001b[1m1s\u001b[0m 41ms/step - loss: 0.0114 - mae: 0.0793 - val_loss: 0.0117 - val_mae: 0.0803\n",
      "\u001b[1m20/20\u001b[0m \u001b[32m━━━━━━━━━━━━━━━━━━━━\u001b[0m\u001b[37m\u001b[0m \u001b[1m1s\u001b[0m 42ms/step - loss: 0.0121 - mae: 0.0819 - val_loss: 0.0081 - val_mae: 0.0634\n",
      "Reached end of data, stopping training.\n",
      "\u001b[1m379/379\u001b[0m \u001b[32m━━━━━━━━━━━━━━━━━━━━\u001b[0m\u001b[37m\u001b[0m \u001b[1m3s\u001b[0m 7ms/step\n"
     ]
    },
    {
     "name": "stderr",
     "output_type": "stream",
     "text": [
      "[I 2025-01-09 08:04:04,096] Trial 15 finished with value: 0.005670644643717611 and parameters: {'lstm_units_1': 256, 'lstm_units_2': 32, 'dropout': 0.5, 'learning_rate': 0.002519676536206074, 'batch_size': 128, 'dense_units': 32, 'sequence_length': 100, 'gradient_clipping': 2.0, 'optimizer': 'rmsprop', 'activation': 'tanh', 'num_indicators': 35, 'scaler_type': 'MinMaxScaler', 'window_size': 100, 'window_shift': 10, 'train_size': 2000, 'step_size': 3000}. Best is trial 1 with value: 0.004891744877325998.\n"
     ]
    },
    {
     "name": "stdout",
     "output_type": "stream",
     "text": [
      "Dataset loaded from ../data/ETHUSDT_3m_v600k.csv.\n",
      "Trial Hyperparams: {'lstm_units_1': 64, 'lstm_units_2': 64, 'dropout': 0.1, 'learning_rate': 0.02355168814853304, 'batch_size': 32, 'dense_units': 16, 'sequence_length': 100, 'gradient_clipping': 0.5, 'optimizer': 'adam', 'activation': 'tanh', 'num_indicators': 5, 'scaler_type': 'RobustScaler', 'window_size': 40, 'look_ahead_size': 20, 'window_shift': 5, 'crypto': 'ETHUSDT', 'timeframe': '3m', 'timeframe_filenames': {'1m': '../data/ETHUSDT_1m_v600k.csv', '3m': '../data/ETHUSDT_3m_v600k.csv', '5m': '../data/DOGEUSDT_5m_v0.csv', '15m': '../data/DOGEUSDT_15m_v0.csv', '30m': '../data/DOGEUSDT_30m_v0.csv'}, 'epochs': 50, 'train_size': 5000, 'val_size': 500, 'step_size': 1000, 'shuffle': True}\n",
      "\u001b[1m172/172\u001b[0m \u001b[32m━━━━━━━━━━━━━━━━━━━━\u001b[0m\u001b[37m\u001b[0m \u001b[1m5s\u001b[0m 15ms/step - loss: 0.0571 - mae: 0.1291 - val_loss: 0.0091 - val_mae: 0.0559\n",
      "\u001b[1m172/172\u001b[0m \u001b[32m━━━━━━━━━━━━━━━━━━━━\u001b[0m\u001b[37m\u001b[0m \u001b[1m2s\u001b[0m 10ms/step - loss: 0.0066 - mae: 0.0556 - val_loss: 0.0046 - val_mae: 0.0514\n",
      "\u001b[1m172/172\u001b[0m \u001b[32m━━━━━━━━━━━━━━━━━━━━\u001b[0m\u001b[37m\u001b[0m \u001b[1m2s\u001b[0m 10ms/step - loss: 0.0060 - mae: 0.0510 - val_loss: 0.0065 - val_mae: 0.0517\n",
      "\u001b[1m172/172\u001b[0m \u001b[32m━━━━━━━━━━━━━━━━━━━━\u001b[0m\u001b[37m\u001b[0m \u001b[1m2s\u001b[0m 10ms/step - loss: 0.0062 - mae: 0.0518 - val_loss: 0.0043 - val_mae: 0.0430\n",
      "\u001b[1m172/172\u001b[0m \u001b[32m━━━━━━━━━━━━━━━━━━━━\u001b[0m\u001b[37m\u001b[0m \u001b[1m2s\u001b[0m 10ms/step - loss: 0.0053 - mae: 0.0479 - val_loss: 0.0042 - val_mae: 0.0407\n",
      "\u001b[1m172/172\u001b[0m \u001b[32m━━━━━━━━━━━━━━━━━━━━\u001b[0m\u001b[37m\u001b[0m \u001b[1m2s\u001b[0m 10ms/step - loss: 0.0062 - mae: 0.0517 - val_loss: 0.0109 - val_mae: 0.0620\n",
      "\u001b[1m172/172\u001b[0m \u001b[32m━━━━━━━━━━━━━━━━━━━━\u001b[0m\u001b[37m\u001b[0m \u001b[1m2s\u001b[0m 10ms/step - loss: 0.0063 - mae: 0.0519 - val_loss: 0.0047 - val_mae: 0.0437\n",
      "\u001b[1m172/172\u001b[0m \u001b[32m━━━━━━━━━━━━━━━━━━━━\u001b[0m\u001b[37m\u001b[0m \u001b[1m2s\u001b[0m 10ms/step - loss: 0.0068 - mae: 0.0514 - val_loss: 0.0056 - val_mae: 0.0468\n",
      "\u001b[1m172/172\u001b[0m \u001b[32m━━━━━━━━━━━━━━━━━━━━\u001b[0m\u001b[37m\u001b[0m \u001b[1m2s\u001b[0m 10ms/step - loss: 0.0068 - mae: 0.0508 - val_loss: 0.0076 - val_mae: 0.0517\n",
      "\u001b[1m172/172\u001b[0m \u001b[32m━━━━━━━━━━━━━━━━━━━━\u001b[0m\u001b[37m\u001b[0m \u001b[1m2s\u001b[0m 10ms/step - loss: 0.0059 - mae: 0.0473 - val_loss: 0.0035 - val_mae: 0.0420\n",
      "\u001b[1m172/172\u001b[0m \u001b[32m━━━━━━━━━━━━━━━━━━━━\u001b[0m\u001b[37m\u001b[0m \u001b[1m2s\u001b[0m 10ms/step - loss: 0.0058 - mae: 0.0483 - val_loss: 0.0058 - val_mae: 0.0480\n",
      "\u001b[1m172/172\u001b[0m \u001b[32m━━━━━━━━━━━━━━━━━━━━\u001b[0m\u001b[37m\u001b[0m \u001b[1m2s\u001b[0m 10ms/step - loss: 0.0061 - mae: 0.0503 - val_loss: 0.0063 - val_mae: 0.0520\n",
      "\u001b[1m172/172\u001b[0m \u001b[32m━━━━━━━━━━━━━━━━━━━━\u001b[0m\u001b[37m\u001b[0m \u001b[1m2s\u001b[0m 10ms/step - loss: 0.0057 - mae: 0.0469 - val_loss: 0.0041 - val_mae: 0.0421\n",
      "\u001b[1m172/172\u001b[0m \u001b[32m━━━━━━━━━━━━━━━━━━━━\u001b[0m\u001b[37m\u001b[0m \u001b[1m2s\u001b[0m 10ms/step - loss: 0.0057 - mae: 0.0487 - val_loss: 0.0071 - val_mae: 0.0520\n",
      "\u001b[1m172/172\u001b[0m \u001b[32m━━━━━━━━━━━━━━━━━━━━\u001b[0m\u001b[37m\u001b[0m \u001b[1m2s\u001b[0m 10ms/step - loss: 0.0054 - mae: 0.0472 - val_loss: 0.0057 - val_mae: 0.0466\n",
      "\u001b[1m172/172\u001b[0m \u001b[32m━━━━━━━━━━━━━━━━━━━━\u001b[0m\u001b[37m\u001b[0m \u001b[1m2s\u001b[0m 10ms/step - loss: 0.0056 - mae: 0.0482 - val_loss: 0.0037 - val_mae: 0.0405\n",
      "\u001b[1m172/172\u001b[0m \u001b[32m━━━━━━━━━━━━━━━━━━━━\u001b[0m\u001b[37m\u001b[0m \u001b[1m2s\u001b[0m 10ms/step - loss: 0.0058 - mae: 0.0487 - val_loss: 0.0073 - val_mae: 0.0598\n",
      "\u001b[1m172/172\u001b[0m \u001b[32m━━━━━━━━━━━━━━━━━━━━\u001b[0m\u001b[37m\u001b[0m \u001b[1m2s\u001b[0m 10ms/step - loss: 0.0053 - mae: 0.0466 - val_loss: 0.0070 - val_mae: 0.0590\n",
      "\u001b[1m172/172\u001b[0m \u001b[32m━━━━━━━━━━━━━━━━━━━━\u001b[0m\u001b[37m\u001b[0m \u001b[1m2s\u001b[0m 10ms/step - loss: 0.0064 - mae: 0.0517 - val_loss: 0.0069 - val_mae: 0.0605\n",
      "Reached end of data, stopping training.\n",
      "\u001b[1m758/758\u001b[0m \u001b[32m━━━━━━━━━━━━━━━━━━━━\u001b[0m\u001b[37m\u001b[0m \u001b[1m2s\u001b[0m 3ms/step\n"
     ]
    },
    {
     "name": "stderr",
     "output_type": "stream",
     "text": [
      "[I 2025-01-09 08:05:02,291] Trial 16 finished with value: 0.005618444064272358 and parameters: {'lstm_units_1': 64, 'lstm_units_2': 64, 'dropout': 0.1, 'learning_rate': 0.02355168814853304, 'batch_size': 32, 'dense_units': 16, 'sequence_length': 100, 'gradient_clipping': 0.5, 'optimizer': 'adam', 'activation': 'tanh', 'num_indicators': 5, 'scaler_type': 'RobustScaler', 'window_size': 40, 'window_shift': 5, 'train_size': 5000, 'step_size': 1000}. Best is trial 1 with value: 0.004891744877325998.\n"
     ]
    },
    {
     "name": "stdout",
     "output_type": "stream",
     "text": [
      "Dataset loaded from ../data/ETHUSDT_3m_v600k.csv.\n",
      "Trial Hyperparams: {'lstm_units_1': 64, 'lstm_units_2': 32, 'dropout': 0.3, 'learning_rate': 0.0002837996260603456, 'batch_size': 16, 'dense_units': 64, 'sequence_length': 10, 'gradient_clipping': 0.5, 'optimizer': 'rmsprop', 'activation': 'tanh', 'num_indicators': 30, 'scaler_type': 'MinMaxScaler', 'window_size': 100, 'look_ahead_size': 20, 'window_shift': 5, 'crypto': 'ETHUSDT', 'timeframe': '3m', 'timeframe_filenames': {'1m': '../data/ETHUSDT_1m_v600k.csv', '3m': '../data/ETHUSDT_3m_v600k.csv', '5m': '../data/DOGEUSDT_5m_v0.csv', '15m': '../data/DOGEUSDT_15m_v0.csv', '30m': '../data/DOGEUSDT_30m_v0.csv'}, 'epochs': 50, 'train_size': 10000, 'val_size': 500, 'step_size': 5000, 'shuffle': True}\n",
      "\u001b[1m657/657\u001b[0m \u001b[32m━━━━━━━━━━━━━━━━━━━━\u001b[0m\u001b[37m\u001b[0m \u001b[1m9s\u001b[0m 11ms/step - loss: 0.0363 - mae: 0.1300 - val_loss: 0.0122 - val_mae: 0.0610\n",
      "\u001b[1m657/657\u001b[0m \u001b[32m━━━━━━━━━━━━━━━━━━━━\u001b[0m\u001b[37m\u001b[0m \u001b[1m7s\u001b[0m 11ms/step - loss: 0.0080 - mae: 0.0569 - val_loss: 0.0063 - val_mae: 0.0539\n",
      "\u001b[1m657/657\u001b[0m \u001b[32m━━━━━━━━━━━━━━━━━━━━\u001b[0m\u001b[37m\u001b[0m \u001b[1m7s\u001b[0m 11ms/step - loss: 0.0066 - mae: 0.0525 - val_loss: 0.0085 - val_mae: 0.0535\n",
      "Reached end of data, stopping training.\n",
      "\u001b[1m757/757\u001b[0m \u001b[32m━━━━━━━━━━━━━━━━━━━━\u001b[0m\u001b[37m\u001b[0m \u001b[1m3s\u001b[0m 4ms/step\n"
     ]
    },
    {
     "name": "stderr",
     "output_type": "stream",
     "text": [
      "[I 2025-01-09 08:05:50,641] Trial 17 finished with value: 0.005328703689505538 and parameters: {'lstm_units_1': 64, 'lstm_units_2': 32, 'dropout': 0.3, 'learning_rate': 0.0002837996260603456, 'batch_size': 16, 'dense_units': 64, 'sequence_length': 10, 'gradient_clipping': 0.5, 'optimizer': 'rmsprop', 'activation': 'tanh', 'num_indicators': 30, 'scaler_type': 'MinMaxScaler', 'window_size': 100, 'window_shift': 5, 'train_size': 10000, 'step_size': 5000}. Best is trial 1 with value: 0.004891744877325998.\n"
     ]
    },
    {
     "name": "stdout",
     "output_type": "stream",
     "text": [
      "Dataset loaded from ../data/ETHUSDT_3m_v600k.csv.\n",
      "Trial Hyperparams: {'lstm_units_1': 256, 'lstm_units_2': 64, 'dropout': 0.2, 'learning_rate': 0.0017915817741668899, 'batch_size': 128, 'dense_units': 32, 'sequence_length': 50, 'gradient_clipping': 2.0, 'optimizer': 'rmsprop', 'activation': 'tanh', 'num_indicators': 41, 'scaler_type': 'RobustScaler', 'window_size': 40, 'look_ahead_size': 20, 'window_shift': 15, 'crypto': 'ETHUSDT', 'timeframe': '3m', 'timeframe_filenames': {'1m': '../data/ETHUSDT_1m_v600k.csv', '3m': '../data/ETHUSDT_3m_v600k.csv', '5m': '../data/DOGEUSDT_5m_v0.csv', '15m': '../data/DOGEUSDT_15m_v0.csv', '30m': '../data/DOGEUSDT_30m_v0.csv'}, 'epochs': 50, 'train_size': 3000, 'val_size': 500, 'step_size': 2000, 'shuffle': True}\n",
      "\u001b[1m28/28\u001b[0m \u001b[32m━━━━━━━━━━━━━━━━━━━━\u001b[0m\u001b[37m\u001b[0m \u001b[1m2s\u001b[0m 30ms/step - loss: 0.1654 - mae: 0.2893 - val_loss: 0.0175 - val_mae: 0.0997\n",
      "\u001b[1m28/28\u001b[0m \u001b[32m━━━━━━━━━━━━━━━━━━━━\u001b[0m\u001b[37m\u001b[0m \u001b[1m1s\u001b[0m 21ms/step - loss: 0.0180 - mae: 0.1043 - val_loss: 0.0083 - val_mae: 0.0689\n",
      "\u001b[1m28/28\u001b[0m \u001b[32m━━━━━━━━━━━━━━━━━━━━\u001b[0m\u001b[37m\u001b[0m \u001b[1m1s\u001b[0m 22ms/step - loss: 0.0128 - mae: 0.0856 - val_loss: 0.0062 - val_mae: 0.0582\n",
      "\u001b[1m28/28\u001b[0m \u001b[32m━━━━━━━━━━━━━━━━━━━━\u001b[0m\u001b[37m\u001b[0m \u001b[1m1s\u001b[0m 21ms/step - loss: 0.0103 - mae: 0.0748 - val_loss: 0.0071 - val_mae: 0.0572\n",
      "\u001b[1m28/28\u001b[0m \u001b[32m━━━━━━━━━━━━━━━━━━━━\u001b[0m\u001b[37m\u001b[0m \u001b[1m1s\u001b[0m 21ms/step - loss: 0.0106 - mae: 0.0713 - val_loss: 0.0070 - val_mae: 0.0608\n",
      "\u001b[1m28/28\u001b[0m \u001b[32m━━━━━━━━━━━━━━━━━━━━\u001b[0m\u001b[37m\u001b[0m \u001b[1m1s\u001b[0m 22ms/step - loss: 0.0077 - mae: 0.0626 - val_loss: 0.0070 - val_mae: 0.0533\n",
      "\u001b[1m28/28\u001b[0m \u001b[32m━━━━━━━━━━━━━━━━━━━━\u001b[0m\u001b[37m\u001b[0m \u001b[1m1s\u001b[0m 22ms/step - loss: 0.0087 - mae: 0.0654 - val_loss: 0.0091 - val_mae: 0.0695\n",
      "\u001b[1m28/28\u001b[0m \u001b[32m━━━━━━━━━━━━━━━━━━━━\u001b[0m\u001b[37m\u001b[0m \u001b[1m1s\u001b[0m 22ms/step - loss: 0.0085 - mae: 0.0652 - val_loss: 0.0084 - val_mae: 0.0611\n",
      "\u001b[1m28/28\u001b[0m \u001b[32m━━━━━━━━━━━━━━━━━━━━\u001b[0m\u001b[37m\u001b[0m \u001b[1m1s\u001b[0m 22ms/step - loss: 0.0088 - mae: 0.0643 - val_loss: 0.0082 - val_mae: 0.0593\n",
      "\u001b[1m28/28\u001b[0m \u001b[32m━━━━━━━━━━━━━━━━━━━━\u001b[0m\u001b[37m\u001b[0m \u001b[1m1s\u001b[0m 22ms/step - loss: 0.0098 - mae: 0.0601 - val_loss: 0.0117 - val_mae: 0.0604\n",
      "\u001b[1m28/28\u001b[0m \u001b[32m━━━━━━━━━━━━━━━━━━━━\u001b[0m\u001b[37m\u001b[0m \u001b[1m1s\u001b[0m 21ms/step - loss: 0.0082 - mae: 0.0592 - val_loss: 0.0065 - val_mae: 0.0505\n",
      "Reached end of data, stopping training.\n",
      "\u001b[1m253/253\u001b[0m \u001b[32m━━━━━━━━━━━━━━━━━━━━\u001b[0m\u001b[37m\u001b[0m \u001b[1m1s\u001b[0m 5ms/step\n"
     ]
    },
    {
     "name": "stderr",
     "output_type": "stream",
     "text": [
      "[I 2025-01-09 08:06:16,649] Trial 18 finished with value: 0.005012335508108742 and parameters: {'lstm_units_1': 256, 'lstm_units_2': 64, 'dropout': 0.2, 'learning_rate': 0.0017915817741668899, 'batch_size': 128, 'dense_units': 32, 'sequence_length': 50, 'gradient_clipping': 2.0, 'optimizer': 'rmsprop', 'activation': 'tanh', 'num_indicators': 41, 'scaler_type': 'RobustScaler', 'window_size': 40, 'window_shift': 15, 'train_size': 3000, 'step_size': 2000}. Best is trial 1 with value: 0.004891744877325998.\n"
     ]
    },
    {
     "name": "stdout",
     "output_type": "stream",
     "text": [
      "Dataset loaded from ../data/ETHUSDT_3m_v600k.csv.\n",
      "Trial Hyperparams: {'lstm_units_1': 128, 'lstm_units_2': 128, 'dropout': 0.5, 'learning_rate': 0.0804539087173006, 'batch_size': 64, 'dense_units': 128, 'sequence_length': 100, 'gradient_clipping': 1.0, 'optimizer': 'adam', 'activation': 'tanh', 'num_indicators': 14, 'scaler_type': 'MinMaxScaler', 'window_size': 60, 'look_ahead_size': 20, 'window_shift': 1, 'crypto': 'ETHUSDT', 'timeframe': '3m', 'timeframe_filenames': {'1m': '../data/ETHUSDT_1m_v600k.csv', '3m': '../data/ETHUSDT_3m_v600k.csv', '5m': '../data/DOGEUSDT_5m_v0.csv', '15m': '../data/DOGEUSDT_15m_v0.csv', '30m': '../data/DOGEUSDT_30m_v0.csv'}, 'epochs': 50, 'train_size': 10000, 'val_size': 500, 'step_size': 20000, 'shuffle': True}\n",
      "\u001b[1m165/165\u001b[0m \u001b[32m━━━━━━━━━━━━━━━━━━━━\u001b[0m\u001b[37m\u001b[0m \u001b[1m5s\u001b[0m 15ms/step - loss: 4.6625 - mae: 1.0666 - val_loss: 0.0392 - val_mae: 0.1501\n",
      "Reached end of data, stopping training.\n",
      "\u001b[1m3786/3786\u001b[0m \u001b[32m━━━━━━━━━━━━━━━━━━━━\u001b[0m\u001b[37m\u001b[0m \u001b[1m14s\u001b[0m 4ms/step\n"
     ]
    },
    {
     "name": "stderr",
     "output_type": "stream",
     "text": [
      "[I 2025-01-09 08:07:28,753] Trial 19 finished with value: 0.011805575078688063 and parameters: {'lstm_units_1': 128, 'lstm_units_2': 128, 'dropout': 0.5, 'learning_rate': 0.0804539087173006, 'batch_size': 64, 'dense_units': 128, 'sequence_length': 100, 'gradient_clipping': 1.0, 'optimizer': 'adam', 'activation': 'tanh', 'num_indicators': 14, 'scaler_type': 'MinMaxScaler', 'window_size': 60, 'window_shift': 1, 'train_size': 10000, 'step_size': 20000}. Best is trial 1 with value: 0.004891744877325998.\n"
     ]
    },
    {
     "name": "stdout",
     "output_type": "stream",
     "text": [
      "Dataset loaded from ../data/ETHUSDT_3m_v600k.csv.\n",
      "Trial Hyperparams: {'lstm_units_1': 256, 'lstm_units_2': 64, 'dropout': 0.5, 'learning_rate': 0.015100369358564347, 'batch_size': 64, 'dense_units': 128, 'sequence_length': 10, 'gradient_clipping': 0.5, 'optimizer': 'adam', 'activation': 'tanh', 'num_indicators': 33, 'scaler_type': 'MinMaxScaler', 'window_size': 80, 'look_ahead_size': 20, 'window_shift': 10, 'crypto': 'ETHUSDT', 'timeframe': '3m', 'timeframe_filenames': {'1m': '../data/ETHUSDT_1m_v600k.csv', '3m': '../data/ETHUSDT_3m_v600k.csv', '5m': '../data/DOGEUSDT_5m_v0.csv', '15m': '../data/DOGEUSDT_15m_v0.csv', '30m': '../data/DOGEUSDT_30m_v0.csv'}, 'epochs': 50, 'train_size': 3000, 'val_size': 500, 'step_size': 100, 'shuffle': True}\n",
      "\u001b[1m55/55\u001b[0m \u001b[32m━━━━━━━━━━━━━━━━━━━━\u001b[0m\u001b[37m\u001b[0m \u001b[1m4s\u001b[0m 27ms/step - loss: 0.8340 - mae: 0.4970 - val_loss: 0.0080 - val_mae: 0.0608\n",
      "\u001b[1m55/55\u001b[0m \u001b[32m━━━━━━━━━━━━━━━━━━━━\u001b[0m\u001b[37m\u001b[0m \u001b[1m1s\u001b[0m 23ms/step - loss: 0.0104 - mae: 0.0736 - val_loss: 0.0076 - val_mae: 0.0639\n",
      "\u001b[1m55/55\u001b[0m \u001b[32m━━━━━━━━━━━━━━━━━━━━\u001b[0m\u001b[37m\u001b[0m \u001b[1m1s\u001b[0m 23ms/step - loss: 0.0093 - mae: 0.0669 - val_loss: 0.0099 - val_mae: 0.0708\n",
      "\u001b[1m55/55\u001b[0m \u001b[32m━━━━━━━━━━━━━━━━━━━━\u001b[0m\u001b[37m\u001b[0m \u001b[1m1s\u001b[0m 23ms/step - loss: 0.0108 - mae: 0.0742 - val_loss: 0.0099 - val_mae: 0.0614\n",
      "\u001b[1m55/55\u001b[0m \u001b[32m━━━━━━━━━━━━━━━━━━━━\u001b[0m\u001b[37m\u001b[0m \u001b[1m1s\u001b[0m 23ms/step - loss: 0.0094 - mae: 0.0668 - val_loss: 0.0100 - val_mae: 0.0536\n",
      "\u001b[1m55/55\u001b[0m \u001b[32m━━━━━━━━━━━━━━━━━━━━\u001b[0m\u001b[37m\u001b[0m \u001b[1m1s\u001b[0m 23ms/step - loss: 0.0092 - mae: 0.0643 - val_loss: 0.0092 - val_mae: 0.0507\n",
      "\u001b[1m55/55\u001b[0m \u001b[32m━━━━━━━━━━━━━━━━━━━━\u001b[0m\u001b[37m\u001b[0m \u001b[1m1s\u001b[0m 23ms/step - loss: 0.0074 - mae: 0.0577 - val_loss: 0.0113 - val_mae: 0.0597\n",
      "\u001b[1m55/55\u001b[0m \u001b[32m━━━━━━━━━━━━━━━━━━━━\u001b[0m\u001b[37m\u001b[0m \u001b[1m1s\u001b[0m 23ms/step - loss: 0.0073 - mae: 0.0574 - val_loss: 0.0095 - val_mae: 0.0586\n",
      "\u001b[1m55/55\u001b[0m \u001b[32m━━━━━━━━━━━━━━━━━━━━\u001b[0m\u001b[37m\u001b[0m \u001b[1m1s\u001b[0m 23ms/step - loss: 0.0081 - mae: 0.0590 - val_loss: 0.0084 - val_mae: 0.0609\n",
      "\u001b[1m55/55\u001b[0m \u001b[32m━━━━━━━━━━━━━━━━━━━━\u001b[0m\u001b[37m\u001b[0m \u001b[1m1s\u001b[0m 23ms/step - loss: 0.0080 - mae: 0.0587 - val_loss: 0.0068 - val_mae: 0.0504\n",
      "\u001b[1m55/55\u001b[0m \u001b[32m━━━━━━━━━━━━━━━━━━━━\u001b[0m\u001b[37m\u001b[0m \u001b[1m1s\u001b[0m 24ms/step - loss: 0.0086 - mae: 0.0635 - val_loss: 0.0073 - val_mae: 0.0545\n",
      "\u001b[1m55/55\u001b[0m \u001b[32m━━━━━━━━━━━━━━━━━━━━\u001b[0m\u001b[37m\u001b[0m \u001b[1m1s\u001b[0m 23ms/step - loss: 0.0079 - mae: 0.0610 - val_loss: 0.0073 - val_mae: 0.0504\n",
      "\u001b[1m55/55\u001b[0m \u001b[32m━━━━━━━━━━━━━━━━━━━━\u001b[0m\u001b[37m\u001b[0m \u001b[1m1s\u001b[0m 23ms/step - loss: 0.0079 - mae: 0.0593 - val_loss: 0.0061 - val_mae: 0.0524\n",
      "\u001b[1m55/55\u001b[0m \u001b[32m━━━━━━━━━━━━━━━━━━━━\u001b[0m\u001b[37m\u001b[0m \u001b[1m1s\u001b[0m 23ms/step - loss: 0.0083 - mae: 0.0596 - val_loss: 0.0054 - val_mae: 0.0445\n",
      "\u001b[1m55/55\u001b[0m \u001b[32m━━━━━━━━━━━━━━━━━━━━\u001b[0m\u001b[37m\u001b[0m \u001b[1m1s\u001b[0m 23ms/step - loss: 0.0075 - mae: 0.0582 - val_loss: 0.0054 - val_mae: 0.0524\n",
      "\u001b[1m55/55\u001b[0m \u001b[32m━━━━━━━━━━━━━━━━━━━━\u001b[0m\u001b[37m\u001b[0m \u001b[1m1s\u001b[0m 23ms/step - loss: 0.0077 - mae: 0.0576 - val_loss: 0.0051 - val_mae: 0.0528\n",
      "\u001b[1m55/55\u001b[0m \u001b[32m━━━━━━━━━━━━━━━━━━━━\u001b[0m\u001b[37m\u001b[0m \u001b[1m1s\u001b[0m 23ms/step - loss: 0.0080 - mae: 0.0579 - val_loss: 0.0067 - val_mae: 0.0518\n",
      "\u001b[1m55/55\u001b[0m \u001b[32m━━━━━━━━━━━━━━━━━━━━\u001b[0m\u001b[37m\u001b[0m \u001b[1m1s\u001b[0m 23ms/step - loss: 0.0078 - mae: 0.0586 - val_loss: 0.0064 - val_mae: 0.0529\n",
      "\u001b[1m55/55\u001b[0m \u001b[32m━━━━━━━━━━━━━━━━━━━━\u001b[0m\u001b[37m\u001b[0m \u001b[1m1s\u001b[0m 23ms/step - loss: 0.0071 - mae: 0.0555 - val_loss: 0.0063 - val_mae: 0.0502\n",
      "\u001b[1m55/55\u001b[0m \u001b[32m━━━━━━━━━━━━━━━━━━━━\u001b[0m\u001b[37m\u001b[0m \u001b[1m1s\u001b[0m 23ms/step - loss: 0.0070 - mae: 0.0535 - val_loss: 0.0073 - val_mae: 0.0549\n",
      "\u001b[1m55/55\u001b[0m \u001b[32m━━━━━━━━━━━━━━━━━━━━\u001b[0m\u001b[37m\u001b[0m \u001b[1m1s\u001b[0m 23ms/step - loss: 0.0074 - mae: 0.0559 - val_loss: 0.0082 - val_mae: 0.0467\n",
      "\u001b[1m55/55\u001b[0m \u001b[32m━━━━━━━━━━━━━━━━━━━━\u001b[0m\u001b[37m\u001b[0m \u001b[1m1s\u001b[0m 23ms/step - loss: 0.0079 - mae: 0.0558 - val_loss: 0.0072 - val_mae: 0.0477\n",
      "\u001b[1m55/55\u001b[0m \u001b[32m━━━━━━━━━━━━━━━━━━━━\u001b[0m\u001b[37m\u001b[0m \u001b[1m1s\u001b[0m 23ms/step - loss: 0.0079 - mae: 0.0572 - val_loss: 0.0100 - val_mae: 0.0503\n",
      "\u001b[1m55/55\u001b[0m \u001b[32m━━━━━━━━━━━━━━━━━━━━\u001b[0m\u001b[37m\u001b[0m \u001b[1m1s\u001b[0m 23ms/step - loss: 0.0070 - mae: 0.0538 - val_loss: 0.0095 - val_mae: 0.0524\n",
      "\u001b[1m55/55\u001b[0m \u001b[32m━━━━━━━━━━━━━━━━━━━━\u001b[0m\u001b[37m\u001b[0m \u001b[1m1s\u001b[0m 23ms/step - loss: 0.0075 - mae: 0.0548 - val_loss: 0.0095 - val_mae: 0.0553\n",
      "\u001b[1m55/55\u001b[0m \u001b[32m━━━━━━━━━━━━━━━━━━━━\u001b[0m\u001b[37m\u001b[0m \u001b[1m1s\u001b[0m 23ms/step - loss: 0.0074 - mae: 0.0542 - val_loss: 0.0088 - val_mae: 0.0563\n",
      "\u001b[1m55/55\u001b[0m \u001b[32m━━━━━━━━━━━━━━━━━━━━\u001b[0m\u001b[37m\u001b[0m \u001b[1m1s\u001b[0m 23ms/step - loss: 0.0072 - mae: 0.0541 - val_loss: 0.0110 - val_mae: 0.0564\n",
      "\u001b[1m55/55\u001b[0m \u001b[32m━━━━━━━━━━━━━━━━━━━━\u001b[0m\u001b[37m\u001b[0m \u001b[1m1s\u001b[0m 23ms/step - loss: 0.0084 - mae: 0.0550 - val_loss: 0.0076 - val_mae: 0.0547\n",
      "\u001b[1m55/55\u001b[0m \u001b[32m━━━━━━━━━━━━━━━━━━━━\u001b[0m\u001b[37m\u001b[0m \u001b[1m1s\u001b[0m 23ms/step - loss: 0.0084 - mae: 0.0557 - val_loss: 0.0083 - val_mae: 0.0480\n",
      "\u001b[1m55/55\u001b[0m \u001b[32m━━━━━━━━━━━━━━━━━━━━\u001b[0m\u001b[37m\u001b[0m \u001b[1m1s\u001b[0m 23ms/step - loss: 0.0074 - mae: 0.0543 - val_loss: 0.0072 - val_mae: 0.0467\n",
      "\u001b[1m55/55\u001b[0m \u001b[32m━━━━━━━━━━━━━━━━━━━━\u001b[0m\u001b[37m\u001b[0m \u001b[1m1s\u001b[0m 23ms/step - loss: 0.0084 - mae: 0.0541 - val_loss: 0.0067 - val_mae: 0.0485\n",
      "\u001b[1m55/55\u001b[0m \u001b[32m━━━━━━━━━━━━━━━━━━━━\u001b[0m\u001b[37m\u001b[0m \u001b[1m1s\u001b[0m 23ms/step - loss: 0.0075 - mae: 0.0540 - val_loss: 0.0046 - val_mae: 0.0465\n",
      "\u001b[1m55/55\u001b[0m \u001b[32m━━━━━━━━━━━━━━━━━━━━\u001b[0m\u001b[37m\u001b[0m \u001b[1m1s\u001b[0m 23ms/step - loss: 0.0079 - mae: 0.0538 - val_loss: 0.0050 - val_mae: 0.0514\n",
      "\u001b[1m55/55\u001b[0m \u001b[32m━━━━━━━━━━━━━━━━━━━━\u001b[0m\u001b[37m\u001b[0m \u001b[1m1s\u001b[0m 23ms/step - loss: 0.0071 - mae: 0.0545 - val_loss: 0.0043 - val_mae: 0.0473\n",
      "\u001b[1m55/55\u001b[0m \u001b[32m━━━━━━━━━━━━━━━━━━━━\u001b[0m\u001b[37m\u001b[0m \u001b[1m1s\u001b[0m 23ms/step - loss: 0.0066 - mae: 0.0520 - val_loss: 0.0043 - val_mae: 0.0453\n",
      "\u001b[1m55/55\u001b[0m \u001b[32m━━━━━━━━━━━━━━━━━━━━\u001b[0m\u001b[37m\u001b[0m \u001b[1m1s\u001b[0m 24ms/step - loss: 0.0069 - mae: 0.0521 - val_loss: 0.0050 - val_mae: 0.0508\n",
      "\u001b[1m55/55\u001b[0m \u001b[32m━━━━━━━━━━━━━━━━━━━━\u001b[0m\u001b[37m\u001b[0m \u001b[1m1s\u001b[0m 23ms/step - loss: 0.0072 - mae: 0.0535 - val_loss: 0.0052 - val_mae: 0.0463\n",
      "\u001b[1m55/55\u001b[0m \u001b[32m━━━━━━━━━━━━━━━━━━━━\u001b[0m\u001b[37m\u001b[0m \u001b[1m1s\u001b[0m 23ms/step - loss: 0.0069 - mae: 0.0518 - val_loss: 0.0051 - val_mae: 0.0441\n",
      "\u001b[1m55/55\u001b[0m \u001b[32m━━━━━━━━━━━━━━━━━━━━\u001b[0m\u001b[37m\u001b[0m \u001b[1m1s\u001b[0m 23ms/step - loss: 0.0065 - mae: 0.0515 - val_loss: 0.0051 - val_mae: 0.0498\n",
      "\u001b[1m55/55\u001b[0m \u001b[32m━━━━━━━━━━━━━━━━━━━━\u001b[0m\u001b[37m\u001b[0m \u001b[1m1s\u001b[0m 23ms/step - loss: 0.0065 - mae: 0.0519 - val_loss: 0.0056 - val_mae: 0.0485\n",
      "\u001b[1m55/55\u001b[0m \u001b[32m━━━━━━━━━━━━━━━━━━━━\u001b[0m\u001b[37m\u001b[0m \u001b[1m1s\u001b[0m 23ms/step - loss: 0.0061 - mae: 0.0505 - val_loss: 0.0063 - val_mae: 0.0476\n",
      "\u001b[1m55/55\u001b[0m \u001b[32m━━━━━━━━━━━━━━━━━━━━\u001b[0m\u001b[37m\u001b[0m \u001b[1m1s\u001b[0m 23ms/step - loss: 0.0070 - mae: 0.0529 - val_loss: 0.0058 - val_mae: 0.0477\n",
      "\u001b[1m55/55\u001b[0m \u001b[32m━━━━━━━━━━━━━━━━━━━━\u001b[0m\u001b[37m\u001b[0m \u001b[1m1s\u001b[0m 23ms/step - loss: 0.0065 - mae: 0.0524 - val_loss: 0.0065 - val_mae: 0.0537\n",
      "\u001b[1m55/55\u001b[0m \u001b[32m━━━━━━━━━━━━━━━━━━━━\u001b[0m\u001b[37m\u001b[0m \u001b[1m1s\u001b[0m 23ms/step - loss: 0.0066 - mae: 0.0535 - val_loss: 0.0069 - val_mae: 0.0515\n",
      "\u001b[1m55/55\u001b[0m \u001b[32m━━━━━━━━━━━━━━━━━━━━\u001b[0m\u001b[37m\u001b[0m \u001b[1m1s\u001b[0m 24ms/step - loss: 0.0062 - mae: 0.0503 - val_loss: 0.0068 - val_mae: 0.0491\n",
      "\u001b[1m55/55\u001b[0m \u001b[32m━━━━━━━━━━━━━━━━━━━━\u001b[0m\u001b[37m\u001b[0m \u001b[1m1s\u001b[0m 23ms/step - loss: 0.0072 - mae: 0.0537 - val_loss: 0.0060 - val_mae: 0.0525\n",
      "\u001b[1m55/55\u001b[0m \u001b[32m━━━━━━━━━━━━━━━━━━━━\u001b[0m\u001b[37m\u001b[0m \u001b[1m1s\u001b[0m 23ms/step - loss: 0.0069 - mae: 0.0526 - val_loss: 0.0070 - val_mae: 0.0546\n",
      "\u001b[1m55/55\u001b[0m \u001b[32m━━━━━━━━━━━━━━━━━━━━\u001b[0m\u001b[37m\u001b[0m \u001b[1m1s\u001b[0m 23ms/step - loss: 0.0072 - mae: 0.0538 - val_loss: 0.0067 - val_mae: 0.0510\n",
      "\u001b[1m55/55\u001b[0m \u001b[32m━━━━━━━━━━━━━━━━━━━━\u001b[0m\u001b[37m\u001b[0m \u001b[1m1s\u001b[0m 23ms/step - loss: 0.0067 - mae: 0.0523 - val_loss: 0.0077 - val_mae: 0.0502\n",
      "\u001b[1m55/55\u001b[0m \u001b[32m━━━━━━━━━━━━━━━━━━━━\u001b[0m\u001b[37m\u001b[0m \u001b[1m1s\u001b[0m 23ms/step - loss: 0.0065 - mae: 0.0506 - val_loss: 0.0080 - val_mae: 0.0533\n",
      "\u001b[1m379/379\u001b[0m \u001b[32m━━━━━━━━━━━━━━━━━━━━\u001b[0m\u001b[37m\u001b[0m \u001b[1m3s\u001b[0m 6ms/step\n"
     ]
    },
    {
     "name": "stderr",
     "output_type": "stream",
     "text": [
      "[I 2025-01-09 08:08:59,718] Trial 20 finished with value: 0.0050745125782806835 and parameters: {'lstm_units_1': 256, 'lstm_units_2': 64, 'dropout': 0.5, 'learning_rate': 0.015100369358564347, 'batch_size': 64, 'dense_units': 128, 'sequence_length': 10, 'gradient_clipping': 0.5, 'optimizer': 'adam', 'activation': 'tanh', 'num_indicators': 33, 'scaler_type': 'MinMaxScaler', 'window_size': 80, 'window_shift': 10, 'train_size': 3000, 'step_size': 100}. Best is trial 1 with value: 0.004891744877325998.\n"
     ]
    },
    {
     "name": "stdout",
     "output_type": "stream",
     "text": [
      "Dataset loaded from ../data/ETHUSDT_3m_v600k.csv.\n",
      "Trial Hyperparams: {'lstm_units_1': 256, 'lstm_units_2': 64, 'dropout': 0.3, 'learning_rate': 0.006014948615531857, 'batch_size': 128, 'dense_units': 16, 'sequence_length': 20, 'gradient_clipping': 0.5, 'optimizer': 'adam', 'activation': 'relu', 'num_indicators': 38, 'scaler_type': 'RobustScaler', 'window_size': 100, 'look_ahead_size': 20, 'window_shift': 1, 'crypto': 'ETHUSDT', 'timeframe': '3m', 'timeframe_filenames': {'1m': '../data/ETHUSDT_1m_v600k.csv', '3m': '../data/ETHUSDT_3m_v600k.csv', '5m': '../data/DOGEUSDT_5m_v0.csv', '15m': '../data/DOGEUSDT_15m_v0.csv', '30m': '../data/DOGEUSDT_30m_v0.csv'}, 'epochs': 50, 'train_size': 20000, 'val_size': 500, 'step_size': 200, 'shuffle': True}\n",
      "\u001b[1m161/161\u001b[0m \u001b[32m━━━━━━━━━━━━━━━━━━━━\u001b[0m\u001b[37m\u001b[0m \u001b[1m18s\u001b[0m 75ms/step - loss: inf - mae: 88435223460577280.0000 - val_loss: 14491207680.0000 - val_mae: 28333.9297\n",
      "\u001b[1m161/161\u001b[0m \u001b[32m━━━━━━━━━━━━━━━━━━━━\u001b[0m\u001b[37m\u001b[0m \u001b[1m8s\u001b[0m 51ms/step - loss: 125753663488.0000 - mae: 17484.6230 - val_loss: 0.1615 - val_mae: 0.3797\n",
      "\u001b[1m161/161\u001b[0m \u001b[32m━━━━━━━━━━━━━━━━━━━━\u001b[0m\u001b[37m\u001b[0m \u001b[1m8s\u001b[0m 51ms/step - loss: 594596711974047456428032.0000 - mae: 8327723520.0000 - val_loss: 0.0089 - val_mae: 0.0755\n",
      "\u001b[1m161/161\u001b[0m \u001b[32m━━━━━━━━━━━━━━━━━━━━\u001b[0m\u001b[37m\u001b[0m \u001b[1m8s\u001b[0m 51ms/step - loss: 1126703856000958464.0000 - mae: 12094835.0000 - val_loss: 0.0063 - val_mae: 0.0515\n",
      "\u001b[1m161/161\u001b[0m \u001b[32m━━━━━━━━━━━━━━━━━━━━\u001b[0m\u001b[37m\u001b[0m \u001b[1m8s\u001b[0m 51ms/step - loss: 2.5470 - mae: 0.0709 - val_loss: 0.0073 - val_mae: 0.0510\n",
      "\u001b[1m161/161\u001b[0m \u001b[32m━━━━━━━━━━━━━━━━━━━━\u001b[0m\u001b[37m\u001b[0m \u001b[1m8s\u001b[0m 51ms/step - loss: 0.0070 - mae: 0.0516 - val_loss: 0.0085 - val_mae: 0.0546\n",
      "\u001b[1m161/161\u001b[0m \u001b[32m━━━━━━━━━━━━━━━━━━━━\u001b[0m\u001b[37m\u001b[0m \u001b[1m8s\u001b[0m 51ms/step - loss: 0.0070 - mae: 0.0512 - val_loss: 0.0078 - val_mae: 0.0519\n",
      "\u001b[1m161/161\u001b[0m \u001b[32m━━━━━━━━━━━━━━━━━━━━\u001b[0m\u001b[37m\u001b[0m \u001b[1m8s\u001b[0m 51ms/step - loss: 0.0072 - mae: 0.0517 - val_loss: 0.0071 - val_mae: 0.0511\n",
      "\u001b[1m161/161\u001b[0m \u001b[32m━━━━━━━━━━━━━━━━━━━━\u001b[0m\u001b[37m\u001b[0m \u001b[1m8s\u001b[0m 51ms/step - loss: 0.0073 - mae: 0.0521 - val_loss: 0.0069 - val_mae: 0.0518\n",
      "\u001b[1m161/161\u001b[0m \u001b[32m━━━━━━━━━━━━━━━━━━━━\u001b[0m\u001b[37m\u001b[0m \u001b[1m8s\u001b[0m 51ms/step - loss: 0.0072 - mae: 0.0520 - val_loss: 0.0066 - val_mae: 0.0522\n",
      "\u001b[1m161/161\u001b[0m \u001b[32m━━━━━━━━━━━━━━━━━━━━\u001b[0m\u001b[37m\u001b[0m \u001b[1m8s\u001b[0m 51ms/step - loss: 0.0071 - mae: 0.0520 - val_loss: 0.0066 - val_mae: 0.0535\n",
      "\u001b[1m161/161\u001b[0m \u001b[32m━━━━━━━━━━━━━━━━━━━━\u001b[0m\u001b[37m\u001b[0m \u001b[1m8s\u001b[0m 51ms/step - loss: 0.0071 - mae: 0.0517 - val_loss: 0.0068 - val_mae: 0.0538\n",
      "\u001b[1m161/161\u001b[0m \u001b[32m━━━━━━━━━━━━━━━━━━━━\u001b[0m\u001b[37m\u001b[0m \u001b[1m8s\u001b[0m 51ms/step - loss: 0.0069 - mae: 0.0513 - val_loss: 0.0067 - val_mae: 0.0536\n",
      "\u001b[1m161/161\u001b[0m \u001b[32m━━━━━━━━━━━━━━━━━━━━\u001b[0m\u001b[37m\u001b[0m \u001b[1m8s\u001b[0m 51ms/step - loss: 0.0069 - mae: 0.0513 - val_loss: 0.0067 - val_mae: 0.0532\n",
      "\u001b[1m161/161\u001b[0m \u001b[32m━━━━━━━━━━━━━━━━━━━━\u001b[0m\u001b[37m\u001b[0m \u001b[1m8s\u001b[0m 51ms/step - loss: 0.0073 - mae: 0.0518 - val_loss: 0.0069 - val_mae: 0.0531\n",
      "\u001b[1m161/161\u001b[0m \u001b[32m━━━━━━━━━━━━━━━━━━━━\u001b[0m\u001b[37m\u001b[0m \u001b[1m8s\u001b[0m 50ms/step - loss: 0.0072 - mae: 0.0515 - val_loss: 0.0067 - val_mae: 0.0535\n",
      "\u001b[1m161/161\u001b[0m \u001b[32m━━━━━━━━━━━━━━━━━━━━\u001b[0m\u001b[37m\u001b[0m \u001b[1m8s\u001b[0m 50ms/step - loss: 0.0072 - mae: 0.0524 - val_loss: 0.0058 - val_mae: 0.0510\n",
      "\u001b[1m161/161\u001b[0m \u001b[32m━━━━━━━━━━━━━━━━━━━━\u001b[0m\u001b[37m\u001b[0m \u001b[1m8s\u001b[0m 51ms/step - loss: 0.0072 - mae: 0.0526 - val_loss: 0.0062 - val_mae: 0.0517\n",
      "\u001b[1m161/161\u001b[0m \u001b[32m━━━━━━━━━━━━━━━━━━━━\u001b[0m\u001b[37m\u001b[0m \u001b[1m8s\u001b[0m 50ms/step - loss: 0.0069 - mae: 0.0519 - val_loss: 0.0064 - val_mae: 0.0528\n",
      "Reached end of data, stopping training.\n"
     ]
    }
   ],
   "source": [
    "# Define your configuration\n",
    "timeframe_filenames = {\n",
    "    \"1m\": \"../data/ETHUSDT_1m_v600k.csv\",\n",
    "    \"3m\": \"../data/ETHUSDT_3m_v600k.csv\",\n",
    "    \"5m\": \"../data/DOGEUSDT_5m_v0.csv\",\n",
    "    \"15m\": \"../data/DOGEUSDT_15m_v0.csv\",\n",
    "    \"30m\": \"../data/DOGEUSDT_30m_v0.csv\"\n",
    "}\n",
    "config = {\n",
    "    \"epochs\": 50,\n",
    "    \"trials\": 200,\n",
    "    \"look_ahead_size\": 20,\n",
    "    \"crypto\": \"ETHUSDT\",\n",
    "    \"timeframe\": \"3m\",\n",
    "    \"timeframe_filenames\": timeframe_filenames,\n",
    "    \"val_size\": 500\n",
    "}\n",
    "\n",
    "new = True\n",
    "# Manage the study\n",
    "study_name = \"study_hyped\"\n",
    "study, config = tn.manage_optuna_study(study_name, config, delete_existing=new)\n",
    "\n",
    "# Optimize the study with the configuration dictionary\n",
    "study.optimize(lambda trial: tn.objective(trial, config), n_trials=config[\"trials\"])\n",
    "\n",
    "print(\"Best parameters:\", study.best_params)\n",
    "\n",
    "# Save the best parameters in a JSON file\n",
    "file_path = f'../optuna/{study_name}/best_params.json'\n",
    "with open(file_path, 'w') as f:\n",
    "    json.dump(study.best_params, f, indent=4)"
   ]
  },
  {
   "cell_type": "code",
   "execution_count": null,
   "metadata": {},
   "outputs": [],
   "source": []
  }
 ],
 "metadata": {
  "kernelspec": {
   "display_name": ".venv",
   "language": "python",
   "name": "python3"
  },
  "language_info": {
   "codemirror_mode": {
    "name": "ipython",
    "version": 3
   },
   "file_extension": ".py",
   "mimetype": "text/x-python",
   "name": "python",
   "nbconvert_exporter": "python",
   "pygments_lexer": "ipython3",
   "version": "3.10.12"
  }
 },
 "nbformat": 4,
 "nbformat_minor": 2
}
