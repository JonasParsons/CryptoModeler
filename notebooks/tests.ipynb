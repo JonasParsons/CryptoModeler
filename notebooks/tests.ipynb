{
 "cells": [
  {
   "cell_type": "code",
   "execution_count": 1,
   "metadata": {},
   "outputs": [
    {
     "name": "stderr",
     "output_type": "stream",
     "text": [
      "/home/jonas/Projects/CryptoModeler/.venv/lib/python3.10/site-packages/tqdm/auto.py:21: TqdmWarning: IProgress not found. Please update jupyter and ipywidgets. See https://ipywidgets.readthedocs.io/en/stable/user_install.html\n",
      "  from .autonotebook import tqdm as notebook_tqdm\n",
      "2025-01-06 21:16:33.243709: E external/local_xla/xla/stream_executor/cuda/cuda_fft.cc:477] Unable to register cuFFT factory: Attempting to register factory for plugin cuFFT when one has already been registered\n",
      "WARNING: All log messages before absl::InitializeLog() is called are written to STDERR\n",
      "E0000 00:00:1736223393.344072  463443 cuda_dnn.cc:8310] Unable to register cuDNN factory: Attempting to register factory for plugin cuDNN when one has already been registered\n",
      "E0000 00:00:1736223393.396879  463443 cuda_blas.cc:1418] Unable to register cuBLAS factory: Attempting to register factory for plugin cuBLAS when one has already been registered\n",
      "2025-01-06 21:16:33.556328: I tensorflow/core/platform/cpu_feature_guard.cc:210] This TensorFlow binary is optimized to use available CPU instructions in performance-critical operations.\n",
      "To enable the following instructions: AVX2 FMA, in other operations, rebuild TensorFlow with the appropriate compiler flags.\n"
     ]
    }
   ],
   "source": [
    "import os\n",
    "import sys\n",
    "import random\n",
    "import numpy as np\n",
    "import optuna\n",
    "import joblib\n",
    "from importlib import reload  # Import the reload function\n",
    "from sklearn.model_selection import train_test_split\n",
    "\n",
    "sys.path.append(os.path.abspath(os.path.join(os.getcwd(), '..')))\n",
    "import utils.helpers as hp\n",
    "import utils.preprocess as pp\n",
    "import utils.modeling as md  \n",
    "\n",
    "reload(hp)\n",
    "reload(pp)\n",
    "reload(md)\n",
    "%load_ext autoreload\n",
    "%autoreload 1"
   ]
  },
  {
   "cell_type": "code",
   "execution_count": 62,
   "metadata": {},
   "outputs": [
    {
     "data": {
      "text/plain": [
       "993.2701173018554"
      ]
     },
     "execution_count": 62,
     "metadata": {},
     "output_type": "execute_result"
    }
   ],
   "source": [
    "samples = 445773\n",
    "\n",
    "\n",
    "shift = 20\n",
    "epics = 50\n",
    "window = 3000\n",
    "roller = samples / shift / epics\n",
    "\n",
    "(samples - window) / roller\n"
   ]
  },
  {
   "cell_type": "code",
   "execution_count": 63,
   "metadata": {},
   "outputs": [
    {
     "data": {
      "text/plain": [
       "150.0"
      ]
     },
     "execution_count": 63,
     "metadata": {},
     "output_type": "execute_result"
    }
   ],
   "source": [
    "3000/20"
   ]
  },
  {
   "cell_type": "code",
   "execution_count": 2,
   "metadata": {},
   "outputs": [],
   "source": [
    "\n",
    "timeframe_filenames = {\n",
    "    \"1m\": \"../data/raw/ETHUSDT_1m_v600k.csv\",\n",
    "    \"3m\": \"../data/DOGEUSDT_3m_v0.csv\",\n",
    "    \"5m\": \"../data/DOGEUSDT_5m_v0.csv\",\n",
    "    \"15m\": \"../data/DOGEUSDT_15m_v0.csv\",\n",
    "    \"30m\": \"../data/DOGEUSDT_30m_v0.csv\"\n",
    "}\n",
    "\n",
    "def load_model_test_split(filenames, params, model_data_ratio=0.8):\n",
    "    # Load data\n",
    "    df = hp.load_data(filenames[params['timeframe']])\n",
    "    # Create indicators\n",
    "    indicated_df = pp.create_indicators(df, params['num_indicators'])\n",
    "    \n",
    "    # Split data\n",
    "    model_df = indicated_df[:int(len(indicated_df)*model_data_ratio)]\n",
    "    test_df = indicated_df[int(len(indicated_df)*model_data_ratio):]\n",
    "    \n",
    "    return model_df, test_df\n",
    "\n",
    "def test_data(df, params):\n",
    "\n",
    "    # Testing data\n",
    "    test_df = pp.normalize_X(df, scaler_name=params['scaler_type'])\n",
    "\n",
    "    # Testing data special treatment\n",
    "    norm_X_test, y_test = pp.create_targets(test_df, params['window_size'], params['look_ahead_size'], params['look_ahead_size'])\n",
    "    norm_y_test = pp.normalize_y(y_test)\n",
    "    \n",
    "    joblib.dump(norm_X_test, '../data/processed/X_normTest.pkl')\n",
    "    joblib.dump(norm_y_test, '../data/processed/y_normTest.pkl')\n",
    "    joblib.dump(y_test, '../data/processed/y_realTest.pkl')\n",
    "    print('Test data dumped')\n",
    "    return norm_X_test, norm_y_test\n",
    "\n",
    "def custom_model(df, params, tuning=False, trial=None):\n",
    "\n",
    "    # Load data and create indicators\n",
    "    model_df = pp.normalize_X(df, scaler_name=params['scaler_type'])\n",
    "    X_train, y_train = pp.create_targets(model_df, params['window_size'], params['look_ahead_size'], params['look_ahead_size'])\n",
    "    \n",
    "    y_train, scaler_y = pp.normalize_y(y_train, return_scaler=True)\n",
    "    joblib.dump(scaler_y, '../data/processed/scaler_y.pkl')\n",
    "\n",
    "    # Train\n",
    "    model = md.train(X_train, y_train, params, epochs=50, train_size=3000, val_size=500, step_size=200, tuning=tuning, trial=trial) \n",
    "    \n",
    "    return model"
   ]
  },
  {
   "cell_type": "code",
   "execution_count": 65,
   "metadata": {},
   "outputs": [
    {
     "name": "stdout",
     "output_type": "stream",
     "text": [
      "Dataset loaded from ../data/raw/ETHUSDT_1m_v600k.csv.\n",
      "(445773, 17) (111444, 17)\n",
      "\u001b[1m110/110\u001b[0m \u001b[32m━━━━━━━━━━━━━━━━━━━━\u001b[0m\u001b[37m\u001b[0m \u001b[1m4s\u001b[0m 17ms/step - loss: 0.1001 - mae: 0.1784 - val_loss: 0.0019 - val_mae: 0.0312\n",
      "\u001b[1m110/110\u001b[0m \u001b[32m━━━━━━━━━━━━━━━━━━━━\u001b[0m\u001b[37m\u001b[0m \u001b[1m2s\u001b[0m 14ms/step - loss: 0.0036 - mae: 0.0435 - val_loss: 0.0018 - val_mae: 0.0304\n",
      "\u001b[1m110/110\u001b[0m \u001b[32m━━━━━━━━━━━━━━━━━━━━\u001b[0m\u001b[37m\u001b[0m \u001b[1m2s\u001b[0m 14ms/step - loss: 0.0035 - mae: 0.0404 - val_loss: 0.0019 - val_mae: 0.0317\n",
      "\u001b[1m110/110\u001b[0m \u001b[32m━━━━━━━━━━━━━━━━━━━━\u001b[0m\u001b[37m\u001b[0m \u001b[1m2s\u001b[0m 15ms/step - loss: 0.0036 - mae: 0.0416 - val_loss: 0.0045 - val_mae: 0.0557\n",
      "\u001b[1m110/110\u001b[0m \u001b[32m━━━━━━━━━━━━━━━━━━━━\u001b[0m\u001b[37m\u001b[0m \u001b[1m2s\u001b[0m 14ms/step - loss: 0.0030 - mae: 0.0393 - val_loss: 0.0019 - val_mae: 0.0367\n",
      "\u001b[1m110/110\u001b[0m \u001b[32m━━━━━━━━━━━━━━━━━━━━\u001b[0m\u001b[37m\u001b[0m \u001b[1m2s\u001b[0m 14ms/step - loss: 0.0030 - mae: 0.0373 - val_loss: 0.0015 - val_mae: 0.0303\n",
      "\u001b[1m110/110\u001b[0m \u001b[32m━━━━━━━━━━━━━━━━━━━━\u001b[0m\u001b[37m\u001b[0m \u001b[1m2s\u001b[0m 14ms/step - loss: 0.0027 - mae: 0.0357 - val_loss: 0.0017 - val_mae: 0.0322\n",
      "\u001b[1m110/110\u001b[0m \u001b[32m━━━━━━━━━━━━━━━━━━━━\u001b[0m\u001b[37m\u001b[0m \u001b[1m2s\u001b[0m 14ms/step - loss: 0.0026 - mae: 0.0353 - val_loss: 0.0024 - val_mae: 0.0363\n",
      "\u001b[1m110/110\u001b[0m \u001b[32m━━━━━━━━━━━━━━━━━━━━\u001b[0m\u001b[37m\u001b[0m \u001b[1m2s\u001b[0m 15ms/step - loss: 0.0026 - mae: 0.0355 - val_loss: 0.0027 - val_mae: 0.0328\n",
      "\u001b[1m110/110\u001b[0m \u001b[32m━━━━━━━━━━━━━━━━━━━━\u001b[0m\u001b[37m\u001b[0m \u001b[1m2s\u001b[0m 14ms/step - loss: 0.0028 - mae: 0.0361 - val_loss: 0.0027 - val_mae: 0.0408\n",
      "\u001b[1m110/110\u001b[0m \u001b[32m━━━━━━━━━━━━━━━━━━━━\u001b[0m\u001b[37m\u001b[0m \u001b[1m2s\u001b[0m 14ms/step - loss: 0.0025 - mae: 0.0353 - val_loss: 0.0024 - val_mae: 0.0357\n",
      "\u001b[1m110/110\u001b[0m \u001b[32m━━━━━━━━━━━━━━━━━━━━\u001b[0m\u001b[37m\u001b[0m \u001b[1m2s\u001b[0m 14ms/step - loss: 0.0025 - mae: 0.0350 - val_loss: 0.0027 - val_mae: 0.0356\n",
      "\u001b[1m110/110\u001b[0m \u001b[32m━━━━━━━━━━━━━━━━━━━━\u001b[0m\u001b[37m\u001b[0m \u001b[1m2s\u001b[0m 14ms/step - loss: 0.0026 - mae: 0.0342 - val_loss: 0.0045 - val_mae: 0.0392\n",
      "\u001b[1m110/110\u001b[0m \u001b[32m━━━━━━━━━━━━━━━━━━━━\u001b[0m\u001b[37m\u001b[0m \u001b[1m2s\u001b[0m 14ms/step - loss: 0.0024 - mae: 0.0346 - val_loss: 0.0052 - val_mae: 0.0412\n",
      "\u001b[1m110/110\u001b[0m \u001b[32m━━━━━━━━━━━━━━━━━━━━\u001b[0m\u001b[37m\u001b[0m \u001b[1m2s\u001b[0m 15ms/step - loss: 0.0031 - mae: 0.0362 - val_loss: 0.0086 - val_mae: 0.0504\n",
      "\u001b[1m110/110\u001b[0m \u001b[32m━━━━━━━━━━━━━━━━━━━━\u001b[0m\u001b[37m\u001b[0m \u001b[1m2s\u001b[0m 14ms/step - loss: 0.0035 - mae: 0.0382 - val_loss: 0.0073 - val_mae: 0.0516\n",
      "\u001b[1m110/110\u001b[0m \u001b[32m━━━━━━━━━━━━━━━━━━━━\u001b[0m\u001b[37m\u001b[0m \u001b[1m2s\u001b[0m 15ms/step - loss: 0.0035 - mae: 0.0398 - val_loss: 0.0066 - val_mae: 0.0503\n",
      "\u001b[1m110/110\u001b[0m \u001b[32m━━━━━━━━━━━━━━━━━━━━\u001b[0m\u001b[37m\u001b[0m \u001b[1m2s\u001b[0m 14ms/step - loss: 0.0033 - mae: 0.0372 - val_loss: 0.0031 - val_mae: 0.0373\n",
      "\u001b[1m110/110\u001b[0m \u001b[32m━━━━━━━━━━━━━━━━━━━━\u001b[0m\u001b[37m\u001b[0m \u001b[1m2s\u001b[0m 16ms/step - loss: 0.0048 - mae: 0.0424 - val_loss: 0.0050 - val_mae: 0.0487\n",
      "\u001b[1m110/110\u001b[0m \u001b[32m━━━━━━━━━━━━━━━━━━━━\u001b[0m\u001b[37m\u001b[0m \u001b[1m2s\u001b[0m 15ms/step - loss: 0.0042 - mae: 0.0422 - val_loss: 0.0071 - val_mae: 0.0609\n",
      "\u001b[1m110/110\u001b[0m \u001b[32m━━━━━━━━━━━━━━━━━━━━\u001b[0m\u001b[37m\u001b[0m \u001b[1m2s\u001b[0m 15ms/step - loss: 0.0044 - mae: 0.0440 - val_loss: 0.0078 - val_mae: 0.0616\n",
      "\u001b[1m110/110\u001b[0m \u001b[32m━━━━━━━━━━━━━━━━━━━━\u001b[0m\u001b[37m\u001b[0m \u001b[1m2s\u001b[0m 15ms/step - loss: 0.0044 - mae: 0.0446 - val_loss: 0.0090 - val_mae: 0.0688\n",
      "\u001b[1m110/110\u001b[0m \u001b[32m━━━━━━━━━━━━━━━━━━━━\u001b[0m\u001b[37m\u001b[0m \u001b[1m2s\u001b[0m 15ms/step - loss: 0.0047 - mae: 0.0484 - val_loss: 0.0035 - val_mae: 0.0415\n",
      "\u001b[1m110/110\u001b[0m \u001b[32m━━━━━━━━━━━━━━━━━━━━\u001b[0m\u001b[37m\u001b[0m \u001b[1m2s\u001b[0m 16ms/step - loss: 0.0049 - mae: 0.0464 - val_loss: 0.0022 - val_mae: 0.0330\n",
      "\u001b[1m110/110\u001b[0m \u001b[32m━━━━━━━━━━━━━━━━━━━━\u001b[0m\u001b[37m\u001b[0m \u001b[1m2s\u001b[0m 15ms/step - loss: 0.0046 - mae: 0.0444 - val_loss: 0.0035 - val_mae: 0.0417\n",
      "\u001b[1m110/110\u001b[0m \u001b[32m━━━━━━━━━━━━━━━━━━━━\u001b[0m\u001b[37m\u001b[0m \u001b[1m2s\u001b[0m 15ms/step - loss: 0.0052 - mae: 0.0473 - val_loss: 0.0038 - val_mae: 0.0426\n",
      "\u001b[1m110/110\u001b[0m \u001b[32m━━━━━━━━━━━━━━━━━━━━\u001b[0m\u001b[37m\u001b[0m \u001b[1m2s\u001b[0m 14ms/step - loss: 0.0047 - mae: 0.0459 - val_loss: 0.0042 - val_mae: 0.0472\n",
      "\u001b[1m110/110\u001b[0m \u001b[32m━━━━━━━━━━━━━━━━━━━━\u001b[0m\u001b[37m\u001b[0m \u001b[1m2s\u001b[0m 15ms/step - loss: 0.0053 - mae: 0.0472 - val_loss: 0.0035 - val_mae: 0.0413\n",
      "\u001b[1m110/110\u001b[0m \u001b[32m━━━━━━━━━━━━━━━━━━━━\u001b[0m\u001b[37m\u001b[0m \u001b[1m2s\u001b[0m 15ms/step - loss: 0.0060 - mae: 0.0497 - val_loss: 0.0062 - val_mae: 0.0442\n",
      "\u001b[1m110/110\u001b[0m \u001b[32m━━━━━━━━━━━━━━━━━━━━\u001b[0m\u001b[37m\u001b[0m \u001b[1m2s\u001b[0m 15ms/step - loss: 0.0050 - mae: 0.0473 - val_loss: 0.0077 - val_mae: 0.0579\n",
      "\u001b[1m110/110\u001b[0m \u001b[32m━━━━━━━━━━━━━━━━━━━━\u001b[0m\u001b[37m\u001b[0m \u001b[1m2s\u001b[0m 15ms/step - loss: 0.0062 - mae: 0.0509 - val_loss: 0.0081 - val_mae: 0.0582\n",
      "\u001b[1m110/110\u001b[0m \u001b[32m━━━━━━━━━━━━━━━━━━━━\u001b[0m\u001b[37m\u001b[0m \u001b[1m2s\u001b[0m 16ms/step - loss: 0.0054 - mae: 0.0476 - val_loss: 0.0049 - val_mae: 0.0491\n",
      "\u001b[1m110/110\u001b[0m \u001b[32m━━━━━━━━━━━━━━━━━━━━\u001b[0m\u001b[37m\u001b[0m \u001b[1m2s\u001b[0m 15ms/step - loss: 0.0049 - mae: 0.0473 - val_loss: 0.0039 - val_mae: 0.0459\n",
      "\u001b[1m110/110\u001b[0m \u001b[32m━━━━━━━━━━━━━━━━━━━━\u001b[0m\u001b[37m\u001b[0m \u001b[1m2s\u001b[0m 15ms/step - loss: 0.0044 - mae: 0.0458 - val_loss: 0.0024 - val_mae: 0.0334\n",
      "\u001b[1m110/110\u001b[0m \u001b[32m━━━━━━━━━━━━━━━━━━━━\u001b[0m\u001b[37m\u001b[0m \u001b[1m2s\u001b[0m 15ms/step - loss: 0.0044 - mae: 0.0459 - val_loss: 0.0034 - val_mae: 0.0462\n",
      "\u001b[1m110/110\u001b[0m \u001b[32m━━━━━━━━━━━━━━━━━━━━\u001b[0m\u001b[37m\u001b[0m \u001b[1m2s\u001b[0m 16ms/step - loss: 0.0050 - mae: 0.0470 - val_loss: 0.0048 - val_mae: 0.0494\n",
      "\u001b[1m110/110\u001b[0m \u001b[32m━━━━━━━━━━━━━━━━━━━━\u001b[0m\u001b[37m\u001b[0m \u001b[1m2s\u001b[0m 15ms/step - loss: 0.0044 - mae: 0.0454 - val_loss: 0.0041 - val_mae: 0.0455\n",
      "\u001b[1m110/110\u001b[0m \u001b[32m━━━━━━━━━━━━━━━━━━━━\u001b[0m\u001b[37m\u001b[0m \u001b[1m2s\u001b[0m 15ms/step - loss: 0.0039 - mae: 0.0421 - val_loss: 0.0026 - val_mae: 0.0343\n",
      "\u001b[1m110/110\u001b[0m \u001b[32m━━━━━━━━━━━━━━━━━━━━\u001b[0m\u001b[37m\u001b[0m \u001b[1m2s\u001b[0m 15ms/step - loss: 0.0042 - mae: 0.0435 - val_loss: 0.0022 - val_mae: 0.0319\n",
      "\u001b[1m110/110\u001b[0m \u001b[32m━━━━━━━━━━━━━━━━━━━━\u001b[0m\u001b[37m\u001b[0m \u001b[1m2s\u001b[0m 15ms/step - loss: 0.0038 - mae: 0.0408 - val_loss: 0.0022 - val_mae: 0.0292\n",
      "\u001b[1m110/110\u001b[0m \u001b[32m━━━━━━━━━━━━━━━━━━━━\u001b[0m\u001b[37m\u001b[0m \u001b[1m2s\u001b[0m 15ms/step - loss: 0.0036 - mae: 0.0399 - val_loss: 0.0024 - val_mae: 0.0336\n",
      "\u001b[1m110/110\u001b[0m \u001b[32m━━━━━━━━━━━━━━━━━━━━\u001b[0m\u001b[37m\u001b[0m \u001b[1m2s\u001b[0m 15ms/step - loss: 0.0036 - mae: 0.0392 - val_loss: 0.0022 - val_mae: 0.0326\n",
      "\u001b[1m110/110\u001b[0m \u001b[32m━━━━━━━━━━━━━━━━━━━━\u001b[0m\u001b[37m\u001b[0m \u001b[1m2s\u001b[0m 15ms/step - loss: 0.0042 - mae: 0.0409 - val_loss: 0.0072 - val_mae: 0.0388\n",
      "\u001b[1m110/110\u001b[0m \u001b[32m━━━━━━━━━━━━━━━━━━━━\u001b[0m\u001b[37m\u001b[0m \u001b[1m2s\u001b[0m 15ms/step - loss: 0.0048 - mae: 0.0431 - val_loss: 0.0087 - val_mae: 0.0498\n",
      "\u001b[1m110/110\u001b[0m \u001b[32m━━━━━━━━━━━━━━━━━━━━\u001b[0m\u001b[37m\u001b[0m \u001b[1m2s\u001b[0m 15ms/step - loss: 0.0048 - mae: 0.0424 - val_loss: 0.0041 - val_mae: 0.0404\n",
      "\u001b[1m110/110\u001b[0m \u001b[32m━━━━━━━━━━━━━━━━━━━━\u001b[0m\u001b[37m\u001b[0m \u001b[1m2s\u001b[0m 15ms/step - loss: 0.0038 - mae: 0.0411 - val_loss: 0.0020 - val_mae: 0.0318\n",
      "\u001b[1m110/110\u001b[0m \u001b[32m━━━━━━━━━━━━━━━━━━━━\u001b[0m\u001b[37m\u001b[0m \u001b[1m2s\u001b[0m 15ms/step - loss: 0.0040 - mae: 0.0400 - val_loss: 0.0017 - val_mae: 0.0303\n",
      "\u001b[1m110/110\u001b[0m \u001b[32m━━━━━━━━━━━━━━━━━━━━\u001b[0m\u001b[37m\u001b[0m \u001b[1m2s\u001b[0m 15ms/step - loss: 0.0030 - mae: 0.0361 - val_loss: 0.0013 - val_mae: 0.0283\n",
      "\u001b[1m110/110\u001b[0m \u001b[32m━━━━━━━━━━━━━━━━━━━━\u001b[0m\u001b[37m\u001b[0m \u001b[1m2s\u001b[0m 15ms/step - loss: 0.0036 - mae: 0.0381 - val_loss: 0.0014 - val_mae: 0.0278\n",
      "\u001b[1m110/110\u001b[0m \u001b[32m━━━━━━━━━━━━━━━━━━━━\u001b[0m\u001b[37m\u001b[0m \u001b[1m2s\u001b[0m 15ms/step - loss: 0.0039 - mae: 0.0364 - val_loss: 0.0017 - val_mae: 0.0242\n"
     ]
    }
   ],
   "source": [
    "params = {'lstm_units_1': 64, 'lstm_units_2': 128, 'dropout': 0.2, 'learning_rate': 0.005326718162056909, 'batch_size': 32, 'dense_units': 16, 'sequence_length': 10, 'gradient_clipping': 0.5, 'optimizer': 'adam', 'activation': 'tanh', 'num_indicators': 16, 'scaler_type': 'MinMaxScaler', 'timeframe': '1m', 'window_size': 80, 'look_ahead_size': 20}\n",
    "\n",
    "model_df, test_df = load_model_test_split(timeframe_filenames, params)\n",
    "model = custom_model(model_df, params)"
   ]
  },
  {
   "cell_type": "code",
   "execution_count": 66,
   "metadata": {},
   "outputs": [
    {
     "name": "stdout",
     "output_type": "stream",
     "text": [
      "Model saved to ../models/model_1m_eth_v0.keras\n"
     ]
    }
   ],
   "source": [
    "hp.save_model(model, '../models/model_1m_eth_v0.keras')"
   ]
  },
  {
   "cell_type": "code",
   "execution_count": 67,
   "metadata": {},
   "outputs": [
    {
     "name": "stdout",
     "output_type": "stream",
     "text": [
      "Test data dumped\n",
      "\u001b[1m174/174\u001b[0m \u001b[32m━━━━━━━━━━━━━━━━━━━━\u001b[0m\u001b[37m\u001b[0m \u001b[1m1s\u001b[0m 6ms/step - loss: 0.0340 - mae: 0.1303\n",
      "Test loss: 0.03963527828454971, Test MAE: 0.14020584523677826\n"
     ]
    }
   ],
   "source": [
    "import joblib\n",
    "\n",
    "X_test, y_test = test_data(test_df, params)\n",
    "# Save the test data\n",
    "\n",
    "test_loss, test_mae = model.evaluate(X_test, y_test, verbose=1)\n",
    "print(f'Test loss: {test_loss}, Test MAE: {test_mae}')"
   ]
  },
  {
   "cell_type": "code",
   "execution_count": 75,
   "metadata": {},
   "outputs": [
    {
     "name": "stdout",
     "output_type": "stream",
     "text": [
      "\u001b[1m174/174\u001b[0m \u001b[32m━━━━━━━━━━━━━━━━━━━━\u001b[0m\u001b[37m\u001b[0m \u001b[1m1s\u001b[0m 4ms/step\n"
     ]
    },
    {
     "data": {
      "image/png": "[encoded data removed]",
      "text/plain": [
       "<Figure size 640x480 with 1 Axes>"
      ]
     },
     "metadata": {},
     "output_type": "display_data"
    }
   ],
   "source": [
    "scaler_y = joblib.load('../data/processed/scaler_y.pkl')\n",
    "y_real = joblib.load('../data/processed/y_realTest.pkl')\n",
    "y_pred = model.predict(X_test)\n",
    "y_pred = scaler_y.inverse_transform(y_pred)\n",
    "hp.distribution_plot(y_real,y_pred, colors=['blue', 'blue', 'red', 'red'])\n"
   ]
  },
  {
   "cell_type": "code",
   "execution_count": 3,
   "metadata": {},
   "outputs": [],
   "source": [
    "# Objective function for optimization\n",
    "def objective(trial):\n",
    "\n",
    "    # MODEL CREATION\n",
    "    params = {\n",
    "        # LSTM Units\n",
    "        \"lstm_units_1\": trial.suggest_categorical(\"lstm_units_1\", [64, 128, 256]),\n",
    "        \"lstm_units_2\": trial.suggest_categorical(\"lstm_units_2\", [32, 64, 128]),\n",
    "\n",
    "        # Dropout rate for regularization\n",
    "        \"dropout\": trial.suggest_categorical(\"dropout\", [0.1, 0.2, 0.3, 0.5]),\n",
    "\n",
    "        # Learning rate for the optimizer (log scale for better range)\n",
    "        \"learning_rate\": trial.suggest_float('learning_rate', 1e-5, 1e-1, log=True),\n",
    "\n",
    "        # Batch size (common choices)\n",
    "        \"batch_size\": trial.suggest_categorical(\"batch_size\", [16, 32, 64, 128]),\n",
    "\n",
    "        # Dense layer units (for fully connected layers after LSTM)\n",
    "        \"dense_units\": trial.suggest_categorical(\"dense_units\", [16, 32, 64, 128]),\n",
    "\n",
    "        # Sequence length (historical data considered for prediction)\n",
    "        \"sequence_length\": trial.suggest_categorical(\"sequence_length\", [10, 20, 50, 100]),\n",
    "\n",
    "        # Gradient clipping for preventing exploding gradients\n",
    "        \"gradient_clipping\": trial.suggest_categorical(\"gradient_clipping\", [0.5, 1.0, 2.0]),\n",
    "\n",
    "        # Optimizer choice (Adam or RMSprop)\n",
    "        \"optimizer\": trial.suggest_categorical(\"optimizer\", ['adam', 'rmsprop']),\n",
    "\n",
    "        # Activation function for layers\n",
    "        \"activation\": trial.suggest_categorical(\"activation\", ['relu', 'tanh']),\n",
    "\n",
    "        \"num_indicators\" : trial.suggest_int('num_indicators', 5, 46),\n",
    "\n",
    "        \"scaler_type\" : trial.suggest_categorical('scaler', ['MinMaxScaler', 'StandardScaler', 'RobustScaler']),\n",
    " \n",
    "        'timeframe': '1m', \n",
    "        'window_size': 80, \n",
    "        'look_ahead_size': 20\n",
    "    }\n",
    "\n",
    "    # DATA CREATION AND PROCESSING\n",
    "    timeframe_filenames = {\n",
    "    \"1m\": \"../data/raw/ETHUSDT_1m_v600k.csv\",\n",
    "    \"3m\": \"../data/raw/DOGEUSDT_3m_v0.csv\",\n",
    "    \"5m\": \"../data/raw/DOGEUSDT_5m_v0.csv\",\n",
    "    \"15m\": \"../data/raw/DOGEUSDT_15m_v0.csv\",\n",
    "    \"30m\": \"../data/raw/DOGEUSDT_30m_v0.csv\"\n",
    "}\n",
    "\n",
    "    model_df, test_df = load_model_test_split(timeframe_filenames, params)\n",
    "\n",
    "    print(params)\n",
    "    model = custom_model(model_df, params, tuning=True, trial=trial)\n",
    "\n",
    "    # Check if the trial is pruned after training\n",
    "    if trial.should_prune():\n",
    "        print(\"Trial pruned after training.\")\n",
    "        raise optuna.exceptions.TrialPruned()\n",
    "    \n",
    "    X_test, y_test = test_data(test_df, params)\n",
    "    \n",
    "    test_loss, test_mae = model.evaluate(X_test, y_test, verbose=1)\n",
    "    \n",
    "    return test_mae \n",
    "    "
   ]
  },
  {
   "cell_type": "code",
   "execution_count": null,
   "metadata": {},
   "outputs": [
    {
     "name": "stdout",
     "output_type": "stream",
     "text": [
      "Dataset loaded from ../data/raw/ETHUSDT_1m_v600k.csv.\n",
      "{'lstm_units_1': 256, 'lstm_units_2': 32, 'dropout': 0.3, 'learning_rate': 0.00038625163133958684, 'batch_size': 128, 'dense_units': 16, 'sequence_length': 100, 'gradient_clipping': 0.5, 'optimizer': 'rmsprop', 'activation': 'relu', 'num_indicators': 34, 'scaler_type': 'MinMaxScaler', 'timeframe': '1m', 'window_size': 80, 'look_ahead_size': 20}\n"
     ]
    },
    {
     "name": "stderr",
     "output_type": "stream",
     "text": [
      "I0000 00:00:1736223426.619844  463443 gpu_device.cc:2022] Created device /job:localhost/replica:0/task:0/device:GPU:0 with 164 MB memory:  -> device: 0, name: NVIDIA GeForce GTX 1060, pci bus id: 0000:02:00.0, compute capability: 6.1\n"
     ]
    }
   ],
   "source": [
    "\n",
    "storage_path = \"sqlite:///../optuna/study.db\"\n",
    "pruner = optuna.pruners.MedianPruner(n_startup_trials=5, n_warmup_steps=10)\n",
    "\n",
    "#optuna.delete_study(study_name=\"the_study\", storage=storage_path)\n",
    "#study = optuna.create_study(storage=storage_path, study_name=\"the_study\", direction='minimize', pruner=pruner)\n",
    "\n",
    "study = optuna.load_study(storage=storage_path, study_name=\"the_study\")\n",
    "\n",
    "study.optimize(objective, n_trials=100)  # Run 100 trials\n",
    "\n",
    "\n",
    "# Get the best parameters\n",
    "print(\"Best parameters:\", study.best_params)\n"
   ]
  },
  {
   "cell_type": "code",
   "execution_count": null,
   "metadata": {},
   "outputs": [],
   "source": []
  }
 ],
 "metadata": {
  "kernelspec": {
   "display_name": ".venv",
   "language": "python",
   "name": "python3"
  },
  "language_info": {
   "codemirror_mode": {
    "name": "ipython",
    "version": 3
   },
   "file_extension": ".py",
   "mimetype": "text/x-python",
   "name": "python",
   "nbconvert_exporter": "python",
   "pygments_lexer": "ipython3",
   "version": "3.10.12"
  }
 },
 "nbformat": 4,
 "nbformat_minor": 2
}
